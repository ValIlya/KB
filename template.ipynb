{
 "cells": [
  {
   "cell_type": "code",
   "execution_count": 1,
   "metadata": {},
   "outputs": [
    {
     "name": "stdout",
     "output_type": "stream",
     "text": [
      "Populating the interactive namespace from numpy and matplotlib\n"
     ]
    }
   ],
   "source": [
    "import seaborn as sns\n",
    "import numpy as np\n",
    "import scipy\n",
    "import pandas as pd\n",
    "import matplotlib.pyplot as plt\n",
    "from IPython.display import display\n",
    "%pylab inline\n",
    "import os\n",
    "from __future__ import print_function\n",
    "from __future__ import division\n",
    "import os, sys\n",
    "# hook up all scripts\n",
    "sys.path.append(os.path.abspath('../scripts')) # if notebook in folder\n",
    "sys.path.append(os.path.abspath('./scripts')) #if in root\n",
    "import preprocessing_time_series as pts\n",
    "\n",
    "\n",
    "os.chdir(pts.working_dir())"
   ]
  },
  {
   "cell_type": "code",
   "execution_count": 2,
   "metadata": {},
   "outputs": [
    {
     "data": {
      "text/plain": [
       "['.DS_Store',\n",
       " 'categories_hierarhy.tsv',\n",
       " 'cliente_tabla.csv',\n",
       " 'cliente_tabla.csv.zip',\n",
       " 'producto_tabla.csv',\n",
       " 'producto_tabla.csv.zip',\n",
       " 'producto_tabla_w_clusters.csv',\n",
       " 'sample_submission.csv',\n",
       " 'sample_submission.csv.zip',\n",
       " 'States',\n",
       " 'test.csv',\n",
       " 'test.csv.zip',\n",
       " 'test_preprocessed.csv',\n",
       " 'town_state.csv',\n",
       " 'town_state.csv.zip',\n",
       " 'train.csv',\n",
       " 'train.csv.zip',\n",
       " 'train_JALISCO_timeseries.csv',\n",
       " 'train_sample.csv',\n",
       " 'train_sample.csv.zip',\n",
       " 'train_SONORA_timeseries.csv']"
      ]
     },
     "execution_count": 2,
     "output_type": "execute_result",
     "metadata": {}
    }
   ],
   "source": [
    "os.listdir('.')"
   ]
  },
  {
   "cell_type": "code",
   "execution_count": null,
   "metadata": {},
   "outputs": [],
   "source": [
    ""
   ]
  }
 ],
 "metadata": {
  "kernelspec": {
   "display_name": "Python [Root]",
   "language": "python",
   "name": "Python [Root]"
  },
  "language_info": {
   "codemirror_mode": {
    "name": "ipython",
    "version": 2.0
   },
   "file_extension": ".py",
   "mimetype": "text/x-python",
   "name": "python",
   "nbconvert_exporter": "python",
   "pygments_lexer": "ipython2",
   "version": "2.7.12"
  }
 },
 "nbformat": 4,
 "nbformat_minor": 0
}