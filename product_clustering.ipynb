{
 "cells": [
  {
   "cell_type": "code",
   "execution_count": 1,
   "metadata": {
    "ExecuteTime": {
     "end_time": "2016-07-13T11:41:46.592638",
     "start_time": "2016-07-13T11:41:44.525296"
    },
    "collapsed": false
   },
   "outputs": [
    {
     "name": "stdout",
     "output_type": "stream",
     "text": [
      "Populating the interactive namespace from numpy and matplotlib\n"
     ]
    }
   ],
   "source": [
    "import seaborn as sns\n",
    "import numpy as np\n",
    "import scipy\n",
    "import pandas as pd\n",
    "import matplotlib.pyplot as plt\n",
    "from IPython.display import display\n",
    "%pylab inline\n",
    "import os\n",
    "import re\n",
    "from __future__ import print_function\n",
    "import sys\n",
    "sys.path.append(os.path.abspath(os.path.join(os.path.dirname('__file__'), '.')))\n",
    "if 'ilya' in os.getcwd():\n",
    "    os.chdir('/Users/ilya/Documents/Kaggle_Bimbo/')\n",
    "elif 'romul' in os.getcwd():\n",
    "    os.chdir('/home/romul/kaggle/Bimbo/')\n",
    "else:\n",
    "    os.chdir('/Users/margarita/Kaggle/Bimbo/')"
   ]
  },
  {
   "cell_type": "markdown",
   "metadata": {},
   "source": [
    "Пока что начнем с копипасты с кагла."
   ]
  },
  {
   "cell_type": "code",
   "execution_count": 2,
   "metadata": {
    "ExecuteTime": {
     "end_time": "2016-07-13T11:41:46.687136",
     "start_time": "2016-07-13T11:41:46.595223"
    },
    "collapsed": false
   },
   "outputs": [
    {
     "name": "stdout",
     "output_type": "stream",
     "text": [
      "2592\n"
     ]
    },
    {
     "data": {
      "text/html": [
       "<div>\n",
       "<table border=\"1\" class=\"dataframe\">\n",
       "  <thead>\n",
       "    <tr style=\"text-align: right;\">\n",
       "      <th></th>\n",
       "      <th>Producto_ID</th>\n",
       "      <th>NombreProducto</th>\n",
       "      <th>short_name</th>\n",
       "      <th>brand</th>\n",
       "      <th>weight</th>\n",
       "      <th>pieces</th>\n",
       "    </tr>\n",
       "  </thead>\n",
       "  <tbody>\n",
       "    <tr>\n",
       "      <th>0</th>\n",
       "      <td>0</td>\n",
       "      <td>NO IDENTIFICADO 0</td>\n",
       "      <td>NO IDENTIFICADO</td>\n",
       "      <td>IDENTIFICADO</td>\n",
       "      <td>NaN</td>\n",
       "      <td>NaN</td>\n",
       "    </tr>\n",
       "    <tr>\n",
       "      <th>1</th>\n",
       "      <td>9</td>\n",
       "      <td>Capuccino Moka 750g NES 9</td>\n",
       "      <td>Capuccino Moka</td>\n",
       "      <td>NES</td>\n",
       "      <td>750.0</td>\n",
       "      <td>NaN</td>\n",
       "    </tr>\n",
       "    <tr>\n",
       "      <th>2</th>\n",
       "      <td>41</td>\n",
       "      <td>Bimbollos Ext s Ajonjoli 6p 480g BIM 41</td>\n",
       "      <td>Bimbollos Ext s Ajonjoli</td>\n",
       "      <td>BIM</td>\n",
       "      <td>480.0</td>\n",
       "      <td>6.0</td>\n",
       "    </tr>\n",
       "    <tr>\n",
       "      <th>3</th>\n",
       "      <td>53</td>\n",
       "      <td>Burritos Sincro 170g CU LON 53</td>\n",
       "      <td>Burritos Sincro</td>\n",
       "      <td>LON</td>\n",
       "      <td>170.0</td>\n",
       "      <td>NaN</td>\n",
       "    </tr>\n",
       "    <tr>\n",
       "      <th>4</th>\n",
       "      <td>72</td>\n",
       "      <td>Div Tira Mini Doradita 4p 45g TR 72</td>\n",
       "      <td>Div Tira Mini Doradita</td>\n",
       "      <td>TR</td>\n",
       "      <td>45.0</td>\n",
       "      <td>4.0</td>\n",
       "    </tr>\n",
       "  </tbody>\n",
       "</table>\n",
       "</div>"
      ],
      "text/plain": [
       "   Producto_ID                           NombreProducto  \\\n",
       "0            0                        NO IDENTIFICADO 0   \n",
       "1            9                Capuccino Moka 750g NES 9   \n",
       "2           41  Bimbollos Ext s Ajonjoli 6p 480g BIM 41   \n",
       "3           53           Burritos Sincro 170g CU LON 53   \n",
       "4           72      Div Tira Mini Doradita 4p 45g TR 72   \n",
       "\n",
       "                  short_name         brand  weight  pieces  \n",
       "0           NO IDENTIFICADO   IDENTIFICADO     NaN     NaN  \n",
       "1            Capuccino Moka            NES   750.0     NaN  \n",
       "2  Bimbollos Ext s Ajonjoli            BIM   480.0     6.0  \n",
       "3           Burritos Sincro            LON   170.0     NaN  \n",
       "4    Div Tira Mini Doradita             TR    45.0     4.0  "
      ]
     },
     "execution_count": 2,
     "metadata": {},
     "output_type": "execute_result"
    }
   ],
   "source": [
    "products  =  pd.read_csv(\"producto_tabla.csv\")\n",
    "products  =  pd.read_csv(\"producto_tabla.csv\")\n",
    "\n",
    "# MiniMilk => Mini Milk\n",
    "products.NombreProducto = products.NombreProducto.map(lambda x: re.sub(r'([a-z])([A-Z])', r'\\1 \\2', x))\n",
    "\n",
    "products['short_name'] = products.NombreProducto.str.extract('^(\\D*)', expand=False)\n",
    "products['brand'] = products.NombreProducto.str.extract('^.+\\s(\\D+) \\d+$', expand=False)\n",
    "w = products.NombreProducto.str.extract('(\\d+)(Kg|g)', expand=True)\n",
    "products['weight'] = w[0].astype('float')*w[1].map({'Kg':1000, 'g':1})\n",
    "products['pieces'] =  products.NombreProducto.str.extract('(\\d+)p ', expand=False).astype('float')\n",
    "print(products.shape[0])\n",
    "products.head()"
   ]
  },
  {
   "cell_type": "markdown",
   "metadata": {},
   "source": [
    "__Проверить как сказывается разделение по заглавным__"
   ]
  },
  {
   "cell_type": "code",
   "execution_count": 3,
   "metadata": {
    "ExecuteTime": {
     "end_time": "2016-07-13T11:41:50.982147",
     "start_time": "2016-07-13T11:41:50.952609"
    },
    "collapsed": false
   },
   "outputs": [
    {
     "data": {
      "text/html": [
       "<div>\n",
       "<table border=\"1\" class=\"dataframe\">\n",
       "  <thead>\n",
       "    <tr style=\"text-align: right;\">\n",
       "      <th></th>\n",
       "      <th>Producto_ID</th>\n",
       "      <th>NombreProducto</th>\n",
       "      <th>short_name</th>\n",
       "      <th>brand</th>\n",
       "      <th>weight</th>\n",
       "      <th>pieces</th>\n",
       "    </tr>\n",
       "  </thead>\n",
       "  <tbody>\n",
       "    <tr>\n",
       "      <th>1819</th>\n",
       "      <td>37157</td>\n",
       "      <td>12 Tarima Mini Milk Kitty Nav 110g GBI 37157</td>\n",
       "      <td></td>\n",
       "      <td>GBI</td>\n",
       "      <td>110.0</td>\n",
       "      <td>NaN</td>\n",
       "    </tr>\n",
       "    <tr>\n",
       "      <th>1860</th>\n",
       "      <td>37373</td>\n",
       "      <td>12Tarima Mini Milk Kitty Sn Val 110g GBI 37373</td>\n",
       "      <td></td>\n",
       "      <td>GBI</td>\n",
       "      <td>110.0</td>\n",
       "      <td>NaN</td>\n",
       "    </tr>\n",
       "  </tbody>\n",
       "</table>\n",
       "</div>"
      ],
      "text/plain": [
       "      Producto_ID                                  NombreProducto short_name  \\\n",
       "1819        37157    12 Tarima Mini Milk Kitty Nav 110g GBI 37157              \n",
       "1860        37373  12Tarima Mini Milk Kitty Sn Val 110g GBI 37373              \n",
       "\n",
       "     brand  weight  pieces  \n",
       "1819   GBI   110.0     NaN  \n",
       "1860   GBI   110.0     NaN  "
      ]
     },
     "execution_count": 3,
     "metadata": {},
     "output_type": "execute_result"
    }
   ],
   "source": [
    "products.loc[[1819, 1860],:]"
   ]
  },
  {
   "cell_type": "code",
   "execution_count": 4,
   "metadata": {
    "ExecuteTime": {
     "end_time": "2016-07-13T11:41:46.698146",
     "start_time": "2016-07-13T11:41:46.689872"
    },
    "collapsed": false
   },
   "outputs": [
    {
     "name": "stdout",
     "output_type": "stream",
     "text": [
      "2592 1010\n"
     ]
    }
   ],
   "source": [
    "print(products.NombreProducto.nunique(), products.short_name.nunique())"
   ]
  },
  {
   "cell_type": "markdown",
   "metadata": {},
   "source": [
    "Названия некоторых продуктов начинается с цифры, поэтому short_name получается пустой строкой."
   ]
  },
  {
   "cell_type": "code",
   "execution_count": 5,
   "metadata": {
    "ExecuteTime": {
     "end_time": "2016-07-13T11:41:48.242352",
     "start_time": "2016-07-13T11:41:48.215882"
    },
    "collapsed": false
   },
   "outputs": [
    {
     "data": {
      "text/html": [
       "<div>\n",
       "<table border=\"1\" class=\"dataframe\">\n",
       "  <thead>\n",
       "    <tr style=\"text-align: right;\">\n",
       "      <th></th>\n",
       "      <th>Producto_ID</th>\n",
       "      <th>NombreProducto</th>\n",
       "      <th>short_name</th>\n",
       "      <th>brand</th>\n",
       "      <th>weight</th>\n",
       "      <th>pieces</th>\n",
       "    </tr>\n",
       "  </thead>\n",
       "  <tbody>\n",
       "    <tr>\n",
       "      <th>57</th>\n",
       "      <td>714</td>\n",
       "      <td>7 Granos 680g ORO 714</td>\n",
       "      <td></td>\n",
       "      <td>ORO</td>\n",
       "      <td>680.0</td>\n",
       "      <td>NaN</td>\n",
       "    </tr>\n",
       "    <tr>\n",
       "      <th>365</th>\n",
       "      <td>9753</td>\n",
       "      <td>100pct Whole Wheat 680g ORO 9753</td>\n",
       "      <td></td>\n",
       "      <td>ORO</td>\n",
       "      <td>680.0</td>\n",
       "      <td>NaN</td>\n",
       "    </tr>\n",
       "    <tr>\n",
       "      <th>1819</th>\n",
       "      <td>37157</td>\n",
       "      <td>12 Tarima Mini Milk Kitty Nav 110g GBI 37157</td>\n",
       "      <td></td>\n",
       "      <td>GBI</td>\n",
       "      <td>110.0</td>\n",
       "      <td>NaN</td>\n",
       "    </tr>\n",
       "    <tr>\n",
       "      <th>1860</th>\n",
       "      <td>37373</td>\n",
       "      <td>12Tarima Mini Milk Kitty Sn Val 110g GBI 37373</td>\n",
       "      <td></td>\n",
       "      <td>GBI</td>\n",
       "      <td>110.0</td>\n",
       "      <td>NaN</td>\n",
       "    </tr>\n",
       "    <tr>\n",
       "      <th>2080</th>\n",
       "      <td>43111</td>\n",
       "      <td>100pct Whole Wheat 680g MTA ORO 43111</td>\n",
       "      <td></td>\n",
       "      <td>ORO</td>\n",
       "      <td>680.0</td>\n",
       "      <td>NaN</td>\n",
       "    </tr>\n",
       "    <tr>\n",
       "      <th>2102</th>\n",
       "      <td>43160</td>\n",
       "      <td>7 Granos 680g MTA ORO 43160</td>\n",
       "      <td></td>\n",
       "      <td>ORO</td>\n",
       "      <td>680.0</td>\n",
       "      <td>NaN</td>\n",
       "    </tr>\n",
       "    <tr>\n",
       "      <th>2209</th>\n",
       "      <td>43364</td>\n",
       "      <td>12Granos Multigra Twin Pack 1360g MTA ORO 43364</td>\n",
       "      <td></td>\n",
       "      <td>ORO</td>\n",
       "      <td>1360.0</td>\n",
       "      <td>NaN</td>\n",
       "    </tr>\n",
       "    <tr>\n",
       "      <th>2479</th>\n",
       "      <td>48227</td>\n",
       "      <td>12Granos Multigra Twin Pack 1360g TAB ORO 48227</td>\n",
       "      <td></td>\n",
       "      <td>ORO</td>\n",
       "      <td>1360.0</td>\n",
       "      <td>NaN</td>\n",
       "    </tr>\n",
       "    <tr>\n",
       "      <th>2480</th>\n",
       "      <td>48228</td>\n",
       "      <td>7 Granos 680g TAB ORO 48228</td>\n",
       "      <td></td>\n",
       "      <td>ORO</td>\n",
       "      <td>680.0</td>\n",
       "      <td>NaN</td>\n",
       "    </tr>\n",
       "  </tbody>\n",
       "</table>\n",
       "</div>"
      ],
      "text/plain": [
       "      Producto_ID                                   NombreProducto short_name  \\\n",
       "57            714                            7 Granos 680g ORO 714              \n",
       "365          9753                 100pct Whole Wheat 680g ORO 9753              \n",
       "1819        37157     12 Tarima Mini Milk Kitty Nav 110g GBI 37157              \n",
       "1860        37373   12Tarima Mini Milk Kitty Sn Val 110g GBI 37373              \n",
       "2080        43111            100pct Whole Wheat 680g MTA ORO 43111              \n",
       "2102        43160                      7 Granos 680g MTA ORO 43160              \n",
       "2209        43364  12Granos Multigra Twin Pack 1360g MTA ORO 43364              \n",
       "2479        48227  12Granos Multigra Twin Pack 1360g TAB ORO 48227              \n",
       "2480        48228                      7 Granos 680g TAB ORO 48228              \n",
       "\n",
       "     brand  weight  pieces  \n",
       "57     ORO   680.0     NaN  \n",
       "365    ORO   680.0     NaN  \n",
       "1819   GBI   110.0     NaN  \n",
       "1860   GBI   110.0     NaN  \n",
       "2080   ORO   680.0     NaN  \n",
       "2102   ORO   680.0     NaN  \n",
       "2209   ORO  1360.0     NaN  \n",
       "2479   ORO  1360.0     NaN  \n",
       "2480   ORO   680.0     NaN  "
      ]
     },
     "execution_count": 5,
     "metadata": {},
     "output_type": "execute_result"
    }
   ],
   "source": [
    "products[products.short_name == \"\"] "
   ]
  },
  {
   "cell_type": "code",
   "execution_count": 6,
   "metadata": {
    "ExecuteTime": {
     "end_time": "2016-07-13T11:41:48.541554",
     "start_time": "2016-07-13T11:41:48.466549"
    },
    "collapsed": false
   },
   "outputs": [
    {
     "data": {
      "text/html": [
       "<div>\n",
       "<table border=\"1\" class=\"dataframe\">\n",
       "  <thead>\n",
       "    <tr style=\"text-align: right;\">\n",
       "      <th></th>\n",
       "      <th>Producto_ID</th>\n",
       "      <th>NombreProducto</th>\n",
       "      <th>short_name</th>\n",
       "      <th>brand</th>\n",
       "      <th>weight</th>\n",
       "      <th>pieces</th>\n",
       "    </tr>\n",
       "  </thead>\n",
       "  <tbody>\n",
       "    <tr>\n",
       "      <th>57</th>\n",
       "      <td>714</td>\n",
       "      <td>7 Granos 680g ORO 714</td>\n",
       "      <td>Granos</td>\n",
       "      <td>ORO</td>\n",
       "      <td>680.0</td>\n",
       "      <td>NaN</td>\n",
       "    </tr>\n",
       "    <tr>\n",
       "      <th>365</th>\n",
       "      <td>9753</td>\n",
       "      <td>100pct Whole Wheat 680g ORO 9753</td>\n",
       "      <td>Whole Wheat</td>\n",
       "      <td>ORO</td>\n",
       "      <td>680.0</td>\n",
       "      <td>NaN</td>\n",
       "    </tr>\n",
       "    <tr>\n",
       "      <th>1819</th>\n",
       "      <td>37157</td>\n",
       "      <td>12 Tarima Mini Milk Kitty Nav 110g GBI 37157</td>\n",
       "      <td>Tarima Mini Milk Kitty Nav</td>\n",
       "      <td>GBI</td>\n",
       "      <td>110.0</td>\n",
       "      <td>NaN</td>\n",
       "    </tr>\n",
       "    <tr>\n",
       "      <th>1860</th>\n",
       "      <td>37373</td>\n",
       "      <td>12Tarima Mini Milk Kitty Sn Val 110g GBI 37373</td>\n",
       "      <td>Tarima Mini Milk Kitty Sn Val</td>\n",
       "      <td>GBI</td>\n",
       "      <td>110.0</td>\n",
       "      <td>NaN</td>\n",
       "    </tr>\n",
       "    <tr>\n",
       "      <th>2080</th>\n",
       "      <td>43111</td>\n",
       "      <td>100pct Whole Wheat 680g MTA ORO 43111</td>\n",
       "      <td>Whole Wheat</td>\n",
       "      <td>ORO</td>\n",
       "      <td>680.0</td>\n",
       "      <td>NaN</td>\n",
       "    </tr>\n",
       "    <tr>\n",
       "      <th>2102</th>\n",
       "      <td>43160</td>\n",
       "      <td>7 Granos 680g MTA ORO 43160</td>\n",
       "      <td>Granos</td>\n",
       "      <td>ORO</td>\n",
       "      <td>680.0</td>\n",
       "      <td>NaN</td>\n",
       "    </tr>\n",
       "    <tr>\n",
       "      <th>2209</th>\n",
       "      <td>43364</td>\n",
       "      <td>12Granos Multigra Twin Pack 1360g MTA ORO 43364</td>\n",
       "      <td>Granos Multigra Twin Pack</td>\n",
       "      <td>ORO</td>\n",
       "      <td>1360.0</td>\n",
       "      <td>NaN</td>\n",
       "    </tr>\n",
       "    <tr>\n",
       "      <th>2479</th>\n",
       "      <td>48227</td>\n",
       "      <td>12Granos Multigra Twin Pack 1360g TAB ORO 48227</td>\n",
       "      <td>Granos Multigra Twin Pack</td>\n",
       "      <td>ORO</td>\n",
       "      <td>1360.0</td>\n",
       "      <td>NaN</td>\n",
       "    </tr>\n",
       "    <tr>\n",
       "      <th>2480</th>\n",
       "      <td>48228</td>\n",
       "      <td>7 Granos 680g TAB ORO 48228</td>\n",
       "      <td>Granos</td>\n",
       "      <td>ORO</td>\n",
       "      <td>680.0</td>\n",
       "      <td>NaN</td>\n",
       "    </tr>\n",
       "  </tbody>\n",
       "</table>\n",
       "</div>"
      ],
      "text/plain": [
       "      Producto_ID                                   NombreProducto  \\\n",
       "57            714                            7 Granos 680g ORO 714   \n",
       "365          9753                 100pct Whole Wheat 680g ORO 9753   \n",
       "1819        37157     12 Tarima Mini Milk Kitty Nav 110g GBI 37157   \n",
       "1860        37373   12Tarima Mini Milk Kitty Sn Val 110g GBI 37373   \n",
       "2080        43111            100pct Whole Wheat 680g MTA ORO 43111   \n",
       "2102        43160                      7 Granos 680g MTA ORO 43160   \n",
       "2209        43364  12Granos Multigra Twin Pack 1360g MTA ORO 43364   \n",
       "2479        48227  12Granos Multigra Twin Pack 1360g TAB ORO 48227   \n",
       "2480        48228                      7 Granos 680g TAB ORO 48228   \n",
       "\n",
       "                         short_name brand  weight  pieces  \n",
       "57                           Granos   ORO   680.0     NaN  \n",
       "365                     Whole Wheat   ORO   680.0     NaN  \n",
       "1819     Tarima Mini Milk Kitty Nav   GBI   110.0     NaN  \n",
       "1860  Tarima Mini Milk Kitty Sn Val   GBI   110.0     NaN  \n",
       "2080                    Whole Wheat   ORO   680.0     NaN  \n",
       "2102                         Granos   ORO   680.0     NaN  \n",
       "2209      Granos Multigra Twin Pack   ORO  1360.0     NaN  \n",
       "2479      Granos Multigra Twin Pack   ORO  1360.0     NaN  \n",
       "2480                         Granos   ORO   680.0     NaN  "
      ]
     },
     "execution_count": 6,
     "metadata": {},
     "output_type": "execute_result"
    }
   ],
   "source": [
    "# не умею в регулярки =(\n",
    "def problem_processig(text):\n",
    "    begin, end = None, None\n",
    "    for i, char in enumerate(text):\n",
    "        if not begin:\n",
    "            if char.isupper():\n",
    "                begin = i\n",
    "            else:\n",
    "                continue\n",
    "        else:\n",
    "            if char.isdigit():\n",
    "                end = i - 1\n",
    "                break\n",
    "    return text[begin:end]\n",
    "\n",
    "problem_index = products[products.short_name == \"\"].index\n",
    "products.loc[problem_index, 'short_name'] = products[products.short_name == \"\"].NombreProducto.map(problem_processig)\n",
    "products.loc[problem_index]  "
   ]
  },
  {
   "cell_type": "code",
   "execution_count": 7,
   "metadata": {
    "ExecuteTime": {
     "end_time": "2016-07-13T11:41:48.722550",
     "start_time": "2016-07-13T11:41:48.699561"
    },
    "collapsed": false
   },
   "outputs": [
    {
     "data": {
      "text/plain": [
       "Pan Blanco                39\n",
       "Tortillinas               37\n",
       "Deliciosas Vainilla       35\n",
       "Medias Noches             25\n",
       "Wonder                    22\n",
       "Pan Integral              19\n",
       "Suavicremas Chocolate     17\n",
       "Suavicremas Vainilla      17\n",
       "Deliciosas Chochitos      17\n",
       "Canelitas                 17\n",
       "Name: short_name, dtype: int64"
      ]
     },
     "execution_count": 7,
     "metadata": {},
     "output_type": "execute_result"
    }
   ],
   "source": [
    "products.short_name.value_counts(dropna=False)[:10]"
   ]
  },
  {
   "cell_type": "code",
   "execution_count": 8,
   "metadata": {
    "ExecuteTime": {
     "end_time": "2016-07-13T11:41:50.202897",
     "start_time": "2016-07-13T11:41:49.027745"
    },
    "collapsed": false
   },
   "outputs": [
    {
     "name": "stdout",
     "output_type": "stream",
     "text": [
      "[nltk_data] Downloading package stopwords to /home/romul/nltk_data...\n",
      "[nltk_data]   Package stopwords is already up-to-date!\n"
     ]
    }
   ],
   "source": [
    "import nltk\n",
    "from nltk.corpus import stopwords\n",
    "\n",
    "nltk.download('stopwords')\n",
    "stop = stopwords.words(\"spanish\")"
   ]
  },
  {
   "cell_type": "code",
   "execution_count": 9,
   "metadata": {
    "ExecuteTime": {
     "end_time": "2016-07-13T11:41:50.378295",
     "start_time": "2016-07-13T11:41:50.204992"
    },
    "collapsed": false
   },
   "outputs": [
    {
     "data": {
      "text/plain": [
       "990"
      ]
     },
     "execution_count": 9,
     "metadata": {},
     "output_type": "execute_result"
    }
   ],
   "source": [
    "products['short_name_processed'] = (products['short_name']\n",
    "                                        .map(lambda x: \" \".join([i for i in x.lower().split()\n",
    "                                                                             if i not in stop])))\n",
    "products['short_name_processed'].nunique()"
   ]
  },
  {
   "cell_type": "code",
   "execution_count": 10,
   "metadata": {
    "ExecuteTime": {
     "end_time": "2016-07-13T11:41:50.901817",
     "start_time": "2016-07-13T11:41:50.381356"
    },
    "collapsed": false
   },
   "outputs": [
    {
     "data": {
      "text/plain": [
       "961"
      ]
     },
     "execution_count": 10,
     "metadata": {},
     "output_type": "execute_result"
    }
   ],
   "source": [
    "from nltk.stem.snowball import SnowballStemmer\n",
    "stemmer = SnowballStemmer(\"spanish\")\n",
    "\n",
    "products['short_name_processed'] = (products['short_name_processed']\n",
    "                                        .map(lambda x: \" \".join([stemmer.stem(i) for i in x.lower().split()])))\n",
    "\n",
    "products.short_name_processed.nunique()"
   ]
  },
  {
   "cell_type": "code",
   "execution_count": 11,
   "metadata": {
    "ExecuteTime": {
     "end_time": "2016-07-13T11:41:50.928759",
     "start_time": "2016-07-13T11:41:50.904352"
    },
    "collapsed": false
   },
   "outputs": [
    {
     "data": {
      "text/html": [
       "<div>\n",
       "<table border=\"1\" class=\"dataframe\">\n",
       "  <thead>\n",
       "    <tr style=\"text-align: right;\">\n",
       "      <th></th>\n",
       "      <th>NombreProducto</th>\n",
       "      <th>short_name_processed</th>\n",
       "    </tr>\n",
       "  </thead>\n",
       "  <tbody>\n",
       "    <tr>\n",
       "      <th>0</th>\n",
       "      <td>NO IDENTIFICADO 0</td>\n",
       "      <td>identific</td>\n",
       "    </tr>\n",
       "    <tr>\n",
       "      <th>1</th>\n",
       "      <td>Capuccino Moka 750g NES 9</td>\n",
       "      <td>capuccin mok</td>\n",
       "    </tr>\n",
       "    <tr>\n",
       "      <th>2</th>\n",
       "      <td>Bimbollos Ext s Ajonjoli 6p 480g BIM 41</td>\n",
       "      <td>bimboll ext s ajonjoli</td>\n",
       "    </tr>\n",
       "    <tr>\n",
       "      <th>3</th>\n",
       "      <td>Burritos Sincro 170g CU LON 53</td>\n",
       "      <td>burrit sincr</td>\n",
       "    </tr>\n",
       "    <tr>\n",
       "      <th>4</th>\n",
       "      <td>Div Tira Mini Doradita 4p 45g TR 72</td>\n",
       "      <td>div tir mini doradit</td>\n",
       "    </tr>\n",
       "    <tr>\n",
       "      <th>5</th>\n",
       "      <td>Pan Multigrano Linaza 540g BIM 73</td>\n",
       "      <td>pan multigran linaz</td>\n",
       "    </tr>\n",
       "    <tr>\n",
       "      <th>6</th>\n",
       "      <td>Tostado Integral 180g WON 98</td>\n",
       "      <td>tost integral</td>\n",
       "    </tr>\n",
       "    <tr>\n",
       "      <th>7</th>\n",
       "      <td>Pan Blanco 567g WON 99</td>\n",
       "      <td>pan blanc</td>\n",
       "    </tr>\n",
       "    <tr>\n",
       "      <th>8</th>\n",
       "      <td>Super Pan Bco Ajonjoli 680g SP WON 100</td>\n",
       "      <td>sup pan bco ajonjoli</td>\n",
       "    </tr>\n",
       "    <tr>\n",
       "      <th>9</th>\n",
       "      <td>Wonder 100pct mediano 475g WON 106</td>\n",
       "      <td>wond</td>\n",
       "    </tr>\n",
       "  </tbody>\n",
       "</table>\n",
       "</div>"
      ],
      "text/plain": [
       "                            NombreProducto    short_name_processed\n",
       "0                        NO IDENTIFICADO 0               identific\n",
       "1                Capuccino Moka 750g NES 9            capuccin mok\n",
       "2  Bimbollos Ext s Ajonjoli 6p 480g BIM 41  bimboll ext s ajonjoli\n",
       "3           Burritos Sincro 170g CU LON 53            burrit sincr\n",
       "4      Div Tira Mini Doradita 4p 45g TR 72    div tir mini doradit\n",
       "5        Pan Multigrano Linaza 540g BIM 73     pan multigran linaz\n",
       "6             Tostado Integral 180g WON 98           tost integral\n",
       "7                   Pan Blanco 567g WON 99               pan blanc\n",
       "8   Super Pan Bco Ajonjoli 680g SP WON 100    sup pan bco ajonjoli\n",
       "9       Wonder 100pct mediano 475g WON 106                    wond"
      ]
     },
     "execution_count": 11,
     "metadata": {},
     "output_type": "execute_result"
    }
   ],
   "source": [
    "products[['NombreProducto', 'short_name_processed']].head(10)"
   ]
  },
  {
   "cell_type": "code",
   "execution_count": 12,
   "metadata": {
    "ExecuteTime": {
     "end_time": "2016-07-13T11:41:51.462372",
     "start_time": "2016-07-13T11:41:51.404105"
    },
    "collapsed": false
   },
   "outputs": [
    {
     "data": {
      "text/plain": [
       "(2592, 671)"
      ]
     },
     "execution_count": 12,
     "metadata": {},
     "output_type": "execute_result"
    }
   ],
   "source": [
    "from sklearn.feature_extraction.text import TfidfVectorizer #CountVectorizer\n",
    "vectorizer = TfidfVectorizer(analyzer = \"word\",   \n",
    "                             tokenizer = None,    \n",
    "                             preprocessor = None, \n",
    "                             stop_words = None,   \n",
    "                             max_features = 1000) \n",
    "\n",
    "product_bag_words = vectorizer.fit_transform(products.short_name_processed).toarray()\n",
    "product_bag_words.shape"
   ]
  },
  {
   "cell_type": "markdown",
   "metadata": {},
   "source": [
    "__Проверить разницу между CountVectorizer и TfidfVectorizer.__"
   ]
  },
  {
   "cell_type": "markdown",
   "metadata": {},
   "source": [
    "# Визуализация\n",
    "Можно использовать как два дополнительных признака."
   ]
  },
  {
   "cell_type": "markdown",
   "metadata": {},
   "source": [
    "### t-SNE"
   ]
  },
  {
   "cell_type": "code",
   "execution_count": null,
   "metadata": {
    "ExecuteTime": {
     "end_time": "2016-07-13T11:42:21.641948",
     "start_time": "2016-07-13T11:41:52.626044"
    },
    "collapsed": false
   },
   "outputs": [],
   "source": [
    "from sklearn import manifold\n",
    "\n",
    "tsne = manifold.TSNE(n_components = 2, init = 'pca', random_state = 42)\n",
    "TSNE_transformed = tsne.fit_transform(product_bag_words)"
   ]
  },
  {
   "cell_type": "code",
   "execution_count": null,
   "metadata": {
    "ExecuteTime": {
     "end_time": "2016-07-13T11:42:21.986261",
     "start_time": "2016-07-13T11:42:21.643569"
    },
    "collapsed": false
   },
   "outputs": [],
   "source": [
    "pylab.figure(figsize = (10, 6))\n",
    "pylab.scatter(TSNE_transformed[:, 0], TSNE_transformed[:, 1])"
   ]
  },
  {
   "cell_type": "markdown",
   "metadata": {},
   "source": [
    "###  MDS"
   ]
  },
  {
   "cell_type": "code",
   "execution_count": null,
   "metadata": {
    "collapsed": true
   },
   "outputs": [],
   "source": [
    "from sklearn.metrics.pairwise import pairwise_distances\n",
    "\n",
    "mds_cos = manifold.MDS(n_components=2, random_state=42)\n",
    "MDS_transformed = mds_cos.fit_transform(product_bag_words)"
   ]
  },
  {
   "cell_type": "code",
   "execution_count": null,
   "metadata": {
    "collapsed": false
   },
   "outputs": [],
   "source": [
    "pylab.figure(figsize = (10, 6))\n",
    "pylab.scatter(MDS_transformed[:, 0], MDS_transformed[:, 1])"
   ]
  },
  {
   "cell_type": "markdown",
   "metadata": {},
   "source": [
    "Интересно получается. Это можно кластеризовать каким-нибудь DBSCAN, хотя не уверен что это что-то даст."
   ]
  },
  {
   "cell_type": "code",
   "execution_count": null,
   "metadata": {
    "collapsed": false
   },
   "outputs": [],
   "source": [
    "from sklearn.cluster import DBSCAN\n",
    "\n",
    "db = DBSCAN(eps=0.25, min_samples=20, metric='euclidean')\n",
    "y_db = db.fit_predict(MDS_transformed)"
   ]
  },
  {
   "cell_type": "code",
   "execution_count": null,
   "metadata": {
    "collapsed": false
   },
   "outputs": [],
   "source": [
    "from collections import Counter\n",
    "Counter(y_db)"
   ]
  },
  {
   "cell_type": "code",
   "execution_count": null,
   "metadata": {
    "collapsed": false
   },
   "outputs": [],
   "source": [
    "pylab.figure(figsize = (10, 6))\n",
    "pylab.scatter(MDS_transformed[:, 0], MDS_transformed[:, 1], c=y_db, cmap='rainbow')"
   ]
  },
  {
   "cell_type": "markdown",
   "metadata": {},
   "source": [
    "Часто встречаемые слова в кластерах."
   ]
  },
  {
   "cell_type": "code",
   "execution_count": null,
   "metadata": {
    "collapsed": false
   },
   "outputs": [],
   "source": [
    "for cluster in np.unique(y_db):\n",
    "    print(\"Cluster %d:\" % cluster, end=' ')\n",
    "    print(Counter(\" \".join(products.iloc[y_db == cluster].short_name).split()).most_common(4))"
   ]
  },
  {
   "cell_type": "markdown",
   "metadata": {},
   "source": [
    "Совсем плохо"
   ]
  },
  {
   "cell_type": "markdown",
   "metadata": {},
   "source": [
    "Попробуем косинусную метрику на MDS"
   ]
  },
  {
   "cell_type": "code",
   "execution_count": null,
   "metadata": {
    "collapsed": false
   },
   "outputs": [],
   "source": [
    "from sklearn.metrics.pairwise import pairwise_distances\n",
    "\n",
    "mds_cos = manifold.MDS(n_components=2, dissimilarity='precomputed', random_state=42)\n",
    "MDS_transformed_cos = mds_cos.fit_transform(pairwise_distances(product_bag_words, metric='cosine'))"
   ]
  },
  {
   "cell_type": "code",
   "execution_count": null,
   "metadata": {
    "collapsed": false
   },
   "outputs": [],
   "source": [
    "pylab.figure(figsize = (10, 6))\n",
    "pylab.scatter(MDS_transformed_cos[:, 0], MDS_transformed_cos[:, 1])"
   ]
  },
  {
   "cell_type": "markdown",
   "metadata": {},
   "source": [
    "# Кластеризация"
   ]
  },
  {
   "cell_type": "markdown",
   "metadata": {},
   "source": [
    "### KMeans"
   ]
  },
  {
   "cell_type": "code",
   "execution_count": 13,
   "metadata": {
    "collapsed": false
   },
   "outputs": [
    {
     "data": {
      "image/png": "[encoded data removed]",
      "text/plain": [
       "<matplotlib.figure.Figure at 0x7f77a37dbb90>"
      ]
     },
     "metadata": {},
     "output_type": "display_data"
    }
   ],
   "source": [
    "from sklearn.cluster import KMeans\n",
    "\n",
    "distortions = []\n",
    "max_clusters = 40\n",
    "for i in range(1, max_clusters):\n",
    "    km = KMeans(n_clusters=i, \n",
    "                init='k-means++', \n",
    "                random_state=42,\n",
    "                n_jobs = -1)\n",
    "    km.fit(product_bag_words)\n",
    "    distortions.append(km.inertia_)\n",
    "plt.plot(range(1, max_clusters), distortions, marker='o')\n",
    "plt.xlabel('Number of clusters')\n",
    "plt.ylabel('Distortion')\n",
    "plt.tight_layout()\n",
    "#plt.savefig('elbow.png', dpi=300)\n",
    "plt.show()"
   ]
  },
  {
   "cell_type": "markdown",
   "metadata": {},
   "source": [
    "С ростом кластеров SSE понемногу уменьшается, elbow методом не получается выяснить оптимальное количество кластеров."
   ]
  },
  {
   "cell_type": "code",
   "execution_count": 14,
   "metadata": {
    "collapsed": false
   },
   "outputs": [],
   "source": [
    "import numpy as np\n",
    "from matplotlib import cm\n",
    "from sklearn.metrics import silhouette_samples\n",
    "\n",
    "n_clusters = 13 # количество кластеров\n",
    "\n",
    "km = KMeans(n_clusters= n_clusters, \n",
    "            init='k-means++', \n",
    "            n_init=30, \n",
    "            random_state=0,\n",
    "            n_jobs = -1)\n",
    "y_km = km.fit_predict(product_bag_words)"
   ]
  },
  {
   "cell_type": "markdown",
   "metadata": {},
   "source": [
    "Построим silhouette plot"
   ]
  },
  {
   "cell_type": "code",
   "execution_count": 15,
   "metadata": {
    "collapsed": false
   },
   "outputs": [
    {
     "data": {
      "image/png": "[encoded data removed]",
      "text/plain": [
       "<matplotlib.figure.Figure at 0x7f77a0622610>"
      ]
     },
     "metadata": {},
     "output_type": "display_data"
    }
   ],
   "source": [
    "cluster_labels = np.unique(y_km)\n",
    "n_clusters = cluster_labels.shape[0]\n",
    "silhouette_vals = silhouette_samples(product_bag_words, y_km, metric='euclidean')\n",
    "y_ax_lower, y_ax_upper = 0, 0\n",
    "yticks = []\n",
    "for i, c in enumerate(cluster_labels):\n",
    "    c_silhouette_vals = silhouette_vals[y_km == c]\n",
    "    c_silhouette_vals.sort()\n",
    "    y_ax_upper += len(c_silhouette_vals)\n",
    "    color = cm.jet(float(i) / n_clusters)\n",
    "    plt.barh(range(y_ax_lower, y_ax_upper), c_silhouette_vals, height=1.0, \n",
    "             edgecolor='none', color=color)\n",
    "\n",
    "    yticks.append((y_ax_lower + y_ax_upper) / 2.)\n",
    "    y_ax_lower += len(c_silhouette_vals)\n",
    "    \n",
    "silhouette_avg = np.mean(silhouette_vals)\n",
    "plt.axvline(silhouette_avg, color=\"red\", linestyle=\"--\") \n",
    "\n",
    "plt.yticks(yticks, cluster_labels)\n",
    "plt.ylabel('Cluster')\n",
    "plt.xlabel('Silhouette coefficient')\n",
    "\n",
    "plt.tight_layout()\n",
    "# plt.savefig('silhouette.png', dpi=300)\n",
    "plt.show()"
   ]
  },
  {
   "cell_type": "markdown",
   "metadata": {},
   "source": [
    "Так себе кластеризация получается, но кое-какие продукты выделить удается."
   ]
  },
  {
   "cell_type": "code",
   "execution_count": 17,
   "metadata": {
    "collapsed": false
   },
   "outputs": [
    {
     "data": {
      "text/plain": [
       "Counter({0: 1603,\n",
       "         1: 103,\n",
       "         2: 92,\n",
       "         3: 51,\n",
       "         4: 63,\n",
       "         5: 51,\n",
       "         6: 76,\n",
       "         7: 164,\n",
       "         8: 45,\n",
       "         9: 80,\n",
       "         10: 94,\n",
       "         11: 114,\n",
       "         12: 56})"
      ]
     },
     "execution_count": 17,
     "metadata": {},
     "output_type": "execute_result"
    }
   ],
   "source": [
    "from collections import Counter\n",
    "\n",
    "Counter(y_km)"
   ]
  },
  {
   "cell_type": "code",
   "execution_count": 18,
   "metadata": {
    "collapsed": false
   },
   "outputs": [
    {
     "name": "stdout",
     "output_type": "stream",
     "text": [
      "Cluster 0: [('Fresa', 86), ('Tubo', 57), ('Lata', 57), ('Principe', 55)]\n",
      "Cluster 1: [('Barritas', 59), ('Pina', 58), ('Fresa', 42), ('Barrita', 18)]\n",
      "Cluster 2: [('Deliciosas', 92), ('Vainilla', 36), ('Chochitos', 18), ('Chocochispas', 12)]\n",
      "Cluster 3: [('Triki', 51), ('Trakes', 34), ('Tubo', 13), ('Intenso', 8)]\n",
      "Cluster 4: [('Multigrano', 63), ('Pan', 28), ('Barra', 25), ('Linaza', 20)]\n",
      "Cluster 5: [('Tortillinas', 45), ('Tortillina', 6), ('Taquera', 3), ('Grande', 3)]\n",
      "Cluster 6: [('Tortilla', 60), ('Hna', 33), ('Harina', 23), ('Tortillas', 16)]\n",
      "Cluster 7: [('Pan', 164), ('Blanco', 80), ('Integral', 27), ('Fibra', 25)]\n",
      "Cluster 8: [('Bimbollos', 45), ('Extra', 14), ('FS', 9), ('Parrilleros', 6)]\n",
      "Cluster 9: [('Gansito', 84), ('Galleta', 25), ('Duo', 17), ('Mi', 10)]\n",
      "Cluster 10: [('Suavicremas', 69), ('Fresa', 26), ('Roles', 25), ('Choco', 25)]\n",
      "Cluster 11: [('Tostada', 59), ('Tostado', 50), ('Tubo', 22), ('Ondulada', 20)]\n",
      "Cluster 12: [('Mantecadas', 53), ('Nuez', 16), ('Vainilla', 7), ('Vain', 7)]\n"
     ]
    }
   ],
   "source": [
    "for cluster in range(n_clusters):\n",
    "    print(\"Cluster %d:\" % cluster, end=' ')\n",
    "    print(Counter(\" \".join(products.iloc[y_km == cluster].short_name).split()).most_common(4))"
   ]
  },
  {
   "cell_type": "markdown",
   "metadata": {
    "collapsed": true
   },
   "source": [
    "# Topic model"
   ]
  },
  {
   "cell_type": "code",
   "execution_count": 19,
   "metadata": {
    "ExecuteTime": {
     "end_time": "2016-07-13T11:43:05.933721",
     "start_time": "2016-07-13T11:43:05.555295"
    },
    "collapsed": false
   },
   "outputs": [],
   "source": [
    "from gensim import corpora, models\n",
    "\n",
    "texts = [name.split() for name in list(products.short_name_processed)]\n",
    "dictionary = corpora.Dictionary(texts)\n",
    "corpus = [dictionary.doc2bow(text) for text in texts]"
   ]
  },
  {
   "cell_type": "code",
   "execution_count": 20,
   "metadata": {
    "ExecuteTime": {
     "end_time": "2016-07-13T11:43:06.597537",
     "start_time": "2016-07-13T11:43:06.593100"
    },
    "collapsed": false
   },
   "outputs": [
    {
     "name": "stdout",
     "output_type": "stream",
     "text": [
      "Super Pan Bco Ajonjoli \n",
      "[u'sup', u'pan', u'bco', u'ajonjoli']\n",
      "[(6, 1), (15, 1), (19, 1), (20, 1)]\n"
     ]
    }
   ],
   "source": [
    "print(products.short_name[8])\n",
    "print(texts[8])\n",
    "print(corpus[8])"
   ]
  },
  {
   "cell_type": "markdown",
   "metadata": {},
   "source": [
    "### LDA"
   ]
  },
  {
   "cell_type": "code",
   "execution_count": 21,
   "metadata": {
    "ExecuteTime": {
     "end_time": "2016-07-13T11:43:11.061431",
     "start_time": "2016-07-13T11:43:07.436847"
    },
    "collapsed": false
   },
   "outputs": [],
   "source": [
    "np.random.seed(42)\n",
    "\n",
    "num_topics = 21 # количество тем\n",
    "\n",
    "lda = models.LdaModel(corpus, num_topics=num_topics, id2word=dictionary, passes=5)"
   ]
  },
  {
   "cell_type": "code",
   "execution_count": 22,
   "metadata": {
    "ExecuteTime": {
     "end_time": "2016-07-13T11:43:11.130950",
     "start_time": "2016-07-13T11:43:11.063157"
    },
    "collapsed": false
   },
   "outputs": [
    {
     "data": {
      "text/plain": [
       "[(0,\n",
       "  [(u'boll', 0.14574760622324914),\n",
       "   (u'choc', 0.085152750550286663),\n",
       "   (u'gallet', 0.084938913983816172),\n",
       "   (u'barrit', 0.078138165332498663),\n",
       "   (u'pin', 0.071835429195165279),\n",
       "   (u'rol', 0.064492453945158262),\n",
       "   (u'aven', 0.054798272733843092),\n",
       "   (u'sup', 0.037358497493471622),\n",
       "   (u'lat', 0.033613794033471478),\n",
       "   (u'bk', 0.031772953063551726)]),\n",
       " (1,\n",
       "  [(u'animalit', 0.09632694086990283),\n",
       "   (u'karamel', 0.071554967022726457),\n",
       "   (u'kc', 0.053338397077525086),\n",
       "   (u'takis', 0.052975395307132515),\n",
       "   (u'burrit', 0.052563504275308683),\n",
       "   (u'fueg', 0.043645209191967155),\n",
       "   (u'polvoron', 0.0376463413765427),\n",
       "   (u'sandwichon', 0.028226297315281541),\n",
       "   (u'hierr', 0.025100571457868169),\n",
       "   (u'comb', 0.022129583940249591)]),\n",
       " (2,\n",
       "  [(u'milk', 0.085923389451578999),\n",
       "   (u'gran', 0.083941171053959596),\n",
       "   (u'butt', 0.081955472822417233),\n",
       "   (u'polvoroncit', 0.049116562645547431),\n",
       "   (u'mantec', 0.039776840230337854),\n",
       "   (u'vain', 0.039767796873926599),\n",
       "   (u'cer', 0.032743778974921381),\n",
       "   (u'pan', 0.028604729654730918),\n",
       "   (u'vainill', 0.026041245057467834),\n",
       "   (u'enter', 0.023635731392796153)]),\n",
       " (3,\n",
       "  [(u'tortill', 0.16407817177176537),\n",
       "   (u'hna', 0.16063706092019031),\n",
       "   (u'chocochisp', 0.072466909998962853),\n",
       "   (u'sp', 0.061736245132802653),\n",
       "   (u'rw', 0.056811507821537245),\n",
       "   (u'tost', 0.045397220309711113),\n",
       "   (u'herm', 0.035104962076131334),\n",
       "   (u'ondul', 0.035102625644698099),\n",
       "   (u'reg', 0.032898527523376971),\n",
       "   (u'tortillin', 0.030716301638775281)]),\n",
       " (4,\n",
       "  [(u'fres', 0.16200470714908086),\n",
       "   (u'frut', 0.14298795911273754),\n",
       "   (u'bran', 0.13663515490326855),\n",
       "   (u'princip', 0.080258893230616024),\n",
       "   (u'barrit', 0.062612723333662579),\n",
       "   (u'pin', 0.057681794077085485),\n",
       "   (u'canelit', 0.056221191356372685),\n",
       "   (u'polvoron', 0.052978584021804727),\n",
       "   (u'tub', 0.04023196613567883),\n",
       "   (u'salv', 0.02012163554798797)]),\n",
       " (5,\n",
       "  [(u'tost', 0.190960574172959),\n",
       "   (u'medi', 0.12090397457264668),\n",
       "   (u'noch', 0.11727228448943412),\n",
       "   (u'totop', 0.096248519775818803),\n",
       "   (u'tub', 0.053298368127851103),\n",
       "   (u'chilaquil', 0.051832662955871439),\n",
       "   (u'lors', 0.034722944982503556),\n",
       "   (u'glass', 0.028273802313985616),\n",
       "   (u'ondul', 0.027394209388331366),\n",
       "   (u'rol', 0.026457624989681437)]),\n",
       " (6,\n",
       "  [(u'delici', 0.1342426329506661),\n",
       "   (u'vainill', 0.12977219854300615),\n",
       "   (u'mantec', 0.10230029420287312),\n",
       "   (u'mol', 0.091636384910411151),\n",
       "   (u'pinguin', 0.083802184098487872),\n",
       "   (u'don', 0.080580767801631564),\n",
       "   (u'chocolat', 0.066068622778596792),\n",
       "   (u'azuc', 0.064241747406358046),\n",
       "   (u'submarin', 0.049924774009188502),\n",
       "   (u'chochit', 0.023813835333251029)]),\n",
       " (7,\n",
       "  [(u'triki', 0.19626810658557131),\n",
       "   (u'trak', 0.16571646834010992),\n",
       "   (u'pastiset', 0.11664892204672569),\n",
       "   (u'mari', 0.065073546757756201),\n",
       "   (u'chocolat', 0.034998574589351072),\n",
       "   (u'sn', 0.032447929402183405),\n",
       "   (u'valentin', 0.023999352804339028),\n",
       "   (u'rosc', 0.019628979767235408),\n",
       "   (u'panqu', 0.01770108306643205),\n",
       "   (u'intens', 0.017622231112048584)]),\n",
       " (8,\n",
       "  [(u'mini', 0.15203897913350281),\n",
       "   (u'doradit', 0.10582603981027),\n",
       "   (u'paner', 0.10256182558618905),\n",
       "   (u'rock', 0.081310004772724681),\n",
       "   (u'tir', 0.062941069474467037),\n",
       "   (u'bigot', 0.04009575343607593),\n",
       "   (u'bimb', 0.035374305913684158),\n",
       "   (u'div', 0.0353697557421346),\n",
       "   (u'chips', 0.030750922598115227),\n",
       "   (u'chocolat', 0.029607824797142607)]),\n",
       " (9,\n",
       "  [(u'whol', 0.11003839965030372),\n",
       "   (u'grain', 0.10712896969174873),\n",
       "   (u'pan', 0.092314378702205449),\n",
       "   (u'and', 0.076829864349708565),\n",
       "   (u'cuernit', 0.069377304486266889),\n",
       "   (u'flax', 0.046202474743795262),\n",
       "   (u'raztachoc', 0.031032089016058813),\n",
       "   (u'oat', 0.030888779940838596),\n",
       "   (u'vainill', 0.028636775327234434),\n",
       "   (u'limon', 0.025879754408664083)]),\n",
       " (10,\n",
       "  [(u'pan', 0.26421481571307243),\n",
       "   (u'blanc', 0.22875688665422944),\n",
       "   (u'bimboll', 0.14417209995792377),\n",
       "   (u'extra', 0.046278856043822522),\n",
       "   (u'fs', 0.039388970696333382),\n",
       "   (u'parriller', 0.027609620702839767),\n",
       "   (u'panqu', 0.023593479549000082),\n",
       "   (u'sup', 0.023228279405613273),\n",
       "   (u'rendidor', 0.017573157844551629),\n",
       "   (u'pas', 0.014843802421582061)]),\n",
       " (11,\n",
       "  [(u'gansit', 0.21040923761963856),\n",
       "   (u'hot', 0.1087284807209726),\n",
       "   (u'lat', 0.08612431540154375),\n",
       "   (u'dogs', 0.081612650039184692),\n",
       "   (u'chocolat', 0.065957396475153127),\n",
       "   (u'gallet', 0.05256925290610108),\n",
       "   (u'sup', 0.045965804515700405),\n",
       "   (u'sprit', 0.022229534381535417),\n",
       "   (u'ola', 0.015474107373654089),\n",
       "   (u'corazon', 0.015437774859362537)]),\n",
       " (12,\n",
       "  [(u'multigran', 0.19060139760732275),\n",
       "   (u'nuez', 0.17539891923186934),\n",
       "   (u'barr', 0.11470315485546753),\n",
       "   (u'pan', 0.08666883520086717),\n",
       "   (u'linaz', 0.0851493043274235),\n",
       "   (u'mantec', 0.051719323264019221),\n",
       "   (u'bes', 0.041806602255443824),\n",
       "   (u'twin', 0.024411795458862611),\n",
       "   (u'agu', 0.018386192212284436),\n",
       "   (u'ciel', 0.016342192226327268)]),\n",
       " (13,\n",
       "  [(u'tortillin', 0.31801384378335018),\n",
       "   (u'pack', 0.10018649393677852),\n",
       "   (u'twin', 0.065221626730070731),\n",
       "   (u'granel', 0.05774609436724621),\n",
       "   (u'sal', 0.043052110049165801),\n",
       "   (u'fres', 0.035723884911867052),\n",
       "   (u'roll', 0.033701724793745655),\n",
       "   (u'convenient', 0.029955050351261704),\n",
       "   (u'grand', 0.024338658870788708),\n",
       "   (u'multigr', 0.022420071631332441)]),\n",
       " (14,\n",
       "  [(u'integral', 0.19563333469259367),\n",
       "   (u'pan', 0.11542641892292256),\n",
       "   (u'nit', 0.062476687480776089),\n",
       "   (u'sandwich', 0.062064141947143277),\n",
       "   (u'clasic', 0.060141400637526155),\n",
       "   (u'jamon', 0.05120138768897653),\n",
       "   (u'ques', 0.038381737542918633),\n",
       "   (u'gde', 0.038327342732035051),\n",
       "   (u'powerad', 0.035480800958156977),\n",
       "   (u'gv', 0.027003969203184174)]),\n",
       " (15,\n",
       "  [(u'surt', 0.20579849359633332),\n",
       "   (u'ric', 0.099180760175809471),\n",
       "   (u'panqu', 0.062601166672540329),\n",
       "   (u'ajn', 0.057351687403691398),\n",
       "   (u'bimbunuel', 0.052342138270321199),\n",
       "   (u'tub', 0.043422979375084172),\n",
       "   (u'fin', 0.039252609226890028),\n",
       "   (u'orejit', 0.038837520601571293),\n",
       "   (u'marmol', 0.034025053880100395),\n",
       "   (u'magn', 0.031536661687251673)]),\n",
       " (16,\n",
       "  [(u'plativol', 0.098893378665462175),\n",
       "   (u'donit', 0.083050404700267158),\n",
       "   (u'salm', 0.073563058339481166),\n",
       "   (u'espolvor', 0.057151084245802695),\n",
       "   (u'tub', 0.039220561053448864),\n",
       "   (u'hotdog', 0.036363288056709561),\n",
       "   (u'food', 0.036363288056708548),\n",
       "   (u'fast', 0.036363288056700374),\n",
       "   (u'escol', 0.03597144552692709),\n",
       "   (u'sup', 0.035813529776876796)]),\n",
       " (17,\n",
       "  [(u'suavicrem', 0.16718439132745419),\n",
       "   (u'canel', 0.093474787968849046),\n",
       "   (u'fres', 0.089142507275037988),\n",
       "   (u'chocolat', 0.06921687337258485),\n",
       "   (u'vainill', 0.058513809275039921),\n",
       "   (u'rol', 0.045478411967341106),\n",
       "   (u'tartin', 0.042374459529709932),\n",
       "   (u'manzan', 0.038186251893657618),\n",
       "   (u'mg', 0.026796112727266931),\n",
       "   (u'redond', 0.026158415050848562)]),\n",
       " (18,\n",
       "  [(u'duo', 0.19920007289283373),\n",
       "   (u'wond', 0.10103929280090537),\n",
       "   (u'gansit', 0.083787500753040992),\n",
       "   (u'mas', 0.059574509026006826),\n",
       "   (u'fsa', 0.04740799878843957),\n",
       "   (u'got', 0.040853077413244968),\n",
       "   (u'panquecit', 0.03920473178674963),\n",
       "   (u'nit', 0.034395041344370131),\n",
       "   (u'mm', 0.03339130501500058),\n",
       "   (u'choc', 0.026225908764285023)]),\n",
       " (19,\n",
       "  [(u'tortill', 0.09864417184024149),\n",
       "   (u'harin', 0.073646918584449939),\n",
       "   (u'empaniz', 0.059863630632080556),\n",
       "   (u'canapin', 0.052397637178597141),\n",
       "   (u'hojuel', 0.034829526545309498),\n",
       "   (u'bombonet', 0.02911448661012208),\n",
       "   (u'figatz', 0.029107710294300791),\n",
       "   (u'taquer', 0.029106802399554679),\n",
       "   (u'crujient', 0.029104174465370794),\n",
       "   (u'gallet', 0.027004179484659344)]),\n",
       " (20,\n",
       "  [(u'pan', 0.12921207200579909),\n",
       "   (u'fibr', 0.11899107639960481),\n",
       "   (u'dobl', 0.072079388199229003),\n",
       "   (u'siluet', 0.056645842994316964),\n",
       "   (u'bco', 0.04191312999962063),\n",
       "   (u'conch', 0.037341207034198791),\n",
       "   (u'sandwich', 0.03625489680278908),\n",
       "   (u'reban', 0.033548737792869113),\n",
       "   (u'clasic', 0.033272803620788979),\n",
       "   (u'ajonjoli', 0.02965343892565972)])]"
      ]
     },
     "execution_count": 22,
     "metadata": {},
     "output_type": "execute_result"
    }
   ],
   "source": [
    "lda.show_topics(num_topics=num_topics, num_words=10, formatted=False)"
   ]
  },
  {
   "cell_type": "code",
   "execution_count": 23,
   "metadata": {
    "ExecuteTime": {
     "end_time": "2016-07-13T11:43:12.680509",
     "start_time": "2016-07-13T11:43:11.133148"
    },
    "collapsed": false
   },
   "outputs": [
    {
     "name": "stdout",
     "output_type": "stream",
     "text": [
      "-470.865032236\n"
     ]
    }
   ],
   "source": [
    "top_topics = lda.top_topics(corpus)\n",
    "coherence = np.mean([coh for tokens, coh in top_topics])\n",
    "print(coherence)"
   ]
  },
  {
   "cell_type": "code",
   "execution_count": 24,
   "metadata": {
    "ExecuteTime": {
     "end_time": "2016-07-13T11:43:12.689122",
     "start_time": "2016-07-13T11:43:12.683016"
    },
    "collapsed": false
   },
   "outputs": [
    {
     "data": {
      "text/plain": [
       "[(20, 0.80952380923925138)]"
      ]
     },
     "execution_count": 24,
     "metadata": {},
     "output_type": "execute_result"
    }
   ],
   "source": [
    "lda.get_document_topics(corpus[8]) # хлебушек"
   ]
  },
  {
   "cell_type": "code",
   "execution_count": 25,
   "metadata": {
    "ExecuteTime": {
     "end_time": "2016-07-13T11:43:23.625968",
     "start_time": "2016-07-13T11:43:12.691471"
    },
    "collapsed": false
   },
   "outputs": [
    {
     "data": {
      "text/html": [
       "<div>\n",
       "<table border=\"1\" class=\"dataframe\">\n",
       "  <thead>\n",
       "    <tr style=\"text-align: right;\">\n",
       "      <th></th>\n",
       "      <th>LDA_feature_0</th>\n",
       "      <th>LDA_feature_1</th>\n",
       "      <th>LDA_feature_2</th>\n",
       "      <th>LDA_feature_3</th>\n",
       "      <th>LDA_feature_4</th>\n",
       "      <th>LDA_feature_5</th>\n",
       "      <th>LDA_feature_6</th>\n",
       "      <th>LDA_feature_7</th>\n",
       "      <th>LDA_feature_8</th>\n",
       "      <th>LDA_feature_9</th>\n",
       "      <th>...</th>\n",
       "      <th>LDA_feature_11</th>\n",
       "      <th>LDA_feature_12</th>\n",
       "      <th>LDA_feature_13</th>\n",
       "      <th>LDA_feature_14</th>\n",
       "      <th>LDA_feature_15</th>\n",
       "      <th>LDA_feature_16</th>\n",
       "      <th>LDA_feature_17</th>\n",
       "      <th>LDA_feature_18</th>\n",
       "      <th>LDA_feature_19</th>\n",
       "      <th>LDA_feature_20</th>\n",
       "    </tr>\n",
       "  </thead>\n",
       "  <tbody>\n",
       "    <tr>\n",
       "      <th>0</th>\n",
       "      <td>0.023810</td>\n",
       "      <td>0.023810</td>\n",
       "      <td>0.023810</td>\n",
       "      <td>0.023810</td>\n",
       "      <td>0.523810</td>\n",
       "      <td>0.023810</td>\n",
       "      <td>0.023810</td>\n",
       "      <td>0.023810</td>\n",
       "      <td>0.023810</td>\n",
       "      <td>0.023810</td>\n",
       "      <td>...</td>\n",
       "      <td>0.023810</td>\n",
       "      <td>0.023810</td>\n",
       "      <td>0.023810</td>\n",
       "      <td>0.023810</td>\n",
       "      <td>0.023810</td>\n",
       "      <td>0.023810</td>\n",
       "      <td>0.023810</td>\n",
       "      <td>0.023810</td>\n",
       "      <td>0.023810</td>\n",
       "      <td>0.023810</td>\n",
       "    </tr>\n",
       "    <tr>\n",
       "      <th>1</th>\n",
       "      <td>0.015873</td>\n",
       "      <td>0.015873</td>\n",
       "      <td>0.015873</td>\n",
       "      <td>0.015873</td>\n",
       "      <td>0.015873</td>\n",
       "      <td>0.015873</td>\n",
       "      <td>0.015873</td>\n",
       "      <td>0.015873</td>\n",
       "      <td>0.015873</td>\n",
       "      <td>0.015873</td>\n",
       "      <td>...</td>\n",
       "      <td>0.015873</td>\n",
       "      <td>0.015873</td>\n",
       "      <td>0.015873</td>\n",
       "      <td>0.015873</td>\n",
       "      <td>0.015873</td>\n",
       "      <td>0.682540</td>\n",
       "      <td>0.015873</td>\n",
       "      <td>0.015873</td>\n",
       "      <td>0.015873</td>\n",
       "      <td>0.015873</td>\n",
       "    </tr>\n",
       "    <tr>\n",
       "      <th>2</th>\n",
       "      <td>0.000000</td>\n",
       "      <td>0.000000</td>\n",
       "      <td>0.000000</td>\n",
       "      <td>0.000000</td>\n",
       "      <td>0.000000</td>\n",
       "      <td>0.000000</td>\n",
       "      <td>0.000000</td>\n",
       "      <td>0.000000</td>\n",
       "      <td>0.000000</td>\n",
       "      <td>0.000000</td>\n",
       "      <td>...</td>\n",
       "      <td>0.809524</td>\n",
       "      <td>0.000000</td>\n",
       "      <td>0.000000</td>\n",
       "      <td>0.000000</td>\n",
       "      <td>0.000000</td>\n",
       "      <td>0.000000</td>\n",
       "      <td>0.000000</td>\n",
       "      <td>0.000000</td>\n",
       "      <td>0.000000</td>\n",
       "      <td>0.000000</td>\n",
       "    </tr>\n",
       "    <tr>\n",
       "      <th>3</th>\n",
       "      <td>0.015873</td>\n",
       "      <td>0.349206</td>\n",
       "      <td>0.015873</td>\n",
       "      <td>0.015873</td>\n",
       "      <td>0.015873</td>\n",
       "      <td>0.015873</td>\n",
       "      <td>0.015873</td>\n",
       "      <td>0.015873</td>\n",
       "      <td>0.015873</td>\n",
       "      <td>0.015873</td>\n",
       "      <td>...</td>\n",
       "      <td>0.015873</td>\n",
       "      <td>0.015873</td>\n",
       "      <td>0.015873</td>\n",
       "      <td>0.015873</td>\n",
       "      <td>0.015873</td>\n",
       "      <td>0.015873</td>\n",
       "      <td>0.015873</td>\n",
       "      <td>0.015873</td>\n",
       "      <td>0.349206</td>\n",
       "      <td>0.015873</td>\n",
       "    </tr>\n",
       "    <tr>\n",
       "      <th>4</th>\n",
       "      <td>0.000000</td>\n",
       "      <td>0.000000</td>\n",
       "      <td>0.000000</td>\n",
       "      <td>0.000000</td>\n",
       "      <td>0.000000</td>\n",
       "      <td>0.000000</td>\n",
       "      <td>0.000000</td>\n",
       "      <td>0.000000</td>\n",
       "      <td>0.809524</td>\n",
       "      <td>0.000000</td>\n",
       "      <td>...</td>\n",
       "      <td>0.000000</td>\n",
       "      <td>0.000000</td>\n",
       "      <td>0.000000</td>\n",
       "      <td>0.000000</td>\n",
       "      <td>0.000000</td>\n",
       "      <td>0.000000</td>\n",
       "      <td>0.000000</td>\n",
       "      <td>0.000000</td>\n",
       "      <td>0.000000</td>\n",
       "      <td>0.000000</td>\n",
       "    </tr>\n",
       "  </tbody>\n",
       "</table>\n",
       "<p>5 rows × 21 columns</p>\n",
       "</div>"
      ],
      "text/plain": [
       "   LDA_feature_0  LDA_feature_1  LDA_feature_2  LDA_feature_3  LDA_feature_4  \\\n",
       "0       0.023810       0.023810       0.023810       0.023810       0.523810   \n",
       "1       0.015873       0.015873       0.015873       0.015873       0.015873   \n",
       "2       0.000000       0.000000       0.000000       0.000000       0.000000   \n",
       "3       0.015873       0.349206       0.015873       0.015873       0.015873   \n",
       "4       0.000000       0.000000       0.000000       0.000000       0.000000   \n",
       "\n",
       "   LDA_feature_5  LDA_feature_6  LDA_feature_7  LDA_feature_8  LDA_feature_9  \\\n",
       "0       0.023810       0.023810       0.023810       0.023810       0.023810   \n",
       "1       0.015873       0.015873       0.015873       0.015873       0.015873   \n",
       "2       0.000000       0.000000       0.000000       0.000000       0.000000   \n",
       "3       0.015873       0.015873       0.015873       0.015873       0.015873   \n",
       "4       0.000000       0.000000       0.000000       0.809524       0.000000   \n",
       "\n",
       "        ...        LDA_feature_11  LDA_feature_12  LDA_feature_13  \\\n",
       "0       ...              0.023810        0.023810        0.023810   \n",
       "1       ...              0.015873        0.015873        0.015873   \n",
       "2       ...              0.809524        0.000000        0.000000   \n",
       "3       ...              0.015873        0.015873        0.015873   \n",
       "4       ...              0.000000        0.000000        0.000000   \n",
       "\n",
       "   LDA_feature_14  LDA_feature_15  LDA_feature_16  LDA_feature_17  \\\n",
       "0        0.023810        0.023810        0.023810        0.023810   \n",
       "1        0.015873        0.015873        0.682540        0.015873   \n",
       "2        0.000000        0.000000        0.000000        0.000000   \n",
       "3        0.015873        0.015873        0.015873        0.015873   \n",
       "4        0.000000        0.000000        0.000000        0.000000   \n",
       "\n",
       "   LDA_feature_18  LDA_feature_19  LDA_feature_20  \n",
       "0        0.023810        0.023810        0.023810  \n",
       "1        0.015873        0.015873        0.015873  \n",
       "2        0.000000        0.000000        0.000000  \n",
       "3        0.015873        0.349206        0.015873  \n",
       "4        0.000000        0.000000        0.000000  \n",
       "\n",
       "[5 rows x 21 columns]"
      ]
     },
     "execution_count": 25,
     "metadata": {},
     "output_type": "execute_result"
    }
   ],
   "source": [
    "LDA_features = pd.DataFrame(np.zeros((len(corpus), lda.num_topics)),\n",
    "                            index=products.index, columns=['LDA_feature_%d'%i for i in range(lda.num_topics)])\n",
    "\n",
    "for i, text in enumerate(lda.get_document_topics(corpus)):\n",
    "    for token, prob in text:\n",
    "        LDA_features.ix[i, token] = prob\n",
    "        \n",
    "LDA_features.head()"
   ]
  },
  {
   "cell_type": "markdown",
   "metadata": {},
   "source": [
    "Получается понижения размерности или даже некий soft clustering, можно использовать как признаки, скорее всего лучше зайдет чем one-hot.\n",
    "\n",
    "Посмотрим на первые 20 продуктов."
   ]
  },
  {
   "cell_type": "code",
   "execution_count": 26,
   "metadata": {
    "ExecuteTime": {
     "end_time": "2016-07-13T11:43:24.504381",
     "start_time": "2016-07-13T11:43:23.628163"
    },
    "collapsed": false
   },
   "outputs": [
    {
     "data": {
      "text/html": [
       "<div>\n",
       "<table border=\"1\" class=\"dataframe\">\n",
       "  <thead>\n",
       "    <tr style=\"text-align: right;\">\n",
       "      <th></th>\n",
       "      <th>Producto_ID</th>\n",
       "      <th>NombreProducto</th>\n",
       "      <th>short_name</th>\n",
       "      <th>brand</th>\n",
       "      <th>weight</th>\n",
       "      <th>pieces</th>\n",
       "      <th>short_name_processed</th>\n",
       "    </tr>\n",
       "  </thead>\n",
       "  <tbody>\n",
       "    <tr>\n",
       "      <th>0</th>\n",
       "      <td>0</td>\n",
       "      <td>NO IDENTIFICADO 0</td>\n",
       "      <td>NO IDENTIFICADO</td>\n",
       "      <td>IDENTIFICADO</td>\n",
       "      <td>NaN</td>\n",
       "      <td>NaN</td>\n",
       "      <td>identific</td>\n",
       "    </tr>\n",
       "    <tr>\n",
       "      <th>1</th>\n",
       "      <td>9</td>\n",
       "      <td>Capuccino Moka 750g NES 9</td>\n",
       "      <td>Capuccino Moka</td>\n",
       "      <td>NES</td>\n",
       "      <td>750.0</td>\n",
       "      <td>NaN</td>\n",
       "      <td>capuccin mok</td>\n",
       "    </tr>\n",
       "    <tr>\n",
       "      <th>2</th>\n",
       "      <td>41</td>\n",
       "      <td>Bimbollos Ext s Ajonjoli 6p 480g BIM 41</td>\n",
       "      <td>Bimbollos Ext s Ajonjoli</td>\n",
       "      <td>BIM</td>\n",
       "      <td>480.0</td>\n",
       "      <td>6.0</td>\n",
       "      <td>bimboll ext s ajonjoli</td>\n",
       "    </tr>\n",
       "    <tr>\n",
       "      <th>3</th>\n",
       "      <td>53</td>\n",
       "      <td>Burritos Sincro 170g CU LON 53</td>\n",
       "      <td>Burritos Sincro</td>\n",
       "      <td>LON</td>\n",
       "      <td>170.0</td>\n",
       "      <td>NaN</td>\n",
       "      <td>burrit sincr</td>\n",
       "    </tr>\n",
       "    <tr>\n",
       "      <th>4</th>\n",
       "      <td>72</td>\n",
       "      <td>Div Tira Mini Doradita 4p 45g TR 72</td>\n",
       "      <td>Div Tira Mini Doradita</td>\n",
       "      <td>TR</td>\n",
       "      <td>45.0</td>\n",
       "      <td>4.0</td>\n",
       "      <td>div tir mini doradit</td>\n",
       "    </tr>\n",
       "    <tr>\n",
       "      <th>5</th>\n",
       "      <td>73</td>\n",
       "      <td>Pan Multigrano Linaza 540g BIM 73</td>\n",
       "      <td>Pan Multigrano Linaza</td>\n",
       "      <td>BIM</td>\n",
       "      <td>540.0</td>\n",
       "      <td>NaN</td>\n",
       "      <td>pan multigran linaz</td>\n",
       "    </tr>\n",
       "    <tr>\n",
       "      <th>6</th>\n",
       "      <td>98</td>\n",
       "      <td>Tostado Integral 180g WON 98</td>\n",
       "      <td>Tostado Integral</td>\n",
       "      <td>WON</td>\n",
       "      <td>180.0</td>\n",
       "      <td>NaN</td>\n",
       "      <td>tost integral</td>\n",
       "    </tr>\n",
       "    <tr>\n",
       "      <th>7</th>\n",
       "      <td>99</td>\n",
       "      <td>Pan Blanco 567g WON 99</td>\n",
       "      <td>Pan Blanco</td>\n",
       "      <td>WON</td>\n",
       "      <td>567.0</td>\n",
       "      <td>NaN</td>\n",
       "      <td>pan blanc</td>\n",
       "    </tr>\n",
       "    <tr>\n",
       "      <th>8</th>\n",
       "      <td>100</td>\n",
       "      <td>Super Pan Bco Ajonjoli 680g SP WON 100</td>\n",
       "      <td>Super Pan Bco Ajonjoli</td>\n",
       "      <td>WON</td>\n",
       "      <td>680.0</td>\n",
       "      <td>NaN</td>\n",
       "      <td>sup pan bco ajonjoli</td>\n",
       "    </tr>\n",
       "    <tr>\n",
       "      <th>9</th>\n",
       "      <td>106</td>\n",
       "      <td>Wonder 100pct mediano 475g WON 106</td>\n",
       "      <td>Wonder</td>\n",
       "      <td>WON</td>\n",
       "      <td>475.0</td>\n",
       "      <td>NaN</td>\n",
       "      <td>wond</td>\n",
       "    </tr>\n",
       "    <tr>\n",
       "      <th>10</th>\n",
       "      <td>107</td>\n",
       "      <td>Wonder 100pct gde 680g SP WON 107</td>\n",
       "      <td>Wonder</td>\n",
       "      <td>WON</td>\n",
       "      <td>680.0</td>\n",
       "      <td>NaN</td>\n",
       "      <td>wond</td>\n",
       "    </tr>\n",
       "    <tr>\n",
       "      <th>11</th>\n",
       "      <td>108</td>\n",
       "      <td>Baguette Precocida Cong 280g DH 108</td>\n",
       "      <td>Baguette Precocida Cong</td>\n",
       "      <td>DH</td>\n",
       "      <td>280.0</td>\n",
       "      <td>NaN</td>\n",
       "      <td>baguett precoc cong</td>\n",
       "    </tr>\n",
       "    <tr>\n",
       "      <th>12</th>\n",
       "      <td>109</td>\n",
       "      <td>Pan Multicereal 475g WON 109</td>\n",
       "      <td>Pan Multicereal</td>\n",
       "      <td>WON</td>\n",
       "      <td>475.0</td>\n",
       "      <td>NaN</td>\n",
       "      <td>pan multicereal</td>\n",
       "    </tr>\n",
       "    <tr>\n",
       "      <th>13</th>\n",
       "      <td>112</td>\n",
       "      <td>Tostado Integral 180g WON 112</td>\n",
       "      <td>Tostado Integral</td>\n",
       "      <td>WON</td>\n",
       "      <td>180.0</td>\n",
       "      <td>NaN</td>\n",
       "      <td>tost integral</td>\n",
       "    </tr>\n",
       "    <tr>\n",
       "      <th>14</th>\n",
       "      <td>122</td>\n",
       "      <td>Biscotel Receta Original 410g CU SUA 122</td>\n",
       "      <td>Biscotel Receta Original</td>\n",
       "      <td>SUA</td>\n",
       "      <td>410.0</td>\n",
       "      <td>NaN</td>\n",
       "      <td>biscotel recet original</td>\n",
       "    </tr>\n",
       "    <tr>\n",
       "      <th>15</th>\n",
       "      <td>123</td>\n",
       "      <td>Super Bollos 5in 8p 540g WON 123</td>\n",
       "      <td>Super Bollos</td>\n",
       "      <td>WON</td>\n",
       "      <td>540.0</td>\n",
       "      <td>8.0</td>\n",
       "      <td>sup boll</td>\n",
       "    </tr>\n",
       "    <tr>\n",
       "      <th>16</th>\n",
       "      <td>125</td>\n",
       "      <td>Bollos 8p 450g WON 125</td>\n",
       "      <td>Bollos</td>\n",
       "      <td>WON</td>\n",
       "      <td>450.0</td>\n",
       "      <td>8.0</td>\n",
       "      <td>boll</td>\n",
       "    </tr>\n",
       "    <tr>\n",
       "      <th>17</th>\n",
       "      <td>131</td>\n",
       "      <td>Bollos BK 4in 36p 1635g SL 131</td>\n",
       "      <td>Bollos BK</td>\n",
       "      <td>SL</td>\n",
       "      <td>1635.0</td>\n",
       "      <td>36.0</td>\n",
       "      <td>boll bk</td>\n",
       "    </tr>\n",
       "    <tr>\n",
       "      <th>18</th>\n",
       "      <td>132</td>\n",
       "      <td>Bollos BK 5in 30p 1730g SL 132</td>\n",
       "      <td>Bollos BK</td>\n",
       "      <td>SL</td>\n",
       "      <td>1730.0</td>\n",
       "      <td>30.0</td>\n",
       "      <td>boll bk</td>\n",
       "    </tr>\n",
       "    <tr>\n",
       "      <th>19</th>\n",
       "      <td>134</td>\n",
       "      <td>Bollos BK 4in 30p 1635g TIR SL 134</td>\n",
       "      <td>Bollos BK</td>\n",
       "      <td>SL</td>\n",
       "      <td>1635.0</td>\n",
       "      <td>30.0</td>\n",
       "      <td>boll bk</td>\n",
       "    </tr>\n",
       "  </tbody>\n",
       "</table>\n",
       "</div>"
      ],
      "text/plain": [
       "    Producto_ID                            NombreProducto  \\\n",
       "0             0                         NO IDENTIFICADO 0   \n",
       "1             9                 Capuccino Moka 750g NES 9   \n",
       "2            41   Bimbollos Ext s Ajonjoli 6p 480g BIM 41   \n",
       "3            53            Burritos Sincro 170g CU LON 53   \n",
       "4            72       Div Tira Mini Doradita 4p 45g TR 72   \n",
       "5            73         Pan Multigrano Linaza 540g BIM 73   \n",
       "6            98              Tostado Integral 180g WON 98   \n",
       "7            99                    Pan Blanco 567g WON 99   \n",
       "8           100    Super Pan Bco Ajonjoli 680g SP WON 100   \n",
       "9           106        Wonder 100pct mediano 475g WON 106   \n",
       "10          107         Wonder 100pct gde 680g SP WON 107   \n",
       "11          108       Baguette Precocida Cong 280g DH 108   \n",
       "12          109              Pan Multicereal 475g WON 109   \n",
       "13          112             Tostado Integral 180g WON 112   \n",
       "14          122  Biscotel Receta Original 410g CU SUA 122   \n",
       "15          123          Super Bollos 5in 8p 540g WON 123   \n",
       "16          125                    Bollos 8p 450g WON 125   \n",
       "17          131            Bollos BK 4in 36p 1635g SL 131   \n",
       "18          132            Bollos BK 5in 30p 1730g SL 132   \n",
       "19          134        Bollos BK 4in 30p 1635g TIR SL 134   \n",
       "\n",
       "                   short_name         brand  weight  pieces  \\\n",
       "0            NO IDENTIFICADO   IDENTIFICADO     NaN     NaN   \n",
       "1             Capuccino Moka            NES   750.0     NaN   \n",
       "2   Bimbollos Ext s Ajonjoli            BIM   480.0     6.0   \n",
       "3            Burritos Sincro            LON   170.0     NaN   \n",
       "4     Div Tira Mini Doradita             TR    45.0     4.0   \n",
       "5      Pan Multigrano Linaza            BIM   540.0     NaN   \n",
       "6           Tostado Integral            WON   180.0     NaN   \n",
       "7                 Pan Blanco            WON   567.0     NaN   \n",
       "8     Super Pan Bco Ajonjoli            WON   680.0     NaN   \n",
       "9                     Wonder            WON   475.0     NaN   \n",
       "10                    Wonder            WON   680.0     NaN   \n",
       "11   Baguette Precocida Cong             DH   280.0     NaN   \n",
       "12           Pan Multicereal            WON   475.0     NaN   \n",
       "13          Tostado Integral            WON   180.0     NaN   \n",
       "14  Biscotel Receta Original            SUA   410.0     NaN   \n",
       "15              Super Bollos            WON   540.0     8.0   \n",
       "16                    Bollos            WON   450.0     8.0   \n",
       "17                 Bollos BK             SL  1635.0    36.0   \n",
       "18                 Bollos BK             SL  1730.0    30.0   \n",
       "19                 Bollos BK             SL  1635.0    30.0   \n",
       "\n",
       "       short_name_processed  \n",
       "0                 identific  \n",
       "1              capuccin mok  \n",
       "2    bimboll ext s ajonjoli  \n",
       "3              burrit sincr  \n",
       "4      div tir mini doradit  \n",
       "5       pan multigran linaz  \n",
       "6             tost integral  \n",
       "7                 pan blanc  \n",
       "8      sup pan bco ajonjoli  \n",
       "9                      wond  \n",
       "10                     wond  \n",
       "11      baguett precoc cong  \n",
       "12          pan multicereal  \n",
       "13            tost integral  \n",
       "14  biscotel recet original  \n",
       "15                 sup boll  \n",
       "16                     boll  \n",
       "17                  boll bk  \n",
       "18                  boll bk  \n",
       "19                  boll bk  "
      ]
     },
     "execution_count": 26,
     "metadata": {},
     "output_type": "execute_result"
    },
    {
     "data": {
      "image/png": "[encoded data removed]",
      "text/plain": [
       "<matplotlib.figure.Figure at 0x7f77b5d7c090>"
      ]
     },
     "metadata": {},
     "output_type": "display_data"
    }
   ],
   "source": [
    "begin, end = 0, 20\n",
    "\n",
    "plt.figure(figsize=(15, 10))\n",
    "sns.heatmap(LDA_features[begin:end], square=True)\n",
    "products[begin:end]"
   ]
  },
  {
   "cell_type": "code",
   "execution_count": 27,
   "metadata": {
    "ExecuteTime": {
     "end_time": "2016-07-13T11:53:23.014501",
     "start_time": "2016-07-13T11:53:21.928247"
    },
    "collapsed": false
   },
   "outputs": [
    {
     "data": {
      "text/plain": [
       "<matplotlib.axes._subplots.AxesSubplot at 0x7f778c07e550>"
      ]
     },
     "execution_count": 27,
     "metadata": {},
     "output_type": "execute_result"
    },
    {
     "data": {
      "image/png": "[encoded data removed]",
      "text/plain": [
       "<matplotlib.figure.Figure at 0x7f778c090a50>"
      ]
     },
     "metadata": {},
     "output_type": "display_data"
    }
   ],
   "source": [
    "from sklearn.cluster import AgglomerativeClustering\n",
    "\n",
    "clust = AgglomerativeClustering(n_clusters=10, affinity='cosine', linkage = 'complete')\n",
    "\n",
    "LDA_brand_means = LDA_features.groupby(products.brand).mean()\n",
    "\n",
    "clusters = clust.fit_predict(LDA_brand_means)\n",
    "clusters = pd.Series(clusters, index = LDA_brand_means.index).sort_values()\n",
    "LDA_brand_means_sorted = LDA_brand_means.loc[clusters.index, :]\n",
    "LDA_brand_means_sorted.set_index(clusters.values, append=True, inplace=True)\n",
    "plt.figure(figsize=(15, 10))\n",
    "sns.heatmap(LDA_brand_means_sorted, square=True)"
   ]
  },
  {
   "cell_type": "markdown",
   "metadata": {},
   "source": [
    "По производителям кластеризация если и получилась, то только по 3 кластеру"
   ]
  },
  {
   "cell_type": "markdown",
   "metadata": {},
   "source": [
    "## LSI"
   ]
  },
  {
   "cell_type": "code",
   "execution_count": 28,
   "metadata": {
    "ExecuteTime": {
     "end_time": "2016-07-13T11:43:24.631099",
     "start_time": "2016-07-13T11:43:24.508295"
    },
    "collapsed": false
   },
   "outputs": [],
   "source": [
    "np.random.seed(42)\n",
    "\n",
    "num_topics = 21\n",
    "\n",
    "lsi = models.LsiModel(corpus, num_topics=num_topics, id2word=dictionary)"
   ]
  },
  {
   "cell_type": "code",
   "execution_count": 29,
   "metadata": {
    "ExecuteTime": {
     "end_time": "2016-07-13T11:43:24.752430",
     "start_time": "2016-07-13T11:43:24.634681"
    },
    "collapsed": false
   },
   "outputs": [
    {
     "data": {
      "text/plain": [
       "[(0,\n",
       "  [(u'pan', 0.86166447059900464),\n",
       "   (u'blanc', 0.38024187486366812),\n",
       "   (u'duo', 0.15707928596535761),\n",
       "   (u'multigran', 0.12836095676268494),\n",
       "   (u'fibr', 0.11230446278456183),\n",
       "   (u'integral', 0.11007519290292833),\n",
       "   (u'mm', 0.10177114556519364),\n",
       "   (u'sup', 0.082818990647648888),\n",
       "   (u'tost', 0.070569158041016253),\n",
       "   (u'siluet', 0.0622632544177237)]),\n",
       " (1,\n",
       "  [(u'fres', 0.7677893486294084),\n",
       "   (u'barrit', 0.31370098499714655),\n",
       "   (u'frut', 0.28762431187143517),\n",
       "   (u'bran', 0.27765281304005301),\n",
       "   (u'duo', 0.19380053505961439),\n",
       "   (u'pin', 0.18654932969260465),\n",
       "   (u'suavicrem', 0.1369239103878396),\n",
       "   (u'tartin', 0.091081459436169659),\n",
       "   (u'kc', 0.077835772926920788),\n",
       "   (u'pan', -0.076719149746692319)]),\n",
       " (2,\n",
       "  [(u'tub', -0.54806003791047486),\n",
       "   (u'tost', -0.54383602349400206),\n",
       "   (u'gansit', -0.30294651903266573),\n",
       "   (u'gallet', -0.22798239129178421),\n",
       "   (u'duo', -0.18665626040435493),\n",
       "   (u'chocolat', -0.15427847115140914),\n",
       "   (u'ondul', -0.15103566987277328),\n",
       "   (u'triki', -0.15004657510316047),\n",
       "   (u'trak', -0.13393441458938751),\n",
       "   (u'vainill', -0.12796041509115913)]),\n",
       " (3,\n",
       "  [(u'vainill', 0.59693268596100291),\n",
       "   (u'delici', 0.54479986583717088),\n",
       "   (u'tost', -0.2812180576175986),\n",
       "   (u'suavicrem', 0.28008110732914604),\n",
       "   (u'chocolat', 0.27506435333935736),\n",
       "   (u'tub', -0.18549210208806569),\n",
       "   (u'frut', -0.09657088634337585),\n",
       "   (u'bran', -0.089248877189995829),\n",
       "   (u'duo', 0.082592165221566038),\n",
       "   (u'gansit', 0.082497898679370352)]),\n",
       " (4,\n",
       "  [(u'duo', 0.51845408031678397),\n",
       "   (u'gansit', 0.49245124417489367),\n",
       "   (u'tost', -0.34245268901101433),\n",
       "   (u'gallet', 0.31260252700621532),\n",
       "   (u'fres', -0.20715136601787526),\n",
       "   (u'vainill', -0.20659507644766076),\n",
       "   (u'delici', -0.18274334904800504),\n",
       "   (u'tub', -0.1784238470243463),\n",
       "   (u'mas', 0.10733061750953435),\n",
       "   (u'mini', 0.10687415548309999)]),\n",
       " (5,\n",
       "  [(u'frut', -0.59340500521948703),\n",
       "   (u'bran', -0.54802926688874976),\n",
       "   (u'barrit', 0.32237728827399215),\n",
       "   (u'fres', 0.25792288674213248),\n",
       "   (u'delici', -0.1781195936807993),\n",
       "   (u'suavicrem', 0.13997743310262142),\n",
       "   (u'chocolat', 0.1309309719263223),\n",
       "   (u'vainill', -0.12644203682322872),\n",
       "   (u'kc', 0.10542144225262225),\n",
       "   (u'aven', -0.09747370043331692)]),\n",
       " (6,\n",
       "  [(u'tost', 0.43511584114073815),\n",
       "   (u'chocolat', -0.31887664919175085),\n",
       "   (u'duo', 0.28461327536522923),\n",
       "   (u'tub', -0.27882114263937963),\n",
       "   (u'triki', -0.24441413425737829),\n",
       "   (u'nuez', 0.23447938664126375),\n",
       "   (u'barrit', 0.21258098245522286),\n",
       "   (u'gallet', -0.21071362500565907),\n",
       "   (u'trak', -0.20891465400763093),\n",
       "   (u'multigran', 0.17698364533352062)]),\n",
       " (7,\n",
       "  [(u'nuez', -0.593928696926876),\n",
       "   (u'multigran', -0.36312780296312508),\n",
       "   (u'lat', -0.29081369535924373),\n",
       "   (u'bes', -0.2796643880420559),\n",
       "   (u'barr', -0.27426585482755211),\n",
       "   (u'mantec', -0.19244502368939798),\n",
       "   (u'tost', 0.15589364685266735),\n",
       "   (u'tub', -0.14722245180609703),\n",
       "   (u'chocolat', -0.14326225628728634),\n",
       "   (u'barrit', 0.13759949920430617)]),\n",
       " (8,\n",
       "  [(u'tortill', -0.80914116986606632),\n",
       "   (u'hna', -0.44231279973711002),\n",
       "   (u'harin', -0.23568232641567316),\n",
       "   (u'chocolat', -0.10222645030963502),\n",
       "   (u'tub', 0.092633372539044787),\n",
       "   (u'duo', 0.0711731803950202),\n",
       "   (u'suavicrem', -0.070386623680940341),\n",
       "   (u'rb', -0.063216915114334304),\n",
       "   (u'maiz', -0.061809001192136601),\n",
       "   (u'gallet', -0.061216245325767048)]),\n",
       " (9,\n",
       "  [(u'chocolat', -0.43336249916427533),\n",
       "   (u'tub', 0.37440688949018458),\n",
       "   (u'tost', -0.34334289776030469),\n",
       "   (u'suavicrem', -0.28042183240781854),\n",
       "   (u'barrit', 0.2657323794012742),\n",
       "   (u'triki', 0.23781608449693445),\n",
       "   (u'delici', 0.21168856459412339),\n",
       "   (u'pin', 0.20498437743989401),\n",
       "   (u'tortill', 0.20362552704850923),\n",
       "   (u'trak', 0.20273703015372374)]),\n",
       " (10,\n",
       "  [(u'gallet', -0.57114198434341423),\n",
       "   (u'chocolat', 0.42829685565703812),\n",
       "   (u'duo', 0.40873596967109932),\n",
       "   (u'gansit', -0.21295535399506532),\n",
       "   (u'fres', -0.21146799525590759),\n",
       "   (u'suavicrem', 0.16935843891009653),\n",
       "   (u'bran', 0.13720119893549612),\n",
       "   (u'delici', -0.13173922650080355),\n",
       "   (u'triki', 0.10995985015004349),\n",
       "   (u'aven', -0.10942243176809395)]),\n",
       " (11,\n",
       "  [(u'medi', -0.70733977985003971),\n",
       "   (u'noch', -0.67396331806839882),\n",
       "   (u'fs', -0.094295184979905966),\n",
       "   (u'bk', -0.083015003427902856),\n",
       "   (u'convenient', -0.064241521149727324),\n",
       "   (u'multigran', 0.056481332829687765),\n",
       "   (u'barrit', -0.047922143782794455),\n",
       "   (u'lat', -0.046081687732493617),\n",
       "   (u'pin', -0.044994611282618037),\n",
       "   (u'boll', -0.04467823553433159)]),\n",
       " (12,\n",
       "  [(u'barrit', 0.49220086843833072),\n",
       "   (u'pin', 0.44089719340925798),\n",
       "   (u'chocolat', 0.29874370798470057),\n",
       "   (u'fres', -0.28875024967974083),\n",
       "   (u'multigran', -0.22425427601552297),\n",
       "   (u'duo', -0.20519405368258484),\n",
       "   (u'lat', 0.18946587590672159),\n",
       "   (u'blanc', 0.18218618822883104),\n",
       "   (u'nuez', 0.16411674490263756),\n",
       "   (u'barr', -0.14506509758949385)]),\n",
       " (13,\n",
       "  [(u'multigran', -0.50893148106016672),\n",
       "   (u'lat', 0.31380078885097595),\n",
       "   (u'barr', -0.30815898795148261),\n",
       "   (u'blanc', 0.25008500855328086),\n",
       "   (u'linaz', -0.2375894644774611),\n",
       "   (u'gallet', -0.23033238476093182),\n",
       "   (u'bes', 0.20728212372449356),\n",
       "   (u'barrit', -0.20086567030052058),\n",
       "   (u'duo', 0.18953334875022182),\n",
       "   (u'nuez', 0.18431358010406437)]),\n",
       " (14,\n",
       "  [(u'rol', -0.61972879003479031),\n",
       "   (u'choc', -0.61776690190856942),\n",
       "   (u'canel', -0.15588554656553374),\n",
       "   (u'pin', -0.15082699060740745),\n",
       "   (u'tub', 0.14614033220010578),\n",
       "   (u'suavicrem', 0.12666264596506194),\n",
       "   (u'duo', 0.11599175767573783),\n",
       "   (u'chocolat', -0.11423099518777512),\n",
       "   (u'delici', -0.10689505409067651),\n",
       "   (u'multigran', -0.099960196201922716)]),\n",
       " (15,\n",
       "  [(u'delici', 0.46823498018551624),\n",
       "   (u'suavicrem', -0.3804527254022117),\n",
       "   (u'vainill', -0.36802698834123498),\n",
       "   (u'gansit', 0.27496950563597561),\n",
       "   (u'mini', 0.26392685687696971),\n",
       "   (u'gallet', -0.25039439715438067),\n",
       "   (u'chocolat', 0.18247620644329135),\n",
       "   (u'rol', -0.17274650736203773),\n",
       "   (u'choc', -0.14588744647473115),\n",
       "   (u'chochit', 0.14465806670927867)]),\n",
       " (16,\n",
       "  [(u'triki', 0.48325365828078076),\n",
       "   (u'trak', 0.37827139714223168),\n",
       "   (u'tub', -0.28607349207675847),\n",
       "   (u'delici', 0.21701218501909883),\n",
       "   (u'princip', -0.21009296749329062),\n",
       "   (u'blanc', -0.20251396117589396),\n",
       "   (u'integral', 0.19171151132105782),\n",
       "   (u'vainill', -0.19076244465045336),\n",
       "   (u'gansit', -0.18696368272919259),\n",
       "   (u'gallet', 0.17246948448518612)]),\n",
       " (17,\n",
       "  [(u'triki', 0.38079256982502419),\n",
       "   (u'mini', 0.31814999724466014),\n",
       "   (u'gansit', 0.30856580974198561),\n",
       "   (u'trak', 0.29758411072930269),\n",
       "   (u'vainill', 0.27110805832027679),\n",
       "   (u'delici', -0.24786207694605228),\n",
       "   (u'tub', -0.22994104598971299),\n",
       "   (u'princip', -0.19384125988283368),\n",
       "   (u'chocolat', -0.19039366130305205),\n",
       "   (u'gallet', -0.18675923045631782)]),\n",
       " (18,\n",
       "  [(u'boll', 0.58426067532615722),\n",
       "   (u'mini', -0.4205014212578444),\n",
       "   (u'sup', 0.24980351701534934),\n",
       "   (u'fibr', -0.24102912845692501),\n",
       "   (u'blanc', 0.23074305898967867),\n",
       "   (u'doradit', -0.16865072338848017),\n",
       "   (u'bk', 0.15260005719607864),\n",
       "   (u'dobl', -0.15071347713545555),\n",
       "   (u'princip', -0.11732413442946801),\n",
       "   (u'tir', -0.11440855514234773)]),\n",
       " (19,\n",
       "  [(u'boll', -0.61797827421097151),\n",
       "   (u'mini', -0.38175982758988053),\n",
       "   (u'blanc', 0.30093782690511267),\n",
       "   (u'sup', -0.19815828459749121),\n",
       "   (u'gansit', 0.18337106078885176),\n",
       "   (u'fibr', -0.16582415598325911),\n",
       "   (u'doradit', -0.1625718998280446),\n",
       "   (u'bk', -0.16013452904460618),\n",
       "   (u'mantec', 0.13495617561635803),\n",
       "   (u'integral', -0.12547475700782912)]),\n",
       " (20,\n",
       "  [(u'fibr', 0.48917488937599241),\n",
       "   (u'gansit', 0.37189318697346474),\n",
       "   (u'mini', -0.35109442851193035),\n",
       "   (u'dobl', 0.34225631722894773),\n",
       "   (u'gallet', -0.21392747951971028),\n",
       "   (u'blanc', -0.20554181888282219),\n",
       "   (u'duo', -0.18446279256587991),\n",
       "   (u'doradit', -0.17015758757971006),\n",
       "   (u'lat', 0.16286530568357377),\n",
       "   (u'sandwich', 0.11888073070912768)])]"
      ]
     },
     "execution_count": 29,
     "metadata": {},
     "output_type": "execute_result"
    }
   ],
   "source": [
    "lsi.show_topics(num_topics=num_topics, num_words=10, formatted=False)"
   ]
  },
  {
   "cell_type": "code",
   "execution_count": 30,
   "metadata": {
    "ExecuteTime": {
     "end_time": "2016-07-13T11:43:41.337846",
     "start_time": "2016-07-13T11:43:24.759895"
    },
    "collapsed": false
   },
   "outputs": [
    {
     "data": {
      "text/html": [
       "<div>\n",
       "<table border=\"1\" class=\"dataframe\">\n",
       "  <thead>\n",
       "    <tr style=\"text-align: right;\">\n",
       "      <th></th>\n",
       "      <th>LSI_feature_0</th>\n",
       "      <th>LSI_feature_1</th>\n",
       "      <th>LSI_feature_2</th>\n",
       "      <th>LSI_feature_3</th>\n",
       "      <th>LSI_feature_4</th>\n",
       "      <th>LSI_feature_5</th>\n",
       "      <th>LSI_feature_6</th>\n",
       "      <th>LSI_feature_7</th>\n",
       "      <th>LSI_feature_8</th>\n",
       "      <th>LSI_feature_9</th>\n",
       "      <th>...</th>\n",
       "      <th>LSI_feature_11</th>\n",
       "      <th>LSI_feature_12</th>\n",
       "      <th>LSI_feature_13</th>\n",
       "      <th>LSI_feature_14</th>\n",
       "      <th>LSI_feature_15</th>\n",
       "      <th>LSI_feature_16</th>\n",
       "      <th>LSI_feature_17</th>\n",
       "      <th>LSI_feature_18</th>\n",
       "      <th>LSI_feature_19</th>\n",
       "      <th>LSI_feature_20</th>\n",
       "    </tr>\n",
       "  </thead>\n",
       "  <tbody>\n",
       "    <tr>\n",
       "      <th>0</th>\n",
       "      <td>1.533432e-07</td>\n",
       "      <td>-1.763921e-07</td>\n",
       "      <td>6.329051e-07</td>\n",
       "      <td>-7.592310e-09</td>\n",
       "      <td>6.495715e-07</td>\n",
       "      <td>-9.885120e-07</td>\n",
       "      <td>-1.096539e-07</td>\n",
       "      <td>2.570845e-07</td>\n",
       "      <td>0.000002</td>\n",
       "      <td>1.270136e-06</td>\n",
       "      <td>...</td>\n",
       "      <td>0.000003</td>\n",
       "      <td>-0.000002</td>\n",
       "      <td>-0.000003</td>\n",
       "      <td>0.000005</td>\n",
       "      <td>1.458423e-07</td>\n",
       "      <td>0.000001</td>\n",
       "      <td>0.000007</td>\n",
       "      <td>-4.943137e-08</td>\n",
       "      <td>0.000002</td>\n",
       "      <td>-0.000003</td>\n",
       "    </tr>\n",
       "    <tr>\n",
       "      <th>1</th>\n",
       "      <td>1.343032e-06</td>\n",
       "      <td>-1.111120e-06</td>\n",
       "      <td>2.459094e-06</td>\n",
       "      <td>7.152381e-06</td>\n",
       "      <td>-2.924366e-06</td>\n",
       "      <td>-7.075187e-07</td>\n",
       "      <td>-5.840068e-07</td>\n",
       "      <td>-4.849395e-07</td>\n",
       "      <td>-0.000004</td>\n",
       "      <td>-4.089086e-07</td>\n",
       "      <td>...</td>\n",
       "      <td>0.000019</td>\n",
       "      <td>0.000028</td>\n",
       "      <td>0.000026</td>\n",
       "      <td>-0.000016</td>\n",
       "      <td>2.374186e-05</td>\n",
       "      <td>-0.000021</td>\n",
       "      <td>0.000023</td>\n",
       "      <td>1.577935e-05</td>\n",
       "      <td>0.000035</td>\n",
       "      <td>0.000076</td>\n",
       "    </tr>\n",
       "    <tr>\n",
       "      <th>2</th>\n",
       "      <td>3.443539e-02</td>\n",
       "      <td>-4.570514e-03</td>\n",
       "      <td>8.246710e-03</td>\n",
       "      <td>8.374883e-04</td>\n",
       "      <td>-7.797567e-03</td>\n",
       "      <td>1.767193e-03</td>\n",
       "      <td>-1.535661e-02</td>\n",
       "      <td>3.853018e-03</td>\n",
       "      <td>-0.000212</td>\n",
       "      <td>2.835361e-03</td>\n",
       "      <td>...</td>\n",
       "      <td>-0.029372</td>\n",
       "      <td>0.008905</td>\n",
       "      <td>0.015703</td>\n",
       "      <td>-0.002111</td>\n",
       "      <td>8.699636e-03</td>\n",
       "      <td>-0.026339</td>\n",
       "      <td>0.019355</td>\n",
       "      <td>1.560478e-01</td>\n",
       "      <td>-0.160098</td>\n",
       "      <td>0.025404</td>\n",
       "    </tr>\n",
       "    <tr>\n",
       "      <th>3</th>\n",
       "      <td>1.613579e-04</td>\n",
       "      <td>1.364242e-05</td>\n",
       "      <td>-1.484953e-03</td>\n",
       "      <td>-6.290792e-04</td>\n",
       "      <td>-6.229759e-04</td>\n",
       "      <td>-9.874759e-05</td>\n",
       "      <td>2.057393e-03</td>\n",
       "      <td>5.063830e-04</td>\n",
       "      <td>-0.000703</td>\n",
       "      <td>-1.757354e-03</td>\n",
       "      <td>...</td>\n",
       "      <td>0.000635</td>\n",
       "      <td>-0.000355</td>\n",
       "      <td>-0.001322</td>\n",
       "      <td>-0.001241</td>\n",
       "      <td>-1.959197e-04</td>\n",
       "      <td>0.002957</td>\n",
       "      <td>0.002444</td>\n",
       "      <td>-2.162382e-03</td>\n",
       "      <td>-0.000555</td>\n",
       "      <td>0.003477</td>\n",
       "    </tr>\n",
       "    <tr>\n",
       "      <th>4</th>\n",
       "      <td>8.519509e-03</td>\n",
       "      <td>3.628866e-02</td>\n",
       "      <td>-8.022087e-02</td>\n",
       "      <td>4.103610e-02</td>\n",
       "      <td>1.522816e-01</td>\n",
       "      <td>2.626381e-02</td>\n",
       "      <td>-1.421951e-02</td>\n",
       "      <td>-1.134333e-02</td>\n",
       "      <td>-0.019529</td>\n",
       "      <td>-8.584629e-02</td>\n",
       "      <td>...</td>\n",
       "      <td>-0.006269</td>\n",
       "      <td>-0.002036</td>\n",
       "      <td>0.186159</td>\n",
       "      <td>-0.050938</td>\n",
       "      <td>4.437742e-01</td>\n",
       "      <td>-0.227844</td>\n",
       "      <td>0.566918</td>\n",
       "      <td>-7.973363e-01</td>\n",
       "      <td>-0.739843</td>\n",
       "      <td>-0.725356</td>\n",
       "    </tr>\n",
       "  </tbody>\n",
       "</table>\n",
       "<p>5 rows × 21 columns</p>\n",
       "</div>"
      ],
      "text/plain": [
       "   LSI_feature_0  LSI_feature_1  LSI_feature_2  LSI_feature_3  LSI_feature_4  \\\n",
       "0   1.533432e-07  -1.763921e-07   6.329051e-07  -7.592310e-09   6.495715e-07   \n",
       "1   1.343032e-06  -1.111120e-06   2.459094e-06   7.152381e-06  -2.924366e-06   \n",
       "2   3.443539e-02  -4.570514e-03   8.246710e-03   8.374883e-04  -7.797567e-03   \n",
       "3   1.613579e-04   1.364242e-05  -1.484953e-03  -6.290792e-04  -6.229759e-04   \n",
       "4   8.519509e-03   3.628866e-02  -8.022087e-02   4.103610e-02   1.522816e-01   \n",
       "\n",
       "   LSI_feature_5  LSI_feature_6  LSI_feature_7  LSI_feature_8  LSI_feature_9  \\\n",
       "0  -9.885120e-07  -1.096539e-07   2.570845e-07       0.000002   1.270136e-06   \n",
       "1  -7.075187e-07  -5.840068e-07  -4.849395e-07      -0.000004  -4.089086e-07   \n",
       "2   1.767193e-03  -1.535661e-02   3.853018e-03      -0.000212   2.835361e-03   \n",
       "3  -9.874759e-05   2.057393e-03   5.063830e-04      -0.000703  -1.757354e-03   \n",
       "4   2.626381e-02  -1.421951e-02  -1.134333e-02      -0.019529  -8.584629e-02   \n",
       "\n",
       "        ...        LSI_feature_11  LSI_feature_12  LSI_feature_13  \\\n",
       "0       ...              0.000003       -0.000002       -0.000003   \n",
       "1       ...              0.000019        0.000028        0.000026   \n",
       "2       ...             -0.029372        0.008905        0.015703   \n",
       "3       ...              0.000635       -0.000355       -0.001322   \n",
       "4       ...             -0.006269       -0.002036        0.186159   \n",
       "\n",
       "   LSI_feature_14  LSI_feature_15  LSI_feature_16  LSI_feature_17  \\\n",
       "0        0.000005    1.458423e-07        0.000001        0.000007   \n",
       "1       -0.000016    2.374186e-05       -0.000021        0.000023   \n",
       "2       -0.002111    8.699636e-03       -0.026339        0.019355   \n",
       "3       -0.001241   -1.959197e-04        0.002957        0.002444   \n",
       "4       -0.050938    4.437742e-01       -0.227844        0.566918   \n",
       "\n",
       "   LSI_feature_18  LSI_feature_19  LSI_feature_20  \n",
       "0   -4.943137e-08        0.000002       -0.000003  \n",
       "1    1.577935e-05        0.000035        0.000076  \n",
       "2    1.560478e-01       -0.160098        0.025404  \n",
       "3   -2.162382e-03       -0.000555        0.003477  \n",
       "4   -7.973363e-01       -0.739843       -0.725356  \n",
       "\n",
       "[5 rows x 21 columns]"
      ]
     },
     "execution_count": 30,
     "metadata": {},
     "output_type": "execute_result"
    }
   ],
   "source": [
    "LSI_features = pd.DataFrame(np.zeros((len(corpus), lsi.num_topics)),\n",
    "                            index=products.index, columns=['LSI_feature_%d'%i for i in range(lsi.num_topics)])\n",
    "\n",
    "for i, text in enumerate(lsi[corpus]):\n",
    "    for token, prob in text:\n",
    "        LSI_features.ix[i, token] = prob\n",
    "        \n",
    "LSI_features.head()"
   ]
  },
  {
   "cell_type": "code",
   "execution_count": 31,
   "metadata": {
    "ExecuteTime": {
     "end_time": "2016-07-13T11:43:42.296291",
     "start_time": "2016-07-13T11:43:41.340181"
    },
    "collapsed": false
   },
   "outputs": [
    {
     "data": {
      "text/html": [
       "<div>\n",
       "<table border=\"1\" class=\"dataframe\">\n",
       "  <thead>\n",
       "    <tr style=\"text-align: right;\">\n",
       "      <th></th>\n",
       "      <th>Producto_ID</th>\n",
       "      <th>NombreProducto</th>\n",
       "      <th>short_name</th>\n",
       "      <th>brand</th>\n",
       "      <th>weight</th>\n",
       "      <th>pieces</th>\n",
       "      <th>short_name_processed</th>\n",
       "    </tr>\n",
       "  </thead>\n",
       "  <tbody>\n",
       "    <tr>\n",
       "      <th>0</th>\n",
       "      <td>0</td>\n",
       "      <td>NO IDENTIFICADO 0</td>\n",
       "      <td>NO IDENTIFICADO</td>\n",
       "      <td>IDENTIFICADO</td>\n",
       "      <td>NaN</td>\n",
       "      <td>NaN</td>\n",
       "      <td>identific</td>\n",
       "    </tr>\n",
       "    <tr>\n",
       "      <th>1</th>\n",
       "      <td>9</td>\n",
       "      <td>Capuccino Moka 750g NES 9</td>\n",
       "      <td>Capuccino Moka</td>\n",
       "      <td>NES</td>\n",
       "      <td>750.0</td>\n",
       "      <td>NaN</td>\n",
       "      <td>capuccin mok</td>\n",
       "    </tr>\n",
       "    <tr>\n",
       "      <th>2</th>\n",
       "      <td>41</td>\n",
       "      <td>Bimbollos Ext s Ajonjoli 6p 480g BIM 41</td>\n",
       "      <td>Bimbollos Ext s Ajonjoli</td>\n",
       "      <td>BIM</td>\n",
       "      <td>480.0</td>\n",
       "      <td>6.0</td>\n",
       "      <td>bimboll ext s ajonjoli</td>\n",
       "    </tr>\n",
       "    <tr>\n",
       "      <th>3</th>\n",
       "      <td>53</td>\n",
       "      <td>Burritos Sincro 170g CU LON 53</td>\n",
       "      <td>Burritos Sincro</td>\n",
       "      <td>LON</td>\n",
       "      <td>170.0</td>\n",
       "      <td>NaN</td>\n",
       "      <td>burrit sincr</td>\n",
       "    </tr>\n",
       "    <tr>\n",
       "      <th>4</th>\n",
       "      <td>72</td>\n",
       "      <td>Div Tira Mini Doradita 4p 45g TR 72</td>\n",
       "      <td>Div Tira Mini Doradita</td>\n",
       "      <td>TR</td>\n",
       "      <td>45.0</td>\n",
       "      <td>4.0</td>\n",
       "      <td>div tir mini doradit</td>\n",
       "    </tr>\n",
       "    <tr>\n",
       "      <th>5</th>\n",
       "      <td>73</td>\n",
       "      <td>Pan Multigrano Linaza 540g BIM 73</td>\n",
       "      <td>Pan Multigrano Linaza</td>\n",
       "      <td>BIM</td>\n",
       "      <td>540.0</td>\n",
       "      <td>NaN</td>\n",
       "      <td>pan multigran linaz</td>\n",
       "    </tr>\n",
       "    <tr>\n",
       "      <th>6</th>\n",
       "      <td>98</td>\n",
       "      <td>Tostado Integral 180g WON 98</td>\n",
       "      <td>Tostado Integral</td>\n",
       "      <td>WON</td>\n",
       "      <td>180.0</td>\n",
       "      <td>NaN</td>\n",
       "      <td>tost integral</td>\n",
       "    </tr>\n",
       "    <tr>\n",
       "      <th>7</th>\n",
       "      <td>99</td>\n",
       "      <td>Pan Blanco 567g WON 99</td>\n",
       "      <td>Pan Blanco</td>\n",
       "      <td>WON</td>\n",
       "      <td>567.0</td>\n",
       "      <td>NaN</td>\n",
       "      <td>pan blanc</td>\n",
       "    </tr>\n",
       "    <tr>\n",
       "      <th>8</th>\n",
       "      <td>100</td>\n",
       "      <td>Super Pan Bco Ajonjoli 680g SP WON 100</td>\n",
       "      <td>Super Pan Bco Ajonjoli</td>\n",
       "      <td>WON</td>\n",
       "      <td>680.0</td>\n",
       "      <td>NaN</td>\n",
       "      <td>sup pan bco ajonjoli</td>\n",
       "    </tr>\n",
       "    <tr>\n",
       "      <th>9</th>\n",
       "      <td>106</td>\n",
       "      <td>Wonder 100pct mediano 475g WON 106</td>\n",
       "      <td>Wonder</td>\n",
       "      <td>WON</td>\n",
       "      <td>475.0</td>\n",
       "      <td>NaN</td>\n",
       "      <td>wond</td>\n",
       "    </tr>\n",
       "    <tr>\n",
       "      <th>10</th>\n",
       "      <td>107</td>\n",
       "      <td>Wonder 100pct gde 680g SP WON 107</td>\n",
       "      <td>Wonder</td>\n",
       "      <td>WON</td>\n",
       "      <td>680.0</td>\n",
       "      <td>NaN</td>\n",
       "      <td>wond</td>\n",
       "    </tr>\n",
       "    <tr>\n",
       "      <th>11</th>\n",
       "      <td>108</td>\n",
       "      <td>Baguette Precocida Cong 280g DH 108</td>\n",
       "      <td>Baguette Precocida Cong</td>\n",
       "      <td>DH</td>\n",
       "      <td>280.0</td>\n",
       "      <td>NaN</td>\n",
       "      <td>baguett precoc cong</td>\n",
       "    </tr>\n",
       "    <tr>\n",
       "      <th>12</th>\n",
       "      <td>109</td>\n",
       "      <td>Pan Multicereal 475g WON 109</td>\n",
       "      <td>Pan Multicereal</td>\n",
       "      <td>WON</td>\n",
       "      <td>475.0</td>\n",
       "      <td>NaN</td>\n",
       "      <td>pan multicereal</td>\n",
       "    </tr>\n",
       "    <tr>\n",
       "      <th>13</th>\n",
       "      <td>112</td>\n",
       "      <td>Tostado Integral 180g WON 112</td>\n",
       "      <td>Tostado Integral</td>\n",
       "      <td>WON</td>\n",
       "      <td>180.0</td>\n",
       "      <td>NaN</td>\n",
       "      <td>tost integral</td>\n",
       "    </tr>\n",
       "    <tr>\n",
       "      <th>14</th>\n",
       "      <td>122</td>\n",
       "      <td>Biscotel Receta Original 410g CU SUA 122</td>\n",
       "      <td>Biscotel Receta Original</td>\n",
       "      <td>SUA</td>\n",
       "      <td>410.0</td>\n",
       "      <td>NaN</td>\n",
       "      <td>biscotel recet original</td>\n",
       "    </tr>\n",
       "    <tr>\n",
       "      <th>15</th>\n",
       "      <td>123</td>\n",
       "      <td>Super Bollos 5in 8p 540g WON 123</td>\n",
       "      <td>Super Bollos</td>\n",
       "      <td>WON</td>\n",
       "      <td>540.0</td>\n",
       "      <td>8.0</td>\n",
       "      <td>sup boll</td>\n",
       "    </tr>\n",
       "    <tr>\n",
       "      <th>16</th>\n",
       "      <td>125</td>\n",
       "      <td>Bollos 8p 450g WON 125</td>\n",
       "      <td>Bollos</td>\n",
       "      <td>WON</td>\n",
       "      <td>450.0</td>\n",
       "      <td>8.0</td>\n",
       "      <td>boll</td>\n",
       "    </tr>\n",
       "    <tr>\n",
       "      <th>17</th>\n",
       "      <td>131</td>\n",
       "      <td>Bollos BK 4in 36p 1635g SL 131</td>\n",
       "      <td>Bollos BK</td>\n",
       "      <td>SL</td>\n",
       "      <td>1635.0</td>\n",
       "      <td>36.0</td>\n",
       "      <td>boll bk</td>\n",
       "    </tr>\n",
       "    <tr>\n",
       "      <th>18</th>\n",
       "      <td>132</td>\n",
       "      <td>Bollos BK 5in 30p 1730g SL 132</td>\n",
       "      <td>Bollos BK</td>\n",
       "      <td>SL</td>\n",
       "      <td>1730.0</td>\n",
       "      <td>30.0</td>\n",
       "      <td>boll bk</td>\n",
       "    </tr>\n",
       "    <tr>\n",
       "      <th>19</th>\n",
       "      <td>134</td>\n",
       "      <td>Bollos BK 4in 30p 1635g TIR SL 134</td>\n",
       "      <td>Bollos BK</td>\n",
       "      <td>SL</td>\n",
       "      <td>1635.0</td>\n",
       "      <td>30.0</td>\n",
       "      <td>boll bk</td>\n",
       "    </tr>\n",
       "  </tbody>\n",
       "</table>\n",
       "</div>"
      ],
      "text/plain": [
       "    Producto_ID                            NombreProducto  \\\n",
       "0             0                         NO IDENTIFICADO 0   \n",
       "1             9                 Capuccino Moka 750g NES 9   \n",
       "2            41   Bimbollos Ext s Ajonjoli 6p 480g BIM 41   \n",
       "3            53            Burritos Sincro 170g CU LON 53   \n",
       "4            72       Div Tira Mini Doradita 4p 45g TR 72   \n",
       "5            73         Pan Multigrano Linaza 540g BIM 73   \n",
       "6            98              Tostado Integral 180g WON 98   \n",
       "7            99                    Pan Blanco 567g WON 99   \n",
       "8           100    Super Pan Bco Ajonjoli 680g SP WON 100   \n",
       "9           106        Wonder 100pct mediano 475g WON 106   \n",
       "10          107         Wonder 100pct gde 680g SP WON 107   \n",
       "11          108       Baguette Precocida Cong 280g DH 108   \n",
       "12          109              Pan Multicereal 475g WON 109   \n",
       "13          112             Tostado Integral 180g WON 112   \n",
       "14          122  Biscotel Receta Original 410g CU SUA 122   \n",
       "15          123          Super Bollos 5in 8p 540g WON 123   \n",
       "16          125                    Bollos 8p 450g WON 125   \n",
       "17          131            Bollos BK 4in 36p 1635g SL 131   \n",
       "18          132            Bollos BK 5in 30p 1730g SL 132   \n",
       "19          134        Bollos BK 4in 30p 1635g TIR SL 134   \n",
       "\n",
       "                   short_name         brand  weight  pieces  \\\n",
       "0            NO IDENTIFICADO   IDENTIFICADO     NaN     NaN   \n",
       "1             Capuccino Moka            NES   750.0     NaN   \n",
       "2   Bimbollos Ext s Ajonjoli            BIM   480.0     6.0   \n",
       "3            Burritos Sincro            LON   170.0     NaN   \n",
       "4     Div Tira Mini Doradita             TR    45.0     4.0   \n",
       "5      Pan Multigrano Linaza            BIM   540.0     NaN   \n",
       "6           Tostado Integral            WON   180.0     NaN   \n",
       "7                 Pan Blanco            WON   567.0     NaN   \n",
       "8     Super Pan Bco Ajonjoli            WON   680.0     NaN   \n",
       "9                     Wonder            WON   475.0     NaN   \n",
       "10                    Wonder            WON   680.0     NaN   \n",
       "11   Baguette Precocida Cong             DH   280.0     NaN   \n",
       "12           Pan Multicereal            WON   475.0     NaN   \n",
       "13          Tostado Integral            WON   180.0     NaN   \n",
       "14  Biscotel Receta Original            SUA   410.0     NaN   \n",
       "15              Super Bollos            WON   540.0     8.0   \n",
       "16                    Bollos            WON   450.0     8.0   \n",
       "17                 Bollos BK             SL  1635.0    36.0   \n",
       "18                 Bollos BK             SL  1730.0    30.0   \n",
       "19                 Bollos BK             SL  1635.0    30.0   \n",
       "\n",
       "       short_name_processed  \n",
       "0                 identific  \n",
       "1              capuccin mok  \n",
       "2    bimboll ext s ajonjoli  \n",
       "3              burrit sincr  \n",
       "4      div tir mini doradit  \n",
       "5       pan multigran linaz  \n",
       "6             tost integral  \n",
       "7                 pan blanc  \n",
       "8      sup pan bco ajonjoli  \n",
       "9                      wond  \n",
       "10                     wond  \n",
       "11      baguett precoc cong  \n",
       "12          pan multicereal  \n",
       "13            tost integral  \n",
       "14  biscotel recet original  \n",
       "15                 sup boll  \n",
       "16                     boll  \n",
       "17                  boll bk  \n",
       "18                  boll bk  \n",
       "19                  boll bk  "
      ]
     },
     "execution_count": 31,
     "metadata": {},
     "output_type": "execute_result"
    },
    {
     "data": {
      "image/png": "[encoded data removed]",
      "text/plain": [
       "<matplotlib.figure.Figure at 0x7f778bed8590>"
      ]
     },
     "metadata": {},
     "output_type": "display_data"
    }
   ],
   "source": [
    "begin, end = 0, 20\n",
    "\n",
    "plt.figure(figsize=(15, 10))\n",
    "sns.heatmap(LSI_features[begin:end], square=True)\n",
    "products[begin:end]"
   ]
  },
  {
   "cell_type": "markdown",
   "metadata": {},
   "source": [
    "Нужно будет проанализировать результаты моделей, посмотреть что получается при разном количестве тем."
   ]
  },
  {
   "cell_type": "code",
   "execution_count": 32,
   "metadata": {
    "ExecuteTime": {
     "end_time": "2016-07-13T11:45:40.654630",
     "start_time": "2016-07-13T11:45:39.536455"
    },
    "collapsed": false
   },
   "outputs": [
    {
     "data": {
      "text/plain": [
       "<matplotlib.axes._subplots.AxesSubplot at 0x7f778cf7d110>"
      ]
     },
     "execution_count": 32,
     "metadata": {},
     "output_type": "execute_result"
    },
    {
     "data": {
      "image/png": "[encoded data removed]",
      "text/plain": [
       "<matplotlib.figure.Figure at 0x7f778d011610>"
      ]
     },
     "metadata": {},
     "output_type": "display_data"
    }
   ],
   "source": [
    "plt.figure(figsize=(15, 10))\n",
    "sns.heatmap(LSI_features.groupby(products.brand).mean(), square=True)"
   ]
  },
  {
   "cell_type": "markdown",
   "metadata": {},
   "source": [
    "Можно использовать как векторизацию производителей"
   ]
  },
  {
   "cell_type": "code",
   "execution_count": null,
   "metadata": {
    "collapsed": true
   },
   "outputs": [],
   "source": []
  }
 ],
 "metadata": {
  "anaconda-cloud": {},
  "kernelspec": {
   "display_name": "Python [Root]",
   "language": "python",
   "name": "Python [Root]"
  },
  "language_info": {
   "codemirror_mode": {
    "name": "ipython",
    "version": 2
   },
   "file_extension": ".py",
   "mimetype": "text/x-python",
   "name": "python",
   "nbconvert_exporter": "python",
   "pygments_lexer": "ipython2",
   "version": "2.7.12"
  }
 },
 "nbformat": 4,
 "nbformat_minor": 0
}
