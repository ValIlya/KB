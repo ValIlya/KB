{
 "cells": [
  {
   "cell_type": "code",
   "execution_count": 1,
   "metadata": {},
   "outputs": [
    {
     "name": "stdout",
     "output_type": "stream",
     "text": [
      "Populating the interactive namespace from numpy and matplotlib\n"
     ]
    }
   ],
   "source": [
    "import seaborn as sns\n",
    "import numpy as np\n",
    "import scipy\n",
    "import pandas as pd\n",
    "import matplotlib.pyplot as plt\n",
    "from IPython.display import display\n",
    "%pylab inline\n",
    "import os\n",
    "from __future__ import print_function\n",
    "from __future__ import division\n",
    "import os, sys\n",
    "# hook up all scripts\n",
    "sys.path.append(os.path.abspath('../scripts')) # if notebook in folder\n",
    "sys.path.append(os.path.abspath('./scripts')) #if in root\n",
    "import preprocessing_time_series as pts\n",
    "\n",
    "\n",
    "os.chdir(pts.working_dir())"
   ]
  },
  {
   "cell_type": "markdown",
   "metadata": {},
   "source": [
    "``` bash\n",
    "sudo python preprocessing_time_series.py\n",
    "```"
   ]
  },
  {
   "cell_type": "code",
   "execution_count": 19,
   "metadata": {},
   "outputs": [
    {
     "name": "stdout",
     "output_type": "stream",
     "text": [
      "(1645650, 112)\n"
     ]
    },
    {
     "data": {
      "text/html": [
       "<div>\n",
       "<table border=\"1\" class=\"dataframe\">\n",
       "  <thead>\n",
       "    <tr style=\"text-align: right;\">\n",
       "      <th></th>\n",
       "      <th>Semana</th>\n",
       "      <th>Agencia_ID</th>\n",
       "      <th>Canal_ID</th>\n",
       "      <th>Ruta_SAK</th>\n",
       "      <th>Cliente_ID</th>\n",
       "      <th>Producto_ID</th>\n",
       "      <th>Venta_uni_hoy</th>\n",
       "      <th>Venta_hoy</th>\n",
       "      <th>Dev_uni_proxima</th>\n",
       "      <th>Dev_proxima</th>\n",
       "      <th>...</th>\n",
       "      <th>No_remains_5</th>\n",
       "      <th>Venta_hoy_by_uni_5</th>\n",
       "      <th>Ordered_5</th>\n",
       "      <th>Log_Demanda_5</th>\n",
       "      <th>Median_Producto_ID_5</th>\n",
       "      <th>LogMean_Producto_ID_5</th>\n",
       "      <th>Median_Producto_ID_Ruta_SAK_5</th>\n",
       "      <th>LogMean_Producto_ID_Ruta_SAK_5</th>\n",
       "      <th>Median_Producto_ID_Cliente_ID_Agencia_ID_5</th>\n",
       "      <th>LogMean_Producto_ID_Cliente_ID_Agencia_ID_5</th>\n",
       "    </tr>\n",
       "  </thead>\n",
       "  <tbody>\n",
       "    <tr>\n",
       "      <th>0</th>\n",
       "      <td>3</td>\n",
       "      <td>1512</td>\n",
       "      <td>7</td>\n",
       "      <td>3310</td>\n",
       "      <td>39502</td>\n",
       "      <td>1146</td>\n",
       "      <td>6</td>\n",
       "      <td>128.34</td>\n",
       "      <td>0</td>\n",
       "      <td>0.0</td>\n",
       "      <td>...</td>\n",
       "      <td>NaN</td>\n",
       "      <td>NaN</td>\n",
       "      <td>NaN</td>\n",
       "      <td>NaN</td>\n",
       "      <td>NaN</td>\n",
       "      <td>NaN</td>\n",
       "      <td>NaN</td>\n",
       "      <td>NaN</td>\n",
       "      <td>NaN</td>\n",
       "      <td>NaN</td>\n",
       "    </tr>\n",
       "    <tr>\n",
       "      <th>1</th>\n",
       "      <td>3</td>\n",
       "      <td>1512</td>\n",
       "      <td>7</td>\n",
       "      <td>3310</td>\n",
       "      <td>70786</td>\n",
       "      <td>1146</td>\n",
       "      <td>86</td>\n",
       "      <td>1839.54</td>\n",
       "      <td>0</td>\n",
       "      <td>0.0</td>\n",
       "      <td>...</td>\n",
       "      <td>NaN</td>\n",
       "      <td>NaN</td>\n",
       "      <td>NaN</td>\n",
       "      <td>NaN</td>\n",
       "      <td>NaN</td>\n",
       "      <td>NaN</td>\n",
       "      <td>NaN</td>\n",
       "      <td>NaN</td>\n",
       "      <td>NaN</td>\n",
       "      <td>NaN</td>\n",
       "    </tr>\n",
       "    <tr>\n",
       "      <th>2</th>\n",
       "      <td>3</td>\n",
       "      <td>1512</td>\n",
       "      <td>7</td>\n",
       "      <td>3310</td>\n",
       "      <td>70786</td>\n",
       "      <td>1216</td>\n",
       "      <td>28</td>\n",
       "      <td>234.64</td>\n",
       "      <td>0</td>\n",
       "      <td>0.0</td>\n",
       "      <td>...</td>\n",
       "      <td>NaN</td>\n",
       "      <td>NaN</td>\n",
       "      <td>NaN</td>\n",
       "      <td>NaN</td>\n",
       "      <td>NaN</td>\n",
       "      <td>NaN</td>\n",
       "      <td>NaN</td>\n",
       "      <td>NaN</td>\n",
       "      <td>NaN</td>\n",
       "      <td>NaN</td>\n",
       "    </tr>\n",
       "    <tr>\n",
       "      <th>3</th>\n",
       "      <td>3</td>\n",
       "      <td>1512</td>\n",
       "      <td>7</td>\n",
       "      <td>3310</td>\n",
       "      <td>70786</td>\n",
       "      <td>1240</td>\n",
       "      <td>21</td>\n",
       "      <td>175.98</td>\n",
       "      <td>0</td>\n",
       "      <td>0.0</td>\n",
       "      <td>...</td>\n",
       "      <td>NaN</td>\n",
       "      <td>NaN</td>\n",
       "      <td>NaN</td>\n",
       "      <td>NaN</td>\n",
       "      <td>NaN</td>\n",
       "      <td>NaN</td>\n",
       "      <td>NaN</td>\n",
       "      <td>NaN</td>\n",
       "      <td>NaN</td>\n",
       "      <td>NaN</td>\n",
       "    </tr>\n",
       "    <tr>\n",
       "      <th>4</th>\n",
       "      <td>3</td>\n",
       "      <td>1512</td>\n",
       "      <td>7</td>\n",
       "      <td>3310</td>\n",
       "      <td>70786</td>\n",
       "      <td>1250</td>\n",
       "      <td>21</td>\n",
       "      <td>160.44</td>\n",
       "      <td>0</td>\n",
       "      <td>0.0</td>\n",
       "      <td>...</td>\n",
       "      <td>NaN</td>\n",
       "      <td>NaN</td>\n",
       "      <td>NaN</td>\n",
       "      <td>NaN</td>\n",
       "      <td>NaN</td>\n",
       "      <td>NaN</td>\n",
       "      <td>NaN</td>\n",
       "      <td>NaN</td>\n",
       "      <td>NaN</td>\n",
       "      <td>NaN</td>\n",
       "    </tr>\n",
       "  </tbody>\n",
       "</table>\n",
       "<p>5 rows × 112 columns</p>\n",
       "</div>"
      ]
     },
     "output_type": "execute_result",
     "metadata": {}
    }
   ],
   "source": [
    "data_train = pd.read_csv('train_SONORA_timeseries.csv')\n",
    "print(data_train.shape)\n",
    "data_train.head()"
   ]
  },
  {
   "cell_type": "code",
   "execution_count": 20,
   "metadata": {},
   "outputs": [
    {
     "data": {
      "text/plain": [
       "Semana                                         1645650\n",
       "Agencia_ID                                     1645650\n",
       "Canal_ID                                       1645650\n",
       "Ruta_SAK                                       1645650\n",
       "Cliente_ID                                     1645650\n",
       "Producto_ID                                    1645650\n",
       "Venta_uni_hoy                                  1645650\n",
       "Venta_hoy                                      1645650\n",
       "Dev_uni_proxima                                1645650\n",
       "Dev_proxima                                    1645650\n",
       "Demanda_uni_equil                              1645650\n",
       "Town                                           1645650\n",
       "State                                          1645650\n",
       "NombreProducto                                 1645650\n",
       "brand                                          1645650\n",
       "weight                                         1613041\n",
       "pieces                                         1131492\n",
       "Has_choco                                      1645650\n",
       "Has_vanilla                                    1645650\n",
       "Has_multigrano                                 1645650\n",
       "NombreCliente                                  1324519\n",
       "Dev_proxima_by_uni                               56269\n",
       "No_remains                                     1645650\n",
       "Venta_hoy_by_uni                               1640362\n",
       "Ordered                                        1645650\n",
       "Log_Demanda                                    1645650\n",
       "Median_Producto_ID                             1645650\n",
       "LogMean_Producto_ID                            1645650\n",
       "Median_Producto_ID_Ruta_SAK                    1645650\n",
       "LogMean_Producto_ID_Ruta_SAK                   1645650\n",
       "                                                ...   \n",
       "Dev_uni_proxima_4                               330716\n",
       "Dev_proxima_4                                   330716\n",
       "Demanda_uni_equil_4                             330716\n",
       "Dev_proxima_by_uni_4                              9326\n",
       "No_remains_4                                    330716\n",
       "Venta_hoy_by_uni_4                              330240\n",
       "Ordered_4                                       330716\n",
       "Log_Demanda_4                                   330716\n",
       "Median_Producto_ID_4                            330716\n",
       "LogMean_Producto_ID_4                           330716\n",
       "Median_Producto_ID_Ruta_SAK_4                   330716\n",
       "LogMean_Producto_ID_Ruta_SAK_4                  330716\n",
       "Median_Producto_ID_Cliente_ID_Agencia_ID_4      330716\n",
       "LogMean_Producto_ID_Cliente_ID_Agencia_ID_4     330716\n",
       "Venta_uni_hoy_5                                 201059\n",
       "Venta_hoy_5                                     201059\n",
       "Dev_uni_proxima_5                               201059\n",
       "Dev_proxima_5                                   201059\n",
       "Demanda_uni_equil_5                             201059\n",
       "Dev_proxima_by_uni_5                              5931\n",
       "No_remains_5                                    201059\n",
       "Venta_hoy_by_uni_5                              200762\n",
       "Ordered_5                                       201059\n",
       "Log_Demanda_5                                   201059\n",
       "Median_Producto_ID_5                            201059\n",
       "LogMean_Producto_ID_5                           201059\n",
       "Median_Producto_ID_Ruta_SAK_5                   201059\n",
       "LogMean_Producto_ID_Ruta_SAK_5                  201059\n",
       "Median_Producto_ID_Cliente_ID_Agencia_ID_5      201059\n",
       "LogMean_Producto_ID_Cliente_ID_Agencia_ID_5     201059\n",
       "dtype: int64"
      ]
     },
     "execution_count": 20,
     "output_type": "execute_result",
     "metadata": {}
    }
   ],
   "source": [
    "(~data_train.isnull()).sum()"
   ]
  },
  {
   "cell_type": "code",
   "execution_count": 21,
   "metadata": {},
   "outputs": [
    {
     "name": "stdout",
     "output_type": "stream",
     "text": [
      "Index([u'Semana', u'Agencia_ID', u'Canal_ID', u'Ruta_SAK', u'Cliente_ID',\n",
      "       u'Producto_ID', u'Venta_uni_hoy', u'Venta_hoy', u'Dev_uni_proxima',\n",
      "       u'Dev_proxima', u'Demanda_uni_equil', u'Town', u'State',\n",
      "       u'NombreProducto', u'brand', u'weight', u'pieces', u'Has_choco',\n",
      "       u'Has_vanilla', u'Has_multigrano', u'NombreCliente',\n",
      "       u'Dev_proxima_by_uni', u'No_remains', u'Venta_hoy_by_uni', u'Ordered',\n",
      "       u'Log_Demanda', u'Median_Producto_ID', u'LogMean_Producto_ID',\n",
      "       u'Median_Producto_ID_Ruta_SAK', u'LogMean_Producto_ID_Ruta_SAK',\n",
      "       u'Median_Producto_ID_Cliente_ID_Agencia_ID',\n",
      "       u'LogMean_Producto_ID_Cliente_ID_Agencia_ID', u'Venta_uni_hoy_1',\n",
      "       u'Venta_hoy_1', u'Dev_uni_proxima_1', u'Dev_proxima_1',\n",
      "       u'Demanda_uni_equil_1', u'Dev_proxima_by_uni_1', u'No_remains_1',\n",
      "       u'Venta_hoy_by_uni_1', u'Ordered_1', u'Log_Demanda_1',\n",
      "       u'Median_Producto_ID_1', u'LogMean_Producto_ID_1',\n",
      "       u'Median_Producto_ID_Ruta_SAK_1', u'LogMean_Producto_ID_Ruta_SAK_1',\n",
      "       u'Median_Producto_ID_Cliente_ID_Agencia_ID_1',\n",
      "       u'LogMean_Producto_ID_Cliente_ID_Agencia_ID_1', u'Venta_uni_hoy_2',\n",
      "       u'Venta_hoy_2'],\n",
      "      dtype='object')\n"
     ]
    }
   ],
   "source": [
    "print(data_train.columns[:50])"
   ]
  },
  {
   "cell_type": "code",
   "execution_count": 22,
   "metadata": {},
   "outputs": [],
   "source": [
    "data_train = data_train.drop([u'Town', u'State', u'NombreProducto', u'brand', \n",
    "        u'NombreCliente', u'Venta_uni_hoy', u'Venta_hoy', u'Dev_uni_proxima',\n",
    "       u'Dev_proxima', u'Demanda_uni_equil', u'Dev_proxima_by_uni', u'No_remains', \n",
    "        u'Venta_hoy_by_uni', u'Ordered',u'Median_Producto_ID',\n",
    "       u'LogMean_Producto_ID', u'Median_Producto_ID_Ruta_SAK',\n",
    "       u'LogMean_Producto_ID_Ruta_SAK',\n",
    "       u'Median_Producto_ID_Cliente_ID_Agencia_ID',\n",
    "       u'LogMean_Producto_ID_Cliente_ID_Agencia_ID'], axis=1)"
   ]
  },
  {
   "cell_type": "code",
   "execution_count": 6,
   "metadata": {},
   "outputs": [
    {
     "data": {
      "text/plain": [
       "1_3    217967\n",
       "1_4    214419\n",
       "1_5    209830\n",
       "1_6    209666\n",
       "1_7    204756\n",
       "1_8    185137\n",
       "1_9    176569\n",
       "4_9     23588\n",
       "4_8     22560\n",
       "4_6     22213\n",
       "4_4     22115\n",
       "4_5     22009\n",
       "4_7     22003\n",
       "4_3     21668\n",
       "2_8      6332\n",
       "2_9      6036\n",
       "7_7      5417\n",
       "7_9      5172\n",
       "7_4      5151\n",
       "7_8      5140\n",
       "7_6      5007\n",
       "7_3      4851\n",
       "7_5      4843\n",
       "2_7      4688\n",
       "2_6      3931\n",
       "2_5      3667\n",
       "2_4      3501\n",
       "2_3      3418\n",
       "5_3       537\n",
       "5_4       520\n",
       "5_9       518\n",
       "5_6       504\n",
       "5_5       503\n",
       "5_8       501\n",
       "5_7       493\n",
       "8_9        97\n",
       "8_8        96\n",
       "8_7        65\n",
       "8_6        47\n",
       "8_5        41\n",
       "8_4        38\n",
       "8_3        36\n",
       "dtype: int64"
      ]
     },
     "execution_count": 6,
     "output_type": "execute_result",
     "metadata": {}
    }
   ],
   "source": [
    "import crossval\n",
    "\n",
    "cv5fold, strats = crossval.crossvalidation(data_train[['Canal_ID', 'Semana']])\n",
    "strats.value_counts()"
   ]
  },
  {
   "cell_type": "markdown",
   "metadata": {},
   "source": [
    "# Random Forest"
   ]
  },
  {
   "cell_type": "code",
   "execution_count": 23,
   "metadata": {},
   "outputs": [],
   "source": [
    "def plot_feature_importances(rf, feat_labels): \n",
    "    importances = rf.feature_importances_\n",
    "    indices = np.argsort(importances)[::-1]\n",
    "\n",
    "    plt.figure(figsize=(10, 6))\n",
    "    plt.title('RF Feature Importances')\n",
    "    plt.bar(range(len(feat_labels)), \n",
    "            importances[indices],\n",
    "            color='lightblue', \n",
    "            align='center')\n",
    "\n",
    "\n",
    "    plt.xticks(range(len(feat_labels)), feat_labels[indices], rotation=90)\n",
    "    plt.xlim([-1, len(feat_labels)])\n",
    "    plt.tight_layout()\n",
    "#     plt.savefig('./rf_feature_importance.png', dpi=300)\n",
    "    plt.show()"
   ]
  },
  {
   "cell_type": "code",
   "execution_count": 26,
   "metadata": {},
   "outputs": [
    {
     "name": "stdout",
     "output_type": "stream",
     "text": [
      " building tree 2 of 3\n",
      "building tree 1 of 3\n",
      "building tree 1 of 3\n",
      "building tree 3 of 3\n",
      " building tree 2 of 3\n",
      " building tree 3 of 3\n",
      "building tree 1 of 3\n",
      " building tree 2 of 3\n",
      "building tree 3 of 3\n",
      "building tree 1 of 3\n",
      " building tree 2 of 3\n",
      " building tree 3 of 3\n"
     ]
    },
    {
     "name": "stderr",
     "output_type": "stream",
     "text": [
      "[Parallel(n_jobs=-1)]: Done   4 out of   3 | elapsed:  4.0min remaining:  -59.9s\n",
      "[Parallel(n_jobs=-1)]: Done   4 out of   3 | elapsed:  4.0min remaining:  -60.2s\n",
      "[Parallel(n_jobs=-1)]: Done   3 out of   3 | elapsed:  4.0min finished\n",
      "[Parallel(n_jobs=-1)]: Done   4 out of   3 | elapsed:  4.1min remaining:  -60.8s\n",
      "[Parallel(n_jobs=3)]: Done   4 out of   3 | elapsed:    0.6s remaining:   -0.2s\n",
      "[Parallel(n_jobs=3)]: Done   4 out of   3 | elapsed:    0.6s remaining:   -0.2s\n",
      "[Parallel(n_jobs=3)]: Done   3 out of   3 | elapsed:    0.6s finished\n",
      "[Parallel(n_jobs=-1)]: Done   4 out of   3 | elapsed:  4.1min remaining:  -61.6s\n",
      "[Parallel(n_jobs=-1)]: Done   3 out of   3 | elapsed:  4.1min finished\n",
      "[Parallel(n_jobs=-1)]: Done   4 out of   3 | elapsed:  4.1min remaining:  -61.6s\n",
      "[Parallel(n_jobs=-1)]: Done   4 out of   3 | elapsed:  4.1min remaining:  -61.8s\n",
      "[Parallel(n_jobs=-1)]: Done   3 out of   3 | elapsed:  4.1min finished\n",
      "[Parallel(n_jobs=3)]: Done   4 out of   3 | elapsed:    0.5s remaining:   -0.1s\n",
      "[Parallel(n_jobs=3)]: Done   4 out of   3 | elapsed:    0.6s remaining:   -0.2s\n",
      "[Parallel(n_jobs=3)]: Done   3 out of   3 | elapsed:    0.6s finished\n",
      "[Parallel(n_jobs=-1)]: Done   4 out of   3 | elapsed:  4.0min remaining:  -59.9s\n",
      "[Parallel(n_jobs=3)]: Done   4 out of   3 | elapsed:    0.3s remaining:   -0.1s\n",
      "[Parallel(n_jobs=3)]: Done   4 out of   3 | elapsed:    0.3s remaining:   -0.1s\n",
      "[Parallel(n_jobs=3)]: Done   3 out of   3 | elapsed:    0.3s finished\n",
      "[Parallel(n_jobs=-1)]: Done   4 out of   3 | elapsed:  4.0min remaining:  -60.0s\n",
      "[Parallel(n_jobs=-1)]: Done   3 out of   3 | elapsed:  4.0min finished\n",
      "[Parallel(n_jobs=3)]: Done   4 out of   3 | elapsed:    0.3s remaining:   -0.1s\n",
      "[Parallel(n_jobs=3)]: Done   4 out of   3 | elapsed:    0.3s remaining:   -0.1s\n",
      "[Parallel(n_jobs=3)]: Done   3 out of   3 | elapsed:    0.3s finished\n"
     ]
    },
    {
     "name": "stdout",
     "output_type": "stream",
     "text": [
      "building tree 1 of 3\n",
      " building tree 2 of 3\n",
      " building tree 3 of 3\n"
     ]
    },
    {
     "name": "stderr",
     "output_type": "stream",
     "text": [
      "[Parallel(n_jobs=-1)]: Done   4 out of   3 | elapsed:  1.1min remaining:  -15.9s\n",
      "[Parallel(n_jobs=-1)]: Done   4 out of   3 | elapsed:  1.1min remaining:  -16.0s\n",
      "[Parallel(n_jobs=-1)]: Done   3 out of   3 | elapsed:  1.1min finished\n",
      "[Parallel(n_jobs=3)]: Done   4 out of   3 | elapsed:    0.3s remaining:   -0.1s\n",
      "[Parallel(n_jobs=3)]: Done   4 out of   3 | elapsed:    0.3s remaining:   -0.1s\n",
      "[Parallel(n_jobs=3)]: Done   3 out of   3 | elapsed:    0.3s finished\n"
     ]
    },
    {
     "name": "stdout",
     "output_type": "stream",
     "text": [
      "building tree 1 of 3\n",
      "building tree 2 of 3\n",
      "building tree 3 of 3\n"
     ]
    },
    {
     "name": "stderr",
     "output_type": "stream",
     "text": [
      "[Parallel(n_jobs=-1)]: Done   4 out of   3 | elapsed:  1.3min remaining:  -19.9s\n",
      "[Parallel(n_jobs=-1)]: Done   4 out of   3 | elapsed:  1.3min remaining:  -20.1s\n",
      "[Parallel(n_jobs=-1)]: Done   3 out of   3 | elapsed:  1.3min finished\n"
     ]
    },
    {
     "data": {
      "text/plain": [
       "RandomForestRegressor(bootstrap=True, criterion='mse', max_depth=None,\n",
       "           max_features='auto', max_leaf_nodes=None, min_samples_leaf=1,\n",
       "           min_samples_split=2, min_weight_fraction_leaf=0.0,\n",
       "           n_estimators=3, n_jobs=-1, oob_score=False, random_state=None,\n",
       "           verbose=10, warm_start=False)"
      ]
     },
     "execution_count": 26,
     "output_type": "execute_result",
     "metadata": {}
    }
   ],
   "source": [
    "from sklearn.ensemble import RandomForestRegressor\n",
    "from sklearn.metrics import mean_squared_error\n",
    "from sklearn.cross_validation import cross_val_score\n",
    "rf = RandomForestRegressor(n_estimators=3, criterion='mse', n_jobs=-1, verbose=10)\n",
    "\n",
    "scores = cross_val_score(rf, data_train.fillna(-999).drop('Log_Demanda', axis=1), \n",
    "                         data_train['Log_Demanda'],\n",
    "                scoring = 'mean_squared_error', cv = cv5fold, n_jobs=-1)\n",
    "rf.fit(data_train.fillna(-999).drop('Log_Demanda', axis=1), \n",
    "        data_train['Log_Demanda'])"
   ]
  },
  {
   "cell_type": "code",
   "execution_count": 28,
   "metadata": {},
   "outputs": [
    {
     "data": {
      "image/png": "[encoded data removed]"
     },
     "output_type": "display_data",
     "metadata": {}
    },
    {
     "name": "stderr",
     "output_type": "stream",
     "text": [
      "[Parallel(n_jobs=3)]: Done   4 out of   3 | elapsed:    1.1s remaining:   -0.3s\n",
      "[Parallel(n_jobs=3)]: Done   4 out of   3 | elapsed:    1.1s remaining:   -0.3s\n",
      "[Parallel(n_jobs=3)]: Done   3 out of   3 | elapsed:    1.1s finished\n"
     ]
    },
    {
     "name": "stdout",
     "output_type": "stream",
     "text": [
      "[-0.31969597 -0.27200587 -0.30204947 -0.31726639 -0.29914926] 0.243273495992\n"
     ]
    }
   ],
   "source": [
    "plot_feature_importances(rf, data_train.drop('Log_Demanda', axis=1).columns)\n",
    "r2 = rf.score(data_train.fillna(-999).drop('Log_Demanda', axis=1), \n",
    "        data_train['Log_Demanda'])\n",
    "\n",
    "rmse = np.sqrt((1-r2)*data_train['Log_Demanda'].var())\n",
    "print (scores, rmse)"
   ]
  },
  {
   "cell_type": "markdown",
   "metadata": {},
   "source": [
    "3 дерева в лесе на кроссвалидации показывают результат в топ-1 лидерборда. Пора генерить сабмит! "
   ]
  }
 ],
 "metadata": {
  "anaconda-cloud": {},
  "kernelspec": {
   "display_name": "Python [Root]",
   "language": "python",
   "name": "Python [Root]"
  },
  "language_info": {
   "codemirror_mode": {
    "name": "ipython",
    "version": 2.0
   },
   "file_extension": ".py",
   "mimetype": "text/x-python",
   "name": "python",
   "nbconvert_exporter": "python",
   "pygments_lexer": "ipython2",
   "version": "2.7.12"
  }
 },
 "nbformat": 4,
 "nbformat_minor": 0
}