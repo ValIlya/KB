{
 "cells": [
  {
   "cell_type": "code",
   "execution_count": 1,
   "metadata": {
    "collapsed": false
   },
   "outputs": [
    {
     "name": "stdout",
     "output_type": "stream",
     "text": [
      "Populating the interactive namespace from numpy and matplotlib\n"
     ]
    }
   ],
   "source": [
    "import seaborn as sns\n",
    "import numpy as np\n",
    "import scipy\n",
    "import pandas as pd\n",
    "import matplotlib.pyplot as plt\n",
    "from IPython.display import display\n",
    "%pylab inline\n",
    "import os\n",
    "from __future__ import print_function\n",
    "from __future__ import division\n",
    "import os, sys\n",
    "# hook up all scripts\n",
    "sys.path.append(os.path.abspath('../scripts')) # if notebook in folder\n",
    "sys.path.append(os.path.abspath('./scripts')) #if in root\n",
    "import preprocessing_time_series as pts\n",
    "\n",
    "\n",
    "os.chdir(pts.working_dir())"
   ]
  },
  {
   "cell_type": "code",
   "execution_count": 2,
   "metadata": {
    "collapsed": false
   },
   "outputs": [
    {
     "name": "stdout",
     "output_type": "stream",
     "text": [
      "(809684, 24)\n"
     ]
    },
    {
     "data": {
      "text/html": [
       "<div>\n",
       "<table border=\"1\" class=\"dataframe\">\n",
       "  <thead>\n",
       "    <tr style=\"text-align: right;\">\n",
       "      <th></th>\n",
       "      <th>Semana</th>\n",
       "      <th>Agencia_ID</th>\n",
       "      <th>Canal_ID</th>\n",
       "      <th>Ruta_SAK</th>\n",
       "      <th>Cliente_ID</th>\n",
       "      <th>Producto_ID</th>\n",
       "      <th>Venta_uni_hoy</th>\n",
       "      <th>Venta_hoy</th>\n",
       "      <th>Dev_uni_proxima</th>\n",
       "      <th>Dev_proxima</th>\n",
       "      <th>...</th>\n",
       "      <th>No_remains</th>\n",
       "      <th>Venta_hoy_by_uni</th>\n",
       "      <th>Ordered</th>\n",
       "      <th>Log_Demanda</th>\n",
       "      <th>Median_Producto_ID</th>\n",
       "      <th>LogMean_Producto_ID</th>\n",
       "      <th>Median_Producto_ID_Ruta_SAK</th>\n",
       "      <th>LogMean_Producto_ID_Ruta_SAK</th>\n",
       "      <th>Median_Producto_ID_Cliente_ID_Agencia_ID</th>\n",
       "      <th>LogMean_Producto_ID_Cliente_ID_Agencia_ID</th>\n",
       "    </tr>\n",
       "  </thead>\n",
       "  <tbody>\n",
       "    <tr>\n",
       "      <th>0</th>\n",
       "      <td>3</td>\n",
       "      <td>1340</td>\n",
       "      <td>1</td>\n",
       "      <td>1051</td>\n",
       "      <td>41849</td>\n",
       "      <td>73</td>\n",
       "      <td>1</td>\n",
       "      <td>21.32</td>\n",
       "      <td>0</td>\n",
       "      <td>0.0</td>\n",
       "      <td>...</td>\n",
       "      <td>0</td>\n",
       "      <td>21.32</td>\n",
       "      <td>1</td>\n",
       "      <td>0.693147</td>\n",
       "      <td>2.0</td>\n",
       "      <td>1.118843</td>\n",
       "      <td>2.0</td>\n",
       "      <td>1.122955</td>\n",
       "      <td>1.0</td>\n",
       "      <td>0.774240</td>\n",
       "    </tr>\n",
       "    <tr>\n",
       "      <th>1</th>\n",
       "      <td>3</td>\n",
       "      <td>1340</td>\n",
       "      <td>1</td>\n",
       "      <td>1051</td>\n",
       "      <td>41849</td>\n",
       "      <td>1109</td>\n",
       "      <td>6</td>\n",
       "      <td>90.06</td>\n",
       "      <td>0</td>\n",
       "      <td>0.0</td>\n",
       "      <td>...</td>\n",
       "      <td>0</td>\n",
       "      <td>15.01</td>\n",
       "      <td>1</td>\n",
       "      <td>1.945910</td>\n",
       "      <td>2.0</td>\n",
       "      <td>1.171162</td>\n",
       "      <td>3.0</td>\n",
       "      <td>1.416386</td>\n",
       "      <td>6.0</td>\n",
       "      <td>1.805732</td>\n",
       "    </tr>\n",
       "    <tr>\n",
       "      <th>2</th>\n",
       "      <td>3</td>\n",
       "      <td>1340</td>\n",
       "      <td>1</td>\n",
       "      <td>1051</td>\n",
       "      <td>41849</td>\n",
       "      <td>1125</td>\n",
       "      <td>13</td>\n",
       "      <td>124.80</td>\n",
       "      <td>0</td>\n",
       "      <td>0.0</td>\n",
       "      <td>...</td>\n",
       "      <td>0</td>\n",
       "      <td>9.60</td>\n",
       "      <td>1</td>\n",
       "      <td>2.639057</td>\n",
       "      <td>6.0</td>\n",
       "      <td>1.971653</td>\n",
       "      <td>6.0</td>\n",
       "      <td>2.024443</td>\n",
       "      <td>9.5</td>\n",
       "      <td>2.042122</td>\n",
       "    </tr>\n",
       "    <tr>\n",
       "      <th>3</th>\n",
       "      <td>3</td>\n",
       "      <td>1340</td>\n",
       "      <td>1</td>\n",
       "      <td>1051</td>\n",
       "      <td>41849</td>\n",
       "      <td>1150</td>\n",
       "      <td>1</td>\n",
       "      <td>13.96</td>\n",
       "      <td>0</td>\n",
       "      <td>0.0</td>\n",
       "      <td>...</td>\n",
       "      <td>0</td>\n",
       "      <td>13.96</td>\n",
       "      <td>1</td>\n",
       "      <td>0.693147</td>\n",
       "      <td>2.0</td>\n",
       "      <td>1.448213</td>\n",
       "      <td>2.5</td>\n",
       "      <td>1.471629</td>\n",
       "      <td>2.0</td>\n",
       "      <td>1.080011</td>\n",
       "    </tr>\n",
       "    <tr>\n",
       "      <th>4</th>\n",
       "      <td>3</td>\n",
       "      <td>1340</td>\n",
       "      <td>1</td>\n",
       "      <td>1051</td>\n",
       "      <td>41849</td>\n",
       "      <td>2233</td>\n",
       "      <td>4</td>\n",
       "      <td>79.76</td>\n",
       "      <td>0</td>\n",
       "      <td>0.0</td>\n",
       "      <td>...</td>\n",
       "      <td>0</td>\n",
       "      <td>19.94</td>\n",
       "      <td>1</td>\n",
       "      <td>1.609438</td>\n",
       "      <td>3.0</td>\n",
       "      <td>1.409244</td>\n",
       "      <td>3.0</td>\n",
       "      <td>1.517772</td>\n",
       "      <td>3.0</td>\n",
       "      <td>1.399732</td>\n",
       "    </tr>\n",
       "  </tbody>\n",
       "</table>\n",
       "<p>5 rows × 24 columns</p>\n",
       "</div>"
      ],
      "text/plain": [
       "   Semana  Agencia_ID  Canal_ID  Ruta_SAK  Cliente_ID  Producto_ID  \\\n",
       "0       3        1340         1      1051       41849           73   \n",
       "1       3        1340         1      1051       41849         1109   \n",
       "2       3        1340         1      1051       41849         1125   \n",
       "3       3        1340         1      1051       41849         1150   \n",
       "4       3        1340         1      1051       41849         2233   \n",
       "\n",
       "   Venta_uni_hoy  Venta_hoy  Dev_uni_proxima  Dev_proxima  \\\n",
       "0              1      21.32                0          0.0   \n",
       "1              6      90.06                0          0.0   \n",
       "2             13     124.80                0          0.0   \n",
       "3              1      13.96                0          0.0   \n",
       "4              4      79.76                0          0.0   \n",
       "\n",
       "                     ...                      No_remains Venta_hoy_by_uni  \\\n",
       "0                    ...                               0            21.32   \n",
       "1                    ...                               0            15.01   \n",
       "2                    ...                               0             9.60   \n",
       "3                    ...                               0            13.96   \n",
       "4                    ...                               0            19.94   \n",
       "\n",
       "  Ordered  Log_Demanda  Median_Producto_ID  LogMean_Producto_ID  \\\n",
       "0       1     0.693147                 2.0             1.118843   \n",
       "1       1     1.945910                 2.0             1.171162   \n",
       "2       1     2.639057                 6.0             1.971653   \n",
       "3       1     0.693147                 2.0             1.448213   \n",
       "4       1     1.609438                 3.0             1.409244   \n",
       "\n",
       "   Median_Producto_ID_Ruta_SAK  LogMean_Producto_ID_Ruta_SAK  \\\n",
       "0                          2.0                      1.122955   \n",
       "1                          3.0                      1.416386   \n",
       "2                          6.0                      2.024443   \n",
       "3                          2.5                      1.471629   \n",
       "4                          3.0                      1.517772   \n",
       "\n",
       "   Median_Producto_ID_Cliente_ID_Agencia_ID  \\\n",
       "0                                       1.0   \n",
       "1                                       6.0   \n",
       "2                                       9.5   \n",
       "3                                       2.0   \n",
       "4                                       3.0   \n",
       "\n",
       "   LogMean_Producto_ID_Cliente_ID_Agencia_ID  \n",
       "0                                   0.774240  \n",
       "1                                   1.805732  \n",
       "2                                   2.042122  \n",
       "3                                   1.080011  \n",
       "4                                   1.399732  \n",
       "\n",
       "[5 rows x 24 columns]"
      ]
     },
     "execution_count": 2,
     "metadata": {},
     "output_type": "execute_result"
    }
   ],
   "source": [
    "data_train = pd.read_csv('Feature_releases/release_v01/train_NAYARIT.csv')\n",
    "print(data_train.shape)\n",
    "data_train.head()"
   ]
  },
  {
   "cell_type": "code",
   "execution_count": 3,
   "metadata": {
    "collapsed": false
   },
   "outputs": [
    {
     "name": "stdout",
     "output_type": "stream",
     "text": [
      "Data endoded\n"
     ]
    },
    {
     "data": {
      "text/plain": [
       "10"
      ]
     },
     "execution_count": 3,
     "metadata": {},
     "output_type": "execute_result"
    }
   ],
   "source": [
    "town = pts.text_encoding(pts.town_preproc())\n",
    "agencies = set(town.loc[town.State == u'NAYARIT'].index)\n",
    "len(agencies)"
   ]
  },
  {
   "cell_type": "code",
   "execution_count": 4,
   "metadata": {
    "collapsed": false
   },
   "outputs": [
    {
     "name": "stdout",
     "output_type": "stream",
     "text": [
      "(78819, 6)\n"
     ]
    },
    {
     "data": {
      "text/html": [
       "<div>\n",
       "<table border=\"1\" class=\"dataframe\">\n",
       "  <thead>\n",
       "    <tr style=\"text-align: right;\">\n",
       "      <th></th>\n",
       "      <th>Semana</th>\n",
       "      <th>Agencia_ID</th>\n",
       "      <th>Canal_ID</th>\n",
       "      <th>Ruta_SAK</th>\n",
       "      <th>Cliente_ID</th>\n",
       "      <th>Producto_ID</th>\n",
       "    </tr>\n",
       "    <tr>\n",
       "      <th>id</th>\n",
       "      <th></th>\n",
       "      <th></th>\n",
       "      <th></th>\n",
       "      <th></th>\n",
       "      <th></th>\n",
       "      <th></th>\n",
       "    </tr>\n",
       "  </thead>\n",
       "  <tbody>\n",
       "    <tr>\n",
       "      <th>42</th>\n",
       "      <td>11</td>\n",
       "      <td>1378</td>\n",
       "      <td>1</td>\n",
       "      <td>2005</td>\n",
       "      <td>594640</td>\n",
       "      <td>43285</td>\n",
       "    </tr>\n",
       "    <tr>\n",
       "      <th>59</th>\n",
       "      <td>10</td>\n",
       "      <td>1359</td>\n",
       "      <td>11</td>\n",
       "      <td>3957</td>\n",
       "      <td>2068213</td>\n",
       "      <td>6469</td>\n",
       "    </tr>\n",
       "    <tr>\n",
       "      <th>129</th>\n",
       "      <td>10</td>\n",
       "      <td>1378</td>\n",
       "      <td>1</td>\n",
       "      <td>2101</td>\n",
       "      <td>905734</td>\n",
       "      <td>37577</td>\n",
       "    </tr>\n",
       "    <tr>\n",
       "      <th>183</th>\n",
       "      <td>11</td>\n",
       "      <td>1340</td>\n",
       "      <td>1</td>\n",
       "      <td>2065</td>\n",
       "      <td>325592</td>\n",
       "      <td>43285</td>\n",
       "    </tr>\n",
       "    <tr>\n",
       "      <th>203</th>\n",
       "      <td>11</td>\n",
       "      <td>1340</td>\n",
       "      <td>1</td>\n",
       "      <td>2052</td>\n",
       "      <td>7729188</td>\n",
       "      <td>43274</td>\n",
       "    </tr>\n",
       "  </tbody>\n",
       "</table>\n",
       "</div>"
      ],
      "text/plain": [
       "     Semana  Agencia_ID  Canal_ID  Ruta_SAK  Cliente_ID  Producto_ID\n",
       "id                                                                  \n",
       "42       11        1378         1      2005      594640        43285\n",
       "59       10        1359        11      3957     2068213         6469\n",
       "129      10        1378         1      2101      905734        37577\n",
       "183      11        1340         1      2065      325592        43285\n",
       "203      11        1340         1      2052     7729188        43274"
      ]
     },
     "execution_count": 4,
     "metadata": {},
     "output_type": "execute_result"
    }
   ],
   "source": [
    "data_test = pd.read_csv('test.csv', index_col=0)\n",
    "data_test = data_test.loc[data_test.Agencia_ID.isin(agencies), :]\n",
    "print(data_test.shape)\n",
    "data_test.head()"
   ]
  },
  {
   "cell_type": "code",
   "execution_count": 5,
   "metadata": {
    "collapsed": true
   },
   "outputs": [],
   "source": [
    "data = pd.concat([data_train, data_test], axis=0)\n",
    "# del data_train\n",
    "# del data_test"
   ]
  },
  {
   "cell_type": "code",
   "execution_count": 6,
   "metadata": {
    "collapsed": false
   },
   "outputs": [
    {
     "name": "stdout",
     "output_type": "stream",
     "text": [
      "1 lag done\n",
      "2 lag done\n",
      "3 lag done\n",
      "4 lag done\n",
      "5 lag done\n"
     ]
    },
    {
     "data": {
      "text/html": [
       "<div>\n",
       "<table border=\"1\" class=\"dataframe\">\n",
       "  <thead>\n",
       "    <tr style=\"text-align: right;\">\n",
       "      <th></th>\n",
       "      <th>id</th>\n",
       "      <th>Agencia_ID</th>\n",
       "      <th>Canal_ID</th>\n",
       "      <th>Cliente_ID</th>\n",
       "      <th>Log_Demanda</th>\n",
       "      <th>Producto_ID</th>\n",
       "      <th>Ruta_SAK</th>\n",
       "      <th>Venta_uni_hoy_1</th>\n",
       "      <th>Venta_hoy_1</th>\n",
       "      <th>Dev_uni_proxima_1</th>\n",
       "      <th>...</th>\n",
       "      <th>No_remains_5</th>\n",
       "      <th>Venta_hoy_by_uni_5</th>\n",
       "      <th>Ordered_5</th>\n",
       "      <th>Log_Demanda_5</th>\n",
       "      <th>Median_Producto_ID_5</th>\n",
       "      <th>LogMean_Producto_ID_5</th>\n",
       "      <th>Median_Producto_ID_Ruta_SAK_5</th>\n",
       "      <th>LogMean_Producto_ID_Ruta_SAK_5</th>\n",
       "      <th>Median_Producto_ID_Cliente_ID_Agencia_ID_5</th>\n",
       "      <th>LogMean_Producto_ID_Cliente_ID_Agencia_ID_5</th>\n",
       "    </tr>\n",
       "    <tr>\n",
       "      <th>Semana</th>\n",
       "      <th></th>\n",
       "      <th></th>\n",
       "      <th></th>\n",
       "      <th></th>\n",
       "      <th></th>\n",
       "      <th></th>\n",
       "      <th></th>\n",
       "      <th></th>\n",
       "      <th></th>\n",
       "      <th></th>\n",
       "      <th></th>\n",
       "      <th></th>\n",
       "      <th></th>\n",
       "      <th></th>\n",
       "      <th></th>\n",
       "      <th></th>\n",
       "      <th></th>\n",
       "      <th></th>\n",
       "      <th></th>\n",
       "      <th></th>\n",
       "      <th></th>\n",
       "    </tr>\n",
       "  </thead>\n",
       "  <tbody>\n",
       "    <tr>\n",
       "      <th>3</th>\n",
       "      <td>0</td>\n",
       "      <td>1340</td>\n",
       "      <td>1</td>\n",
       "      <td>41849</td>\n",
       "      <td>0.693147</td>\n",
       "      <td>73</td>\n",
       "      <td>1051</td>\n",
       "      <td>NaN</td>\n",
       "      <td>NaN</td>\n",
       "      <td>NaN</td>\n",
       "      <td>...</td>\n",
       "      <td>NaN</td>\n",
       "      <td>NaN</td>\n",
       "      <td>NaN</td>\n",
       "      <td>NaN</td>\n",
       "      <td>NaN</td>\n",
       "      <td>NaN</td>\n",
       "      <td>NaN</td>\n",
       "      <td>NaN</td>\n",
       "      <td>NaN</td>\n",
       "      <td>NaN</td>\n",
       "    </tr>\n",
       "    <tr>\n",
       "      <th>3</th>\n",
       "      <td>1</td>\n",
       "      <td>1340</td>\n",
       "      <td>1</td>\n",
       "      <td>41849</td>\n",
       "      <td>1.945910</td>\n",
       "      <td>1109</td>\n",
       "      <td>1051</td>\n",
       "      <td>NaN</td>\n",
       "      <td>NaN</td>\n",
       "      <td>NaN</td>\n",
       "      <td>...</td>\n",
       "      <td>NaN</td>\n",
       "      <td>NaN</td>\n",
       "      <td>NaN</td>\n",
       "      <td>NaN</td>\n",
       "      <td>NaN</td>\n",
       "      <td>NaN</td>\n",
       "      <td>NaN</td>\n",
       "      <td>NaN</td>\n",
       "      <td>NaN</td>\n",
       "      <td>NaN</td>\n",
       "    </tr>\n",
       "    <tr>\n",
       "      <th>3</th>\n",
       "      <td>2</td>\n",
       "      <td>1340</td>\n",
       "      <td>1</td>\n",
       "      <td>41849</td>\n",
       "      <td>2.639057</td>\n",
       "      <td>1125</td>\n",
       "      <td>1051</td>\n",
       "      <td>NaN</td>\n",
       "      <td>NaN</td>\n",
       "      <td>NaN</td>\n",
       "      <td>...</td>\n",
       "      <td>NaN</td>\n",
       "      <td>NaN</td>\n",
       "      <td>NaN</td>\n",
       "      <td>NaN</td>\n",
       "      <td>NaN</td>\n",
       "      <td>NaN</td>\n",
       "      <td>NaN</td>\n",
       "      <td>NaN</td>\n",
       "      <td>NaN</td>\n",
       "      <td>NaN</td>\n",
       "    </tr>\n",
       "    <tr>\n",
       "      <th>3</th>\n",
       "      <td>3</td>\n",
       "      <td>1340</td>\n",
       "      <td>1</td>\n",
       "      <td>41849</td>\n",
       "      <td>0.693147</td>\n",
       "      <td>1150</td>\n",
       "      <td>1051</td>\n",
       "      <td>NaN</td>\n",
       "      <td>NaN</td>\n",
       "      <td>NaN</td>\n",
       "      <td>...</td>\n",
       "      <td>NaN</td>\n",
       "      <td>NaN</td>\n",
       "      <td>NaN</td>\n",
       "      <td>NaN</td>\n",
       "      <td>NaN</td>\n",
       "      <td>NaN</td>\n",
       "      <td>NaN</td>\n",
       "      <td>NaN</td>\n",
       "      <td>NaN</td>\n",
       "      <td>NaN</td>\n",
       "    </tr>\n",
       "    <tr>\n",
       "      <th>3</th>\n",
       "      <td>4</td>\n",
       "      <td>1340</td>\n",
       "      <td>1</td>\n",
       "      <td>41849</td>\n",
       "      <td>1.609438</td>\n",
       "      <td>2233</td>\n",
       "      <td>1051</td>\n",
       "      <td>NaN</td>\n",
       "      <td>NaN</td>\n",
       "      <td>NaN</td>\n",
       "      <td>...</td>\n",
       "      <td>NaN</td>\n",
       "      <td>NaN</td>\n",
       "      <td>NaN</td>\n",
       "      <td>NaN</td>\n",
       "      <td>NaN</td>\n",
       "      <td>NaN</td>\n",
       "      <td>NaN</td>\n",
       "      <td>NaN</td>\n",
       "      <td>NaN</td>\n",
       "      <td>NaN</td>\n",
       "    </tr>\n",
       "  </tbody>\n",
       "</table>\n",
       "<p>5 rows × 87 columns</p>\n",
       "</div>"
      ],
      "text/plain": [
       "        id  Agencia_ID  Canal_ID  Cliente_ID  Log_Demanda  Producto_ID  \\\n",
       "Semana                                                                   \n",
       "3        0        1340         1       41849     0.693147           73   \n",
       "3        1        1340         1       41849     1.945910         1109   \n",
       "3        2        1340         1       41849     2.639057         1125   \n",
       "3        3        1340         1       41849     0.693147         1150   \n",
       "3        4        1340         1       41849     1.609438         2233   \n",
       "\n",
       "        Ruta_SAK  Venta_uni_hoy_1  Venta_hoy_1  Dev_uni_proxima_1  \\\n",
       "Semana                                                              \n",
       "3           1051              NaN          NaN                NaN   \n",
       "3           1051              NaN          NaN                NaN   \n",
       "3           1051              NaN          NaN                NaN   \n",
       "3           1051              NaN          NaN                NaN   \n",
       "3           1051              NaN          NaN                NaN   \n",
       "\n",
       "                           ...                       No_remains_5  \\\n",
       "Semana                     ...                                      \n",
       "3                          ...                                NaN   \n",
       "3                          ...                                NaN   \n",
       "3                          ...                                NaN   \n",
       "3                          ...                                NaN   \n",
       "3                          ...                                NaN   \n",
       "\n",
       "        Venta_hoy_by_uni_5  Ordered_5  Log_Demanda_5  Median_Producto_ID_5  \\\n",
       "Semana                                                                       \n",
       "3                      NaN        NaN            NaN                   NaN   \n",
       "3                      NaN        NaN            NaN                   NaN   \n",
       "3                      NaN        NaN            NaN                   NaN   \n",
       "3                      NaN        NaN            NaN                   NaN   \n",
       "3                      NaN        NaN            NaN                   NaN   \n",
       "\n",
       "        LogMean_Producto_ID_5  Median_Producto_ID_Ruta_SAK_5  \\\n",
       "Semana                                                         \n",
       "3                         NaN                            NaN   \n",
       "3                         NaN                            NaN   \n",
       "3                         NaN                            NaN   \n",
       "3                         NaN                            NaN   \n",
       "3                         NaN                            NaN   \n",
       "\n",
       "        LogMean_Producto_ID_Ruta_SAK_5  \\\n",
       "Semana                                   \n",
       "3                                  NaN   \n",
       "3                                  NaN   \n",
       "3                                  NaN   \n",
       "3                                  NaN   \n",
       "3                                  NaN   \n",
       "\n",
       "        Median_Producto_ID_Cliente_ID_Agencia_ID_5  \\\n",
       "Semana                                               \n",
       "3                                              NaN   \n",
       "3                                              NaN   \n",
       "3                                              NaN   \n",
       "3                                              NaN   \n",
       "3                                              NaN   \n",
       "\n",
       "        LogMean_Producto_ID_Cliente_ID_Agencia_ID_5  \n",
       "Semana                                               \n",
       "3                                               NaN  \n",
       "3                                               NaN  \n",
       "3                                               NaN  \n",
       "3                                               NaN  \n",
       "3                                               NaN  \n",
       "\n",
       "[5 rows x 87 columns]"
      ]
     },
     "execution_count": 6,
     "metadata": {},
     "output_type": "execute_result"
    }
   ],
   "source": [
    "data = pts.lag_generation(data, n_lags=5)\n",
    "data.index.name = 'id'\n",
    "data = data.drop([u'Town', u'State', u'Venta_uni_hoy', u'Venta_hoy', u'Dev_uni_proxima',\n",
    "       u'Dev_proxima', u'Demanda_uni_equil', u'Dev_proxima_by_uni', u'No_remains', \n",
    "        u'Venta_hoy_by_uni', u'Ordered',u'Median_Producto_ID',\n",
    "       u'LogMean_Producto_ID', u'Median_Producto_ID_Ruta_SAK',\n",
    "       u'LogMean_Producto_ID_Ruta_SAK',\n",
    "       u'Median_Producto_ID_Cliente_ID_Agencia_ID',\n",
    "       u'LogMean_Producto_ID_Cliente_ID_Agencia_ID'], axis=1).reset_index().set_index(u'Semana')\n",
    "# data = data.swaplevel(i=0, j=-1, axis=0)\n",
    "data.head()"
   ]
  },
  {
   "cell_type": "code",
   "execution_count": 7,
   "metadata": {
    "collapsed": false
   },
   "outputs": [],
   "source": [
    "X_train = data.loc[3:7,:].drop('Log_Demanda', axis=1).set_index('id', append=True)\n",
    "y_train = data.loc[3:7,:].set_index('id', append=True)['Log_Demanda']\n",
    "X_test = data.loc[8:9,:].drop('Log_Demanda', axis=1).set_index('id', append=True)\n",
    "y_test = data.loc[8:9,:].set_index('id', append=True)['Log_Demanda']\n",
    "X_eval = data.loc[[10,11],:].drop('Log_Demanda', axis=1).set_index('id', append=True)"
   ]
  },
  {
   "cell_type": "markdown",
   "metadata": {},
   "source": [
    "# xgboost "
   ]
  },
  {
   "cell_type": "markdown",
   "metadata": {},
   "source": [
    "Обнаружил, что для learning_rate=0.3 оптимальное количество деревьев 100.\n",
    "\n",
    "Подобраны параметры max_depth=16 и min_child_weight=18.\n",
    "\n",
    "Подбираю gamma\n",
    "\n",
    "Потом надо подобрать [subsample, colsample_bytree], [lambda(L2), alpha(L1)]. "
   ]
  },
  {
   "cell_type": "code",
   "execution_count": 8,
   "metadata": {
    "collapsed": false
   },
   "outputs": [],
   "source": [
    "import xgboost as xgb\n",
    "from sklearn.grid_search import GridSearchCV\n",
    "from sklearn.cross_validation import cross_val_score\n",
    "from sklearn.metrics import mean_squared_error\n",
    "\n",
    "def plot_feature_importances(xgb_model):\n",
    "    plt.figure(figsize=(20,10))\n",
    "    feat_imp = pd.Series(xgb_model.booster().get_fscore()).sort_values(ascending=False)\n",
    "    feat_imp.plot(kind='bar', title='Feature Importances')\n",
    "    plt.ylabel('Feature Importance Score')"
   ]
  },
  {
   "cell_type": "code",
   "execution_count": 9,
   "metadata": {
    "collapsed": false
   },
   "outputs": [
    {
     "data": {
      "text/plain": [
       "XGBRegressor(base_score=0.5, colsample_bylevel=1, colsample_bytree=0.8,\n",
       "       gamma=0.7, learning_rate=0.3, max_delta_step=0, max_depth=16,\n",
       "       min_child_weight=18, missing=None, n_estimators=100, nthread=-1,\n",
       "       objective='reg:linear', reg_alpha=0, reg_lambda=1,\n",
       "       scale_pos_weight=1, seed=0, silent=True, subsample=0.8)"
      ]
     },
     "execution_count": 9,
     "metadata": {},
     "output_type": "execute_result"
    }
   ],
   "source": [
    "# param = clf.best_params_\n",
    "param = {\n",
    " 'learning_rate': 0.3,\n",
    " 'gamma': 0.7,\n",
    " 'max_depth': 16,\n",
    " 'min_child_weight': 18,\n",
    " 'n_estimators': 100,\n",
    " 'subsample': 0.8,\n",
    " 'colsample_bytree': 0.8\n",
    "}\n",
    "\n",
    "xgb_model = xgb.XGBRegressor()\n",
    "xgb_model.set_params(**param)\n",
    "#scores = cross_val_score(xgb_model, X_train, y_train, scoring = 'mean_squared_error',\n",
    "#                             cv = cv5fold, n_jobs=-1)\n",
    "\n",
    "xgb_model.fit(X_train, y_train)"
   ]
  },
  {
   "cell_type": "code",
   "execution_count": 10,
   "metadata": {
    "collapsed": false
   },
   "outputs": [
    {
     "name": "stdout",
     "output_type": "stream",
     "text": [
      "Train: 0.362142157504\n",
      "Test: 0.40274862486\n"
     ]
    },
    {
     "data": {
      "image/png": "[encoded data removed]",
      "text/plain": [
       "<matplotlib.figure.Figure at 0x7fced5977710>"
      ]
     },
     "metadata": {},
     "output_type": "display_data"
    }
   ],
   "source": [
    "plot_feature_importances(xgb_model)\n",
    "\n",
    "print('Train:', np.sqrt(mean_squared_error(y_train, xgb_model.predict(X_train))))\n",
    "print('Test:', np.sqrt(mean_squared_error(y_test, xgb_model.predict(X_test))))"
   ]
  },
  {
   "cell_type": "markdown",
   "metadata": {},
   "source": [
    "# Next week prediction"
   ]
  },
  {
   "cell_type": "code",
   "execution_count": 11,
   "metadata": {
    "collapsed": false
   },
   "outputs": [
    {
     "data": {
      "text/plain": [
       "((578138, 69), (578138, 85))"
      ]
     },
     "execution_count": 11,
     "metadata": {},
     "output_type": "execute_result"
    }
   ],
   "source": [
    "X_train2 = X_train[[col for col in X_train.columns if '_1' != col[-2:]]]\n",
    "X_test2 = X_test[[col for col in X_test.columns if '_1' != col[-2:]]]\n",
    "X_eval2 = X_eval[[col for col in X_eval.columns if '_1' != col[-2:]]]\n",
    "X_train2.shape, X_train.shape"
   ]
  },
  {
   "cell_type": "code",
   "execution_count": 12,
   "metadata": {
    "collapsed": false
   },
   "outputs": [
    {
     "data": {
      "text/plain": [
       "XGBRegressor(base_score=0.5, colsample_bylevel=1, colsample_bytree=0.8,\n",
       "       gamma=0.7, learning_rate=0.3, max_delta_step=0, max_depth=16,\n",
       "       min_child_weight=18, missing=None, n_estimators=100, nthread=-1,\n",
       "       objective='reg:linear', reg_alpha=0, reg_lambda=1,\n",
       "       scale_pos_weight=1, seed=0, silent=True, subsample=0.8)"
      ]
     },
     "execution_count": 12,
     "metadata": {},
     "output_type": "execute_result"
    }
   ],
   "source": [
    "param = {\n",
    " 'learning_rate': 0.3,\n",
    " 'gamma': 0.7,\n",
    " 'max_depth': 16,\n",
    " 'min_child_weight': 18,\n",
    " 'n_estimators': 100,\n",
    " 'subsample': 0.8,\n",
    " 'colsample_bytree': 0.8\n",
    "}\n",
    "\n",
    "xgb_model2 = xgb.XGBRegressor()\n",
    "xgb_model2.set_params(**param)\n",
    "#scores = cross_val_score(xgb_model2, X_train, y_train, scoring = 'mean_squared_error',\n",
    "#                             cv = cv5fold, n_jobs=-1)\n",
    "\n",
    "xgb_model2.fit(X_train2, y_train)"
   ]
  },
  {
   "cell_type": "code",
   "execution_count": 13,
   "metadata": {
    "collapsed": false
   },
   "outputs": [
    {
     "name": "stdout",
     "output_type": "stream",
     "text": [
      "Train: 0.400403911726\n",
      "Test: 0.460407666916\n"
     ]
    },
    {
     "data": {
      "image/png": "[encoded data removed]",
      "text/plain": [
       "<matplotlib.figure.Figure at 0x7fceb80ae9d0>"
      ]
     },
     "metadata": {},
     "output_type": "display_data"
    }
   ],
   "source": [
    "plot_feature_importances(xgb_model2)\n",
    "\n",
    "print('Train:', np.sqrt(mean_squared_error(y_train, xgb_model2.predict(X_train2))))\n",
    "print('Test:', np.sqrt(mean_squared_error(y_test, xgb_model2.predict(X_test2))))"
   ]
  },
  {
   "cell_type": "markdown",
   "metadata": {},
   "source": [
    "# Cross-validation"
   ]
  },
  {
   "cell_type": "code",
   "execution_count": null,
   "metadata": {
    "collapsed": false
   },
   "outputs": [],
   "source": [
    "param = {\n",
    " 'eta': 0.3,\n",
    " 'gamma': 0,\n",
    " 'max_depth': 15,\n",
    " 'min_child_weight': 12,\n",
    " 'n_estimators': 100,\n",
    " 'subsample': 0.8,\n",
    " 'colsample_bytree': 0.8\n",
    "}\n",
    "\n",
    "xgtrain = xgb.DMatrix(X_train.values, label=y_train.values)\n",
    "cvresult = xgb.cv(param, xgtrain, num_boost_round=200, nfold=5,\n",
    "                    metrics='rmse', early_stopping_rounds=10)\n",
    "cvresult"
   ]
  },
  {
   "cell_type": "code",
   "execution_count": null,
   "metadata": {
    "collapsed": false
   },
   "outputs": [],
   "source": [
    "grid_param = {\n",
    " 'max_depth': [15, 17, 20, 23, 25],\n",
    " 'min_child_weight': [5, 8, 10, 12],\n",
    "}\n",
    "\n",
    "xgb_model = xgb.XGBRegressor(n_estimators=78,\n",
    "                             learning_rate = 0.3,\n",
    "                             gamma=0,\n",
    "                             subsample=0.8,\n",
    "                             colsample_bytree=0.8)\n",
    "\n",
    "clf = GridSearchCV(xgb_model, grid_param, cv=5,\n",
    "                   scoring='mean_squared_error',verbose=1, n_jobs=-1)\n",
    "clf.fit(X_train, y_train)\n",
    "\n",
    "print(clf.best_score_)\n",
    "print(clf.best_params_)\n",
    "clf.grid_scores_"
   ]
  },
  {
   "cell_type": "code",
   "execution_count": null,
   "metadata": {
    "collapsed": false
   },
   "outputs": [],
   "source": [
    "plot_feature_importances(clf.best_estimator_)"
   ]
  },
  {
   "cell_type": "markdown",
   "metadata": {},
   "source": [
    "# Grid search without cross-validation"
   ]
  },
  {
   "cell_type": "code",
   "execution_count": null,
   "metadata": {
    "collapsed": false
   },
   "outputs": [],
   "source": [
    "from gridsearch import GridSearch"
   ]
  },
  {
   "cell_type": "code",
   "execution_count": null,
   "metadata": {
    "collapsed": false
   },
   "outputs": [
    {
     "name": "stdout",
     "output_type": "stream",
     "text": [
      "Fitting 20 candidates\n",
      "0 test score: 0.404579, train score: 0.339234, params: {'gamma': 0.0}\n"
     ]
    }
   ],
   "source": [
    "param_grid = {\n",
    " 'gamma': list(np.arange(0, 1, 0.05)),\n",
    "}\n",
    "\n",
    "xgb_model = xgb.XGBRegressor(n_estimators=100,\n",
    "                             learning_rate = 0.3,\n",
    "                             subsample=0.8,\n",
    "                             colsample_bytree=0.8,\n",
    "                             max_depth = 16,\n",
    "                             min_child_weight = 18)\n",
    "\n",
    "gs = GridSearch(xgb_model, param_grid, verbose=1)\n",
    "    \n",
    "gs.fit(X_train, X_test, y_train, y_test)"
   ]
  },
  {
   "cell_type": "code",
   "execution_count": null,
   "metadata": {
    "collapsed": false
   },
   "outputs": [],
   "source": [
    "gs.best_score_"
   ]
  },
  {
   "cell_type": "code",
   "execution_count": null,
   "metadata": {
    "collapsed": false
   },
   "outputs": [],
   "source": [
    "gs.best_params_"
   ]
  },
  {
   "cell_type": "code",
   "execution_count": null,
   "metadata": {
    "collapsed": true
   },
   "outputs": [],
   "source": []
  }
 ],
 "metadata": {
  "kernelspec": {
   "display_name": "Python [Root]",
   "language": "python",
   "name": "Python [Root]"
  },
  "language_info": {
   "codemirror_mode": {
    "name": "ipython",
    "version": 2
   },
   "file_extension": ".py",
   "mimetype": "text/x-python",
   "name": "python",
   "nbconvert_exporter": "python",
   "pygments_lexer": "ipython2",
   "version": "2.7.12"
  }
 },
 "nbformat": 4,
 "nbformat_minor": 0
}
