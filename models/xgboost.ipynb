{
 "cells": [
  {
   "cell_type": "code",
   "execution_count": 1,
   "metadata": {},
   "outputs": [
    {
     "name": "stdout",
     "output_type": "stream",
     "text": [
      "Populating the interactive namespace from numpy and matplotlib\n"
     ]
    }
   ],
   "source": [
    "import seaborn as sns\n",
    "import numpy as np\n",
    "import scipy\n",
    "import pandas as pd\n",
    "import matplotlib.pyplot as plt\n",
    "from IPython.display import display\n",
    "%pylab inline\n",
    "import os\n",
    "from __future__ import print_function\n",
    "from __future__ import division\n",
    "import os, sys\n",
    "# hook up all scripts\n",
    "sys.path.append(os.path.abspath('../scripts')) # if notebook in folder\n",
    "sys.path.append(os.path.abspath('./scripts')) #if in root\n",
    "import preprocessing_time_series as pts\n",
    "\n",
    "\n",
    "os.chdir(pts.working_dir())"
   ]
  },
  {
   "cell_type": "code",
   "execution_count": 2,
   "metadata": {},
   "outputs": [
    {
     "name": "stdout",
     "output_type": "stream",
     "text": [
      "(319693, 24)\n"
     ]
    },
    {
     "data": {
      "text/html": [
       "<div>\n",
       "<table border=\"1\" class=\"dataframe\">\n",
       "  <thead>\n",
       "    <tr style=\"text-align: right;\">\n",
       "      <th></th>\n",
       "      <th>Semana</th>\n",
       "      <th>Agencia_ID</th>\n",
       "      <th>Canal_ID</th>\n",
       "      <th>Ruta_SAK</th>\n",
       "      <th>Cliente_ID</th>\n",
       "      <th>Producto_ID</th>\n",
       "      <th>Venta_uni_hoy</th>\n",
       "      <th>Venta_hoy</th>\n",
       "      <th>Dev_uni_proxima</th>\n",
       "      <th>Dev_proxima</th>\n",
       "      <th>...</th>\n",
       "      <th>No_remains</th>\n",
       "      <th>Venta_hoy_by_uni</th>\n",
       "      <th>Ordered</th>\n",
       "      <th>Log_Demanda</th>\n",
       "      <th>Median_Producto_ID</th>\n",
       "      <th>LogMean_Producto_ID</th>\n",
       "      <th>Median_Producto_ID_Ruta_SAK</th>\n",
       "      <th>LogMean_Producto_ID_Ruta_SAK</th>\n",
       "      <th>Median_Producto_ID_Cliente_ID_Agencia_ID</th>\n",
       "      <th>LogMean_Producto_ID_Cliente_ID_Agencia_ID</th>\n",
       "    </tr>\n",
       "  </thead>\n",
       "  <tbody>\n",
       "    <tr>\n",
       "      <th>0</th>\n",
       "      <td>3</td>\n",
       "      <td>2059</td>\n",
       "      <td>7</td>\n",
       "      <td>3301</td>\n",
       "      <td>237195</td>\n",
       "      <td>202</td>\n",
       "      <td>8</td>\n",
       "      <td>327.60</td>\n",
       "      <td>0</td>\n",
       "      <td>0.0</td>\n",
       "      <td>...</td>\n",
       "      <td>0</td>\n",
       "      <td>40.95</td>\n",
       "      <td>1</td>\n",
       "      <td>2.197225</td>\n",
       "      <td>7.0</td>\n",
       "      <td>2.217120</td>\n",
       "      <td>12.0</td>\n",
       "      <td>2.436608</td>\n",
       "      <td>8.0</td>\n",
       "      <td>2.246207</td>\n",
       "    </tr>\n",
       "    <tr>\n",
       "      <th>1</th>\n",
       "      <td>3</td>\n",
       "      <td>2059</td>\n",
       "      <td>7</td>\n",
       "      <td>3301</td>\n",
       "      <td>237195</td>\n",
       "      <td>1150</td>\n",
       "      <td>2</td>\n",
       "      <td>27.92</td>\n",
       "      <td>0</td>\n",
       "      <td>0.0</td>\n",
       "      <td>...</td>\n",
       "      <td>0</td>\n",
       "      <td>13.96</td>\n",
       "      <td>1</td>\n",
       "      <td>1.098612</td>\n",
       "      <td>2.0</td>\n",
       "      <td>1.471009</td>\n",
       "      <td>4.0</td>\n",
       "      <td>1.601341</td>\n",
       "      <td>2.0</td>\n",
       "      <td>0.993963</td>\n",
       "    </tr>\n",
       "    <tr>\n",
       "      <th>2</th>\n",
       "      <td>3</td>\n",
       "      <td>2059</td>\n",
       "      <td>7</td>\n",
       "      <td>3301</td>\n",
       "      <td>237195</td>\n",
       "      <td>1240</td>\n",
       "      <td>4</td>\n",
       "      <td>33.52</td>\n",
       "      <td>0</td>\n",
       "      <td>0.0</td>\n",
       "      <td>...</td>\n",
       "      <td>0</td>\n",
       "      <td>8.38</td>\n",
       "      <td>1</td>\n",
       "      <td>1.609438</td>\n",
       "      <td>3.0</td>\n",
       "      <td>1.488157</td>\n",
       "      <td>5.0</td>\n",
       "      <td>2.428383</td>\n",
       "      <td>5.0</td>\n",
       "      <td>2.206691</td>\n",
       "    </tr>\n",
       "    <tr>\n",
       "      <th>3</th>\n",
       "      <td>3</td>\n",
       "      <td>2059</td>\n",
       "      <td>7</td>\n",
       "      <td>3301</td>\n",
       "      <td>237195</td>\n",
       "      <td>1250</td>\n",
       "      <td>5</td>\n",
       "      <td>38.20</td>\n",
       "      <td>0</td>\n",
       "      <td>0.0</td>\n",
       "      <td>...</td>\n",
       "      <td>0</td>\n",
       "      <td>7.64</td>\n",
       "      <td>1</td>\n",
       "      <td>1.791759</td>\n",
       "      <td>4.0</td>\n",
       "      <td>1.766284</td>\n",
       "      <td>6.0</td>\n",
       "      <td>2.531459</td>\n",
       "      <td>5.0</td>\n",
       "      <td>1.791759</td>\n",
       "    </tr>\n",
       "    <tr>\n",
       "      <th>4</th>\n",
       "      <td>3</td>\n",
       "      <td>2059</td>\n",
       "      <td>7</td>\n",
       "      <td>3301</td>\n",
       "      <td>237195</td>\n",
       "      <td>2233</td>\n",
       "      <td>2</td>\n",
       "      <td>39.88</td>\n",
       "      <td>0</td>\n",
       "      <td>0.0</td>\n",
       "      <td>...</td>\n",
       "      <td>0</td>\n",
       "      <td>19.94</td>\n",
       "      <td>1</td>\n",
       "      <td>1.098612</td>\n",
       "      <td>2.0</td>\n",
       "      <td>1.432443</td>\n",
       "      <td>8.0</td>\n",
       "      <td>2.214223</td>\n",
       "      <td>2.0</td>\n",
       "      <td>1.418451</td>\n",
       "    </tr>\n",
       "  </tbody>\n",
       "</table>\n",
       "<p>5 rows × 24 columns</p>\n",
       "</div>"
      ]
     },
     "output_type": "execute_result",
     "metadata": {}
    }
   ],
   "source": [
    "data_train = pd.read_csv('Feature_releases/release_v01/train_QUERETARO.csv')\n",
    "print(data_train.shape)\n",
    "data_train.head()"
   ]
  },
  {
   "cell_type": "code",
   "execution_count": 3,
   "metadata": {},
   "outputs": [
    {
     "name": "stdout",
     "output_type": "stream",
     "text": [
      "Data endoded\n"
     ]
    },
    {
     "data": {
      "text/plain": [
       "10"
      ]
     },
     "execution_count": 3,
     "output_type": "execute_result",
     "metadata": {}
    }
   ],
   "source": [
    "town = pts.text_encoding(pts.town_preproc())\n",
    "agencies = set(town.loc[town.State == u'NAYARIT'].index)\n",
    "len(agencies)"
   ]
  },
  {
   "cell_type": "code",
   "execution_count": 4,
   "metadata": {},
   "outputs": [
    {
     "name": "stdout",
     "output_type": "stream",
     "text": [
      "(78819, 6)\n"
     ]
    },
    {
     "data": {
      "text/html": [
       "<div>\n",
       "<table border=\"1\" class=\"dataframe\">\n",
       "  <thead>\n",
       "    <tr style=\"text-align: right;\">\n",
       "      <th></th>\n",
       "      <th>Semana</th>\n",
       "      <th>Agencia_ID</th>\n",
       "      <th>Canal_ID</th>\n",
       "      <th>Ruta_SAK</th>\n",
       "      <th>Cliente_ID</th>\n",
       "      <th>Producto_ID</th>\n",
       "    </tr>\n",
       "    <tr>\n",
       "      <th>id</th>\n",
       "      <th></th>\n",
       "      <th></th>\n",
       "      <th></th>\n",
       "      <th></th>\n",
       "      <th></th>\n",
       "      <th></th>\n",
       "    </tr>\n",
       "  </thead>\n",
       "  <tbody>\n",
       "    <tr>\n",
       "      <th>42</th>\n",
       "      <td>11</td>\n",
       "      <td>1378</td>\n",
       "      <td>1</td>\n",
       "      <td>2005</td>\n",
       "      <td>594640</td>\n",
       "      <td>43285</td>\n",
       "    </tr>\n",
       "    <tr>\n",
       "      <th>59</th>\n",
       "      <td>10</td>\n",
       "      <td>1359</td>\n",
       "      <td>11</td>\n",
       "      <td>3957</td>\n",
       "      <td>2068213</td>\n",
       "      <td>6469</td>\n",
       "    </tr>\n",
       "    <tr>\n",
       "      <th>129</th>\n",
       "      <td>10</td>\n",
       "      <td>1378</td>\n",
       "      <td>1</td>\n",
       "      <td>2101</td>\n",
       "      <td>905734</td>\n",
       "      <td>37577</td>\n",
       "    </tr>\n",
       "    <tr>\n",
       "      <th>183</th>\n",
       "      <td>11</td>\n",
       "      <td>1340</td>\n",
       "      <td>1</td>\n",
       "      <td>2065</td>\n",
       "      <td>325592</td>\n",
       "      <td>43285</td>\n",
       "    </tr>\n",
       "    <tr>\n",
       "      <th>203</th>\n",
       "      <td>11</td>\n",
       "      <td>1340</td>\n",
       "      <td>1</td>\n",
       "      <td>2052</td>\n",
       "      <td>7729188</td>\n",
       "      <td>43274</td>\n",
       "    </tr>\n",
       "  </tbody>\n",
       "</table>\n",
       "</div>"
      ]
     },
     "output_type": "execute_result",
     "metadata": {}
    }
   ],
   "source": [
    "data_test = pd.read_csv('test.csv', index_col=0)\n",
    "data_test = data_test.loc[data_test.Agencia_ID.isin(agencies), :]\n",
    "print(data_test.shape)\n",
    "data_test.head()"
   ]
  },
  {
   "cell_type": "code",
   "execution_count": 5,
   "metadata": {},
   "outputs": [],
   "source": [
    "data = pd.concat([data_train, data_test], axis=0)\n",
    "del data_train\n",
    "del data_test"
   ]
  },
  {
   "cell_type": "code",
   "execution_count": 6,
   "metadata": {},
   "outputs": [
    {
     "name": "stdout",
     "output_type": "stream",
     "text": [
      "1 lag done\n",
      "2 lag done\n",
      "3 lag done\n",
      "4 lag done\n",
      "5 lag done\n"
     ]
    }
   ],
   "source": [
    "data = pts.lag_generation(data, n_lags=5)\n",
    "data = data.drop([u'Town', u'State', u'Venta_uni_hoy', u'Venta_hoy', u'Dev_uni_proxima',\n",
    "       u'Dev_proxima', u'Demanda_uni_equil', u'Dev_proxima_by_uni', u'No_remains', \n",
    "        u'Venta_hoy_by_uni', u'Ordered',u'Median_Producto_ID',\n",
    "       u'LogMean_Producto_ID', u'Median_Producto_ID_Ruta_SAK',\n",
    "       u'LogMean_Producto_ID_Ruta_SAK',\n",
    "       u'Median_Producto_ID_Cliente_ID_Agencia_ID',\n",
    "       u'LogMean_Producto_ID_Cliente_ID_Agencia_ID'], axis=1).set_index(u'Semana')\n",
    "# data.describe().transpose()"
   ]
  },
  {
   "cell_type": "code",
   "execution_count": 7,
   "metadata": {},
   "outputs": [],
   "source": [
    "X_train = data.loc[~data.Log_Demanda.isnull(),:].drop('Log_Demanda', axis=1)\n",
    "y_train = data.loc[~data.Log_Demanda.isnull(),'Log_Demanda']\n",
    "X_eval = data.loc[data.Log_Demanda.isnull(),:]"
   ]
  },
  {
   "cell_type": "code",
   "execution_count": 8,
   "metadata": {},
   "outputs": [
    {
     "data": {
      "text/plain": [
       "1     290404\n",
       "11     21707\n",
       "7       4422\n",
       "2       3027\n",
       "8        133\n",
       "dtype: int64"
      ]
     },
     "execution_count": 8,
     "output_type": "execute_result",
     "metadata": {}
    }
   ],
   "source": [
    "import crossval\n",
    "\n",
    "cv5fold, strats = crossval.crossvalidation(X_train[['Canal_ID']])\n",
    "strats.value_counts()"
   ]
  },
  {
   "cell_type": "markdown",
   "metadata": {},
   "source": [
    "# xgboost "
   ]
  },
  {
   "cell_type": "markdown",
   "metadata": {},
   "source": [
    "Обнаружил, что для learning_rate=0.3 оптимальное количество деревьев 78.\n",
    "\n",
    "Сейчас подбираю параметры max_depth и min_child_weight.\n",
    "\n",
    "Потом надо подобрать [gamma], [subsample, colsample_bytree], [lambda(L2), alpha(L1)]. "
   ]
  },
  {
   "cell_type": "code",
   "execution_count": 9,
   "metadata": {},
   "outputs": [],
   "source": [
    "import xgboost as xgb\n",
    "from sklearn.grid_search import GridSearchCV\n",
    "from sklearn.cross_validation import cross_val_score\n",
    "\n",
    "def plot_feature_importances(xgb_model):\n",
    "    plt.figure(figsize=(20,10))\n",
    "    feat_imp = pd.Series(xgb_model.booster().get_fscore()).sort_values(ascending=False)\n",
    "    feat_imp.plot(kind='bar', title='Feature Importances')\n",
    "    plt.ylabel('Feature Importance Score')"
   ]
  },
  {
   "cell_type": "code",
   "execution_count": null,
   "metadata": {},
   "outputs": [
    {
     "name": "stdout",
     "output_type": "stream",
     "text": [
      "Fitting 5 folds for each of 20 candidates, totalling 100 fits\n"
     ]
    }
   ],
   "source": [
    "grid_param = {\n",
    " 'max_depth': [15, 17, 20, 23, 25],\n",
    " 'min_child_weight': [5, 8, 10, 12],\n",
    "}\n",
    "\n",
    "xgb_model = xgb.XGBRegressor(n_estimators=78,\n",
    "                             learning_rate = 0.3,\n",
    "                             gamma=0,\n",
    "                             subsample=0.8,\n",
    "                             colsample_bytree=0.8)\n",
    "\n",
    "clf = GridSearchCV(xgb_model, grid_param, cv=cv5fold,\n",
    "                   scoring='mean_squared_error',verbose=1, n_jobs=-1)\n",
    "clf.fit(X_train, y_train)\n",
    "\n",
    "print(clf.grid_scores_)\n",
    "print(clf.best_score_)\n",
    "print(clf.best_params_)"
   ]
  },
  {
   "cell_type": "code",
   "execution_count": null,
   "metadata": {},
   "outputs": [],
   "source": [
    "plot_feature_importances(clf.best_estimator_)"
   ]
  },
  {
   "cell_type": "code",
   "execution_count": null,
   "metadata": {},
   "outputs": [],
   "source": [
    "# param = clf.best_params_\n",
    "param = {\n",
    " 'gamma': 0,\n",
    " 'max_depth': 15,\n",
    " 'min_child_weight': 6,\n",
    " 'n_estimators': 100,\n",
    " 'subsample': 0.8\n",
    "}\n",
    "\n",
    "xgb_model = xgb.XGBRegressor()\n",
    "xgb_model.set_params(**param)\n",
    "scores = cross_val_score(xgb_model, X_train, y_train, scoring = 'mean_squared_error',\n",
    "                             cv = cv5fold, n_jobs=-1)\n",
    "xgb_model.fit(X_train, y_train)"
   ]
  },
  {
   "cell_type": "code",
   "execution_count": null,
   "metadata": {},
   "outputs": [],
   "source": [
    "plot_feature_importances(xgb_model)\n",
    "r2 = xgb_model.score(X_train, y_train)\n",
    "\n",
    "rmse = np.sqrt((1-r2)*y_train.var())\n",
    "print (scores, rmse)"
   ]
  },
  {
   "cell_type": "code",
   "execution_count": null,
   "metadata": {},
   "outputs": [],
   "source": [
    "param = {\n",
    " 'eta': 0.3\n",
    " 'gamma': 0,\n",
    " 'max_depth': 15,\n",
    " 'min_child_weight': 6,\n",
    " 'subsample': 0.8\n",
    "}\n",
    "\n",
    "xgtrain = xgb.DMatrix(X_train.values, label=y_train.values)\n",
    "cvresult = xgb.cv(param, xgtrain, num_boost_round=200, nfold=5,\n",
    "                    metrics='rmse', early_stopping_rounds=10)\n",
    "cvresult"
   ]
  },
  {
   "cell_type": "code",
   "execution_count": null,
   "metadata": {},
   "outputs": [],
   "source": [
    ""
   ]
  }
 ],
 "metadata": {
  "kernelspec": {
   "display_name": "Python [Root]",
   "language": "python",
   "name": "Python [Root]"
  },
  "language_info": {
   "codemirror_mode": {
    "name": "ipython",
    "version": 2.0
   },
   "file_extension": ".py",
   "mimetype": "text/x-python",
   "name": "python",
   "nbconvert_exporter": "python",
   "pygments_lexer": "ipython2",
   "version": "2.7.12"
  }
 },
 "nbformat": 4,
 "nbformat_minor": 0
}