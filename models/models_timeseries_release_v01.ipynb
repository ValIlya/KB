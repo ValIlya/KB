{
 "cells": [
  {
   "cell_type": "code",
   "execution_count": 27,
   "metadata": {
    "ExecuteTime": {
     "end_time": "2016-07-17T17:25:55.842950",
     "start_time": "2016-07-17T17:25:55.816021"
    },
    "collapsed": false
   },
   "outputs": [
    {
     "name": "stdout",
     "output_type": "stream",
     "text": [
      "Populating the interactive namespace from numpy and matplotlib\n"
     ]
    }
   ],
   "source": [
    "import seaborn as sns\n",
    "import numpy as np\n",
    "import scipy\n",
    "import pandas as pd\n",
    "import matplotlib.pyplot as plt\n",
    "from IPython.display import display\n",
    "%pylab inline\n",
    "import os\n",
    "from __future__ import print_function\n",
    "from __future__ import division\n",
    "import os, sys\n",
    "# hook up all scripts\n",
    "sys.path.append(os.path.abspath('../scripts')) # if notebook in folder\n",
    "sys.path.append(os.path.abspath('./scripts')) #if in root\n",
    "import preprocessing_time_series as pts\n",
    "\n",
    "\n",
    "os.chdir(pts.working_dir())"
   ]
  },
  {
   "cell_type": "markdown",
   "metadata": {},
   "source": [
    "``` bash\n",
    "sudo python preprocessing_time_series.py\n",
    "```"
   ]
  },
  {
   "cell_type": "code",
   "execution_count": 28,
   "metadata": {
    "ExecuteTime": {
     "end_time": "2016-07-17T17:25:59.741809",
     "start_time": "2016-07-17T17:25:56.394377"
    },
    "collapsed": false,
    "scrolled": true
   },
   "outputs": [
    {
     "name": "stdout",
     "output_type": "stream",
     "text": [
      "(809684, 24)\n"
     ]
    },
    {
     "data": {
      "text/html": [
       "<div>\n",
       "<table border=\"1\" class=\"dataframe\">\n",
       "  <thead>\n",
       "    <tr style=\"text-align: right;\">\n",
       "      <th></th>\n",
       "      <th>Semana</th>\n",
       "      <th>Agencia_ID</th>\n",
       "      <th>Canal_ID</th>\n",
       "      <th>Ruta_SAK</th>\n",
       "      <th>Cliente_ID</th>\n",
       "      <th>Producto_ID</th>\n",
       "      <th>Venta_uni_hoy</th>\n",
       "      <th>Venta_hoy</th>\n",
       "      <th>Dev_uni_proxima</th>\n",
       "      <th>Dev_proxima</th>\n",
       "      <th>...</th>\n",
       "      <th>No_remains</th>\n",
       "      <th>Venta_hoy_by_uni</th>\n",
       "      <th>Ordered</th>\n",
       "      <th>Log_Demanda</th>\n",
       "      <th>Median_Producto_ID</th>\n",
       "      <th>LogMean_Producto_ID</th>\n",
       "      <th>Median_Producto_ID_Ruta_SAK</th>\n",
       "      <th>LogMean_Producto_ID_Ruta_SAK</th>\n",
       "      <th>Median_Producto_ID_Cliente_ID_Agencia_ID</th>\n",
       "      <th>LogMean_Producto_ID_Cliente_ID_Agencia_ID</th>\n",
       "    </tr>\n",
       "  </thead>\n",
       "  <tbody>\n",
       "    <tr>\n",
       "      <th>0</th>\n",
       "      <td>3</td>\n",
       "      <td>1340</td>\n",
       "      <td>1</td>\n",
       "      <td>1051</td>\n",
       "      <td>41849</td>\n",
       "      <td>73</td>\n",
       "      <td>1</td>\n",
       "      <td>21.32</td>\n",
       "      <td>0</td>\n",
       "      <td>0.0</td>\n",
       "      <td>...</td>\n",
       "      <td>0</td>\n",
       "      <td>21.32</td>\n",
       "      <td>1</td>\n",
       "      <td>0.693147</td>\n",
       "      <td>2.0</td>\n",
       "      <td>1.118843</td>\n",
       "      <td>2.0</td>\n",
       "      <td>1.122955</td>\n",
       "      <td>1.0</td>\n",
       "      <td>0.774240</td>\n",
       "    </tr>\n",
       "    <tr>\n",
       "      <th>1</th>\n",
       "      <td>3</td>\n",
       "      <td>1340</td>\n",
       "      <td>1</td>\n",
       "      <td>1051</td>\n",
       "      <td>41849</td>\n",
       "      <td>1109</td>\n",
       "      <td>6</td>\n",
       "      <td>90.06</td>\n",
       "      <td>0</td>\n",
       "      <td>0.0</td>\n",
       "      <td>...</td>\n",
       "      <td>0</td>\n",
       "      <td>15.01</td>\n",
       "      <td>1</td>\n",
       "      <td>1.945910</td>\n",
       "      <td>2.0</td>\n",
       "      <td>1.171162</td>\n",
       "      <td>3.0</td>\n",
       "      <td>1.416386</td>\n",
       "      <td>6.0</td>\n",
       "      <td>1.805732</td>\n",
       "    </tr>\n",
       "    <tr>\n",
       "      <th>2</th>\n",
       "      <td>3</td>\n",
       "      <td>1340</td>\n",
       "      <td>1</td>\n",
       "      <td>1051</td>\n",
       "      <td>41849</td>\n",
       "      <td>1125</td>\n",
       "      <td>13</td>\n",
       "      <td>124.80</td>\n",
       "      <td>0</td>\n",
       "      <td>0.0</td>\n",
       "      <td>...</td>\n",
       "      <td>0</td>\n",
       "      <td>9.60</td>\n",
       "      <td>1</td>\n",
       "      <td>2.639057</td>\n",
       "      <td>6.0</td>\n",
       "      <td>1.971653</td>\n",
       "      <td>6.0</td>\n",
       "      <td>2.024443</td>\n",
       "      <td>9.5</td>\n",
       "      <td>2.042122</td>\n",
       "    </tr>\n",
       "    <tr>\n",
       "      <th>3</th>\n",
       "      <td>3</td>\n",
       "      <td>1340</td>\n",
       "      <td>1</td>\n",
       "      <td>1051</td>\n",
       "      <td>41849</td>\n",
       "      <td>1150</td>\n",
       "      <td>1</td>\n",
       "      <td>13.96</td>\n",
       "      <td>0</td>\n",
       "      <td>0.0</td>\n",
       "      <td>...</td>\n",
       "      <td>0</td>\n",
       "      <td>13.96</td>\n",
       "      <td>1</td>\n",
       "      <td>0.693147</td>\n",
       "      <td>2.0</td>\n",
       "      <td>1.448213</td>\n",
       "      <td>2.5</td>\n",
       "      <td>1.471629</td>\n",
       "      <td>2.0</td>\n",
       "      <td>1.080011</td>\n",
       "    </tr>\n",
       "    <tr>\n",
       "      <th>4</th>\n",
       "      <td>3</td>\n",
       "      <td>1340</td>\n",
       "      <td>1</td>\n",
       "      <td>1051</td>\n",
       "      <td>41849</td>\n",
       "      <td>2233</td>\n",
       "      <td>4</td>\n",
       "      <td>79.76</td>\n",
       "      <td>0</td>\n",
       "      <td>0.0</td>\n",
       "      <td>...</td>\n",
       "      <td>0</td>\n",
       "      <td>19.94</td>\n",
       "      <td>1</td>\n",
       "      <td>1.609438</td>\n",
       "      <td>3.0</td>\n",
       "      <td>1.409244</td>\n",
       "      <td>3.0</td>\n",
       "      <td>1.517772</td>\n",
       "      <td>3.0</td>\n",
       "      <td>1.399732</td>\n",
       "    </tr>\n",
       "  </tbody>\n",
       "</table>\n",
       "<p>5 rows × 24 columns</p>\n",
       "</div>"
      ],
      "text/plain": [
       "   Semana  Agencia_ID  Canal_ID  Ruta_SAK  Cliente_ID  Producto_ID  \\\n",
       "0       3        1340         1      1051       41849           73   \n",
       "1       3        1340         1      1051       41849         1109   \n",
       "2       3        1340         1      1051       41849         1125   \n",
       "3       3        1340         1      1051       41849         1150   \n",
       "4       3        1340         1      1051       41849         2233   \n",
       "\n",
       "   Venta_uni_hoy  Venta_hoy  Dev_uni_proxima  Dev_proxima  \\\n",
       "0              1      21.32                0          0.0   \n",
       "1              6      90.06                0          0.0   \n",
       "2             13     124.80                0          0.0   \n",
       "3              1      13.96                0          0.0   \n",
       "4              4      79.76                0          0.0   \n",
       "\n",
       "                     ...                      No_remains Venta_hoy_by_uni  \\\n",
       "0                    ...                               0            21.32   \n",
       "1                    ...                               0            15.01   \n",
       "2                    ...                               0             9.60   \n",
       "3                    ...                               0            13.96   \n",
       "4                    ...                               0            19.94   \n",
       "\n",
       "  Ordered  Log_Demanda  Median_Producto_ID  LogMean_Producto_ID  \\\n",
       "0       1     0.693147                 2.0             1.118843   \n",
       "1       1     1.945910                 2.0             1.171162   \n",
       "2       1     2.639057                 6.0             1.971653   \n",
       "3       1     0.693147                 2.0             1.448213   \n",
       "4       1     1.609438                 3.0             1.409244   \n",
       "\n",
       "   Median_Producto_ID_Ruta_SAK  LogMean_Producto_ID_Ruta_SAK  \\\n",
       "0                          2.0                      1.122955   \n",
       "1                          3.0                      1.416386   \n",
       "2                          6.0                      2.024443   \n",
       "3                          2.5                      1.471629   \n",
       "4                          3.0                      1.517772   \n",
       "\n",
       "   Median_Producto_ID_Cliente_ID_Agencia_ID  \\\n",
       "0                                       1.0   \n",
       "1                                       6.0   \n",
       "2                                       9.5   \n",
       "3                                       2.0   \n",
       "4                                       3.0   \n",
       "\n",
       "   LogMean_Producto_ID_Cliente_ID_Agencia_ID  \n",
       "0                                   0.774240  \n",
       "1                                   1.805732  \n",
       "2                                   2.042122  \n",
       "3                                   1.080011  \n",
       "4                                   1.399732  \n",
       "\n",
       "[5 rows x 24 columns]"
      ]
     },
     "execution_count": 28,
     "metadata": {},
     "output_type": "execute_result"
    }
   ],
   "source": [
    "data_train = pd.read_csv('Feature_releases/release_v01/train_NAYARIT.csv')\n",
    "print(data_train.shape)\n",
    "data_train.head()"
   ]
  },
  {
   "cell_type": "code",
   "execution_count": 29,
   "metadata": {
    "ExecuteTime": {
     "end_time": "2016-07-17T17:25:59.761538",
     "start_time": "2016-07-17T17:25:59.743814"
    },
    "collapsed": false
   },
   "outputs": [
    {
     "name": "stdout",
     "output_type": "stream",
     "text": [
      "Data endoded\n"
     ]
    },
    {
     "data": {
      "text/plain": [
       "10"
      ]
     },
     "execution_count": 29,
     "metadata": {},
     "output_type": "execute_result"
    }
   ],
   "source": [
    "town = pts.text_encoding(pts.town_preproc())\n",
    "agencies = set(town.loc[town.State == u'NAYARIT'].index)\n",
    "len(agencies)"
   ]
  },
  {
   "cell_type": "code",
   "execution_count": 30,
   "metadata": {
    "ExecuteTime": {
     "end_time": "2016-07-17T17:26:06.391537",
     "start_time": "2016-07-17T17:25:59.763542"
    },
    "collapsed": false
   },
   "outputs": [
    {
     "name": "stdout",
     "output_type": "stream",
     "text": [
      "(78819, 6)\n"
     ]
    },
    {
     "data": {
      "text/html": [
       "<div>\n",
       "<table border=\"1\" class=\"dataframe\">\n",
       "  <thead>\n",
       "    <tr style=\"text-align: right;\">\n",
       "      <th></th>\n",
       "      <th>Semana</th>\n",
       "      <th>Agencia_ID</th>\n",
       "      <th>Canal_ID</th>\n",
       "      <th>Ruta_SAK</th>\n",
       "      <th>Cliente_ID</th>\n",
       "      <th>Producto_ID</th>\n",
       "    </tr>\n",
       "    <tr>\n",
       "      <th>id</th>\n",
       "      <th></th>\n",
       "      <th></th>\n",
       "      <th></th>\n",
       "      <th></th>\n",
       "      <th></th>\n",
       "      <th></th>\n",
       "    </tr>\n",
       "  </thead>\n",
       "  <tbody>\n",
       "    <tr>\n",
       "      <th>42</th>\n",
       "      <td>11</td>\n",
       "      <td>1378</td>\n",
       "      <td>1</td>\n",
       "      <td>2005</td>\n",
       "      <td>594640</td>\n",
       "      <td>43285</td>\n",
       "    </tr>\n",
       "    <tr>\n",
       "      <th>59</th>\n",
       "      <td>10</td>\n",
       "      <td>1359</td>\n",
       "      <td>11</td>\n",
       "      <td>3957</td>\n",
       "      <td>2068213</td>\n",
       "      <td>6469</td>\n",
       "    </tr>\n",
       "    <tr>\n",
       "      <th>129</th>\n",
       "      <td>10</td>\n",
       "      <td>1378</td>\n",
       "      <td>1</td>\n",
       "      <td>2101</td>\n",
       "      <td>905734</td>\n",
       "      <td>37577</td>\n",
       "    </tr>\n",
       "    <tr>\n",
       "      <th>183</th>\n",
       "      <td>11</td>\n",
       "      <td>1340</td>\n",
       "      <td>1</td>\n",
       "      <td>2065</td>\n",
       "      <td>325592</td>\n",
       "      <td>43285</td>\n",
       "    </tr>\n",
       "    <tr>\n",
       "      <th>203</th>\n",
       "      <td>11</td>\n",
       "      <td>1340</td>\n",
       "      <td>1</td>\n",
       "      <td>2052</td>\n",
       "      <td>7729188</td>\n",
       "      <td>43274</td>\n",
       "    </tr>\n",
       "  </tbody>\n",
       "</table>\n",
       "</div>"
      ],
      "text/plain": [
       "     Semana  Agencia_ID  Canal_ID  Ruta_SAK  Cliente_ID  Producto_ID\n",
       "id                                                                  \n",
       "42       11        1378         1      2005      594640        43285\n",
       "59       10        1359        11      3957     2068213         6469\n",
       "129      10        1378         1      2101      905734        37577\n",
       "183      11        1340         1      2065      325592        43285\n",
       "203      11        1340         1      2052     7729188        43274"
      ]
     },
     "execution_count": 30,
     "metadata": {},
     "output_type": "execute_result"
    }
   ],
   "source": [
    "data_test = pd.read_csv('test.csv', index_col=0)\n",
    "data_test = data_test.loc[data_test.Agencia_ID.isin(agencies), :]\n",
    "print(data_test.shape)\n",
    "data_test.head()"
   ]
  },
  {
   "cell_type": "code",
   "execution_count": 31,
   "metadata": {
    "ExecuteTime": {
     "end_time": "2016-07-17T17:26:06.752322",
     "start_time": "2016-07-17T17:26:06.393519"
    },
    "collapsed": true
   },
   "outputs": [],
   "source": [
    "data = pd.concat([data_train, data_test], axis=0)\n",
    "del data_train\n",
    "del data_test"
   ]
  },
  {
   "cell_type": "code",
   "execution_count": 32,
   "metadata": {
    "ExecuteTime": {
     "end_time": "2016-07-17T17:26:20.391500",
     "start_time": "2016-07-17T17:26:06.754895"
    },
    "collapsed": false
   },
   "outputs": [
    {
     "name": "stdout",
     "output_type": "stream",
     "text": [
      "1 lag done\n",
      "2 lag done\n",
      "3 lag done\n",
      "4 lag done\n",
      "5 lag done\n"
     ]
    },
    {
     "data": {
      "text/html": [
       "<div>\n",
       "<table border=\"1\" class=\"dataframe\">\n",
       "  <thead>\n",
       "    <tr style=\"text-align: right;\">\n",
       "      <th></th>\n",
       "      <th></th>\n",
       "      <th>Agencia_ID</th>\n",
       "      <th>Canal_ID</th>\n",
       "      <th>Cliente_ID</th>\n",
       "      <th>Log_Demanda</th>\n",
       "      <th>Producto_ID</th>\n",
       "      <th>Ruta_SAK</th>\n",
       "      <th>Venta_uni_hoy_1</th>\n",
       "      <th>Venta_hoy_1</th>\n",
       "      <th>Dev_uni_proxima_1</th>\n",
       "      <th>Dev_proxima_1</th>\n",
       "      <th>...</th>\n",
       "      <th>No_remains_5</th>\n",
       "      <th>Venta_hoy_by_uni_5</th>\n",
       "      <th>Ordered_5</th>\n",
       "      <th>Log_Demanda_5</th>\n",
       "      <th>Median_Producto_ID_5</th>\n",
       "      <th>LogMean_Producto_ID_5</th>\n",
       "      <th>Median_Producto_ID_Ruta_SAK_5</th>\n",
       "      <th>LogMean_Producto_ID_Ruta_SAK_5</th>\n",
       "      <th>Median_Producto_ID_Cliente_ID_Agencia_ID_5</th>\n",
       "      <th>LogMean_Producto_ID_Cliente_ID_Agencia_ID_5</th>\n",
       "    </tr>\n",
       "    <tr>\n",
       "      <th>Semana</th>\n",
       "      <th></th>\n",
       "      <th></th>\n",
       "      <th></th>\n",
       "      <th></th>\n",
       "      <th></th>\n",
       "      <th></th>\n",
       "      <th></th>\n",
       "      <th></th>\n",
       "      <th></th>\n",
       "      <th></th>\n",
       "      <th></th>\n",
       "      <th></th>\n",
       "      <th></th>\n",
       "      <th></th>\n",
       "      <th></th>\n",
       "      <th></th>\n",
       "      <th></th>\n",
       "      <th></th>\n",
       "      <th></th>\n",
       "      <th></th>\n",
       "      <th></th>\n",
       "      <th></th>\n",
       "    </tr>\n",
       "  </thead>\n",
       "  <tbody>\n",
       "    <tr>\n",
       "      <th rowspan=\"5\" valign=\"top\">3</th>\n",
       "      <th>0</th>\n",
       "      <td>1340</td>\n",
       "      <td>1</td>\n",
       "      <td>41849</td>\n",
       "      <td>0.693147</td>\n",
       "      <td>73</td>\n",
       "      <td>1051</td>\n",
       "      <td>NaN</td>\n",
       "      <td>NaN</td>\n",
       "      <td>NaN</td>\n",
       "      <td>NaN</td>\n",
       "      <td>...</td>\n",
       "      <td>NaN</td>\n",
       "      <td>NaN</td>\n",
       "      <td>NaN</td>\n",
       "      <td>NaN</td>\n",
       "      <td>NaN</td>\n",
       "      <td>NaN</td>\n",
       "      <td>NaN</td>\n",
       "      <td>NaN</td>\n",
       "      <td>NaN</td>\n",
       "      <td>NaN</td>\n",
       "    </tr>\n",
       "    <tr>\n",
       "      <th>1</th>\n",
       "      <td>1340</td>\n",
       "      <td>1</td>\n",
       "      <td>41849</td>\n",
       "      <td>1.945910</td>\n",
       "      <td>1109</td>\n",
       "      <td>1051</td>\n",
       "      <td>NaN</td>\n",
       "      <td>NaN</td>\n",
       "      <td>NaN</td>\n",
       "      <td>NaN</td>\n",
       "      <td>...</td>\n",
       "      <td>NaN</td>\n",
       "      <td>NaN</td>\n",
       "      <td>NaN</td>\n",
       "      <td>NaN</td>\n",
       "      <td>NaN</td>\n",
       "      <td>NaN</td>\n",
       "      <td>NaN</td>\n",
       "      <td>NaN</td>\n",
       "      <td>NaN</td>\n",
       "      <td>NaN</td>\n",
       "    </tr>\n",
       "    <tr>\n",
       "      <th>2</th>\n",
       "      <td>1340</td>\n",
       "      <td>1</td>\n",
       "      <td>41849</td>\n",
       "      <td>2.639057</td>\n",
       "      <td>1125</td>\n",
       "      <td>1051</td>\n",
       "      <td>NaN</td>\n",
       "      <td>NaN</td>\n",
       "      <td>NaN</td>\n",
       "      <td>NaN</td>\n",
       "      <td>...</td>\n",
       "      <td>NaN</td>\n",
       "      <td>NaN</td>\n",
       "      <td>NaN</td>\n",
       "      <td>NaN</td>\n",
       "      <td>NaN</td>\n",
       "      <td>NaN</td>\n",
       "      <td>NaN</td>\n",
       "      <td>NaN</td>\n",
       "      <td>NaN</td>\n",
       "      <td>NaN</td>\n",
       "    </tr>\n",
       "    <tr>\n",
       "      <th>3</th>\n",
       "      <td>1340</td>\n",
       "      <td>1</td>\n",
       "      <td>41849</td>\n",
       "      <td>0.693147</td>\n",
       "      <td>1150</td>\n",
       "      <td>1051</td>\n",
       "      <td>NaN</td>\n",
       "      <td>NaN</td>\n",
       "      <td>NaN</td>\n",
       "      <td>NaN</td>\n",
       "      <td>...</td>\n",
       "      <td>NaN</td>\n",
       "      <td>NaN</td>\n",
       "      <td>NaN</td>\n",
       "      <td>NaN</td>\n",
       "      <td>NaN</td>\n",
       "      <td>NaN</td>\n",
       "      <td>NaN</td>\n",
       "      <td>NaN</td>\n",
       "      <td>NaN</td>\n",
       "      <td>NaN</td>\n",
       "    </tr>\n",
       "    <tr>\n",
       "      <th>4</th>\n",
       "      <td>1340</td>\n",
       "      <td>1</td>\n",
       "      <td>41849</td>\n",
       "      <td>1.609438</td>\n",
       "      <td>2233</td>\n",
       "      <td>1051</td>\n",
       "      <td>NaN</td>\n",
       "      <td>NaN</td>\n",
       "      <td>NaN</td>\n",
       "      <td>NaN</td>\n",
       "      <td>...</td>\n",
       "      <td>NaN</td>\n",
       "      <td>NaN</td>\n",
       "      <td>NaN</td>\n",
       "      <td>NaN</td>\n",
       "      <td>NaN</td>\n",
       "      <td>NaN</td>\n",
       "      <td>NaN</td>\n",
       "      <td>NaN</td>\n",
       "      <td>NaN</td>\n",
       "      <td>NaN</td>\n",
       "    </tr>\n",
       "  </tbody>\n",
       "</table>\n",
       "<p>5 rows × 86 columns</p>\n",
       "</div>"
      ],
      "text/plain": [
       "          Agencia_ID  Canal_ID  Cliente_ID  Log_Demanda  Producto_ID  \\\n",
       "Semana                                                                 \n",
       "3      0        1340         1       41849     0.693147           73   \n",
       "       1        1340         1       41849     1.945910         1109   \n",
       "       2        1340         1       41849     2.639057         1125   \n",
       "       3        1340         1       41849     0.693147         1150   \n",
       "       4        1340         1       41849     1.609438         2233   \n",
       "\n",
       "          Ruta_SAK  Venta_uni_hoy_1  Venta_hoy_1  Dev_uni_proxima_1  \\\n",
       "Semana                                                                \n",
       "3      0      1051              NaN          NaN                NaN   \n",
       "       1      1051              NaN          NaN                NaN   \n",
       "       2      1051              NaN          NaN                NaN   \n",
       "       3      1051              NaN          NaN                NaN   \n",
       "       4      1051              NaN          NaN                NaN   \n",
       "\n",
       "          Dev_proxima_1                     ...                       \\\n",
       "Semana                                      ...                        \n",
       "3      0            NaN                     ...                        \n",
       "       1            NaN                     ...                        \n",
       "       2            NaN                     ...                        \n",
       "       3            NaN                     ...                        \n",
       "       4            NaN                     ...                        \n",
       "\n",
       "          No_remains_5  Venta_hoy_by_uni_5  Ordered_5  Log_Demanda_5  \\\n",
       "Semana                                                                 \n",
       "3      0           NaN                 NaN        NaN            NaN   \n",
       "       1           NaN                 NaN        NaN            NaN   \n",
       "       2           NaN                 NaN        NaN            NaN   \n",
       "       3           NaN                 NaN        NaN            NaN   \n",
       "       4           NaN                 NaN        NaN            NaN   \n",
       "\n",
       "          Median_Producto_ID_5  LogMean_Producto_ID_5  \\\n",
       "Semana                                                  \n",
       "3      0                   NaN                    NaN   \n",
       "       1                   NaN                    NaN   \n",
       "       2                   NaN                    NaN   \n",
       "       3                   NaN                    NaN   \n",
       "       4                   NaN                    NaN   \n",
       "\n",
       "          Median_Producto_ID_Ruta_SAK_5  LogMean_Producto_ID_Ruta_SAK_5  \\\n",
       "Semana                                                                    \n",
       "3      0                            NaN                             NaN   \n",
       "       1                            NaN                             NaN   \n",
       "       2                            NaN                             NaN   \n",
       "       3                            NaN                             NaN   \n",
       "       4                            NaN                             NaN   \n",
       "\n",
       "          Median_Producto_ID_Cliente_ID_Agencia_ID_5  \\\n",
       "Semana                                                 \n",
       "3      0                                         NaN   \n",
       "       1                                         NaN   \n",
       "       2                                         NaN   \n",
       "       3                                         NaN   \n",
       "       4                                         NaN   \n",
       "\n",
       "          LogMean_Producto_ID_Cliente_ID_Agencia_ID_5  \n",
       "Semana                                                 \n",
       "3      0                                          NaN  \n",
       "       1                                          NaN  \n",
       "       2                                          NaN  \n",
       "       3                                          NaN  \n",
       "       4                                          NaN  \n",
       "\n",
       "[5 rows x 86 columns]"
      ]
     },
     "execution_count": 32,
     "metadata": {},
     "output_type": "execute_result"
    }
   ],
   "source": [
    "data = pts.lag_generation(data, n_lags=5)\n",
    "data = data.drop([u'Town', u'State', u'Venta_uni_hoy', u'Venta_hoy', u'Dev_uni_proxima',\n",
    "       u'Dev_proxima', u'Demanda_uni_equil', u'Dev_proxima_by_uni', u'No_remains', \n",
    "        u'Venta_hoy_by_uni', u'Ordered',u'Median_Producto_ID',\n",
    "       u'LogMean_Producto_ID', u'Median_Producto_ID_Ruta_SAK',\n",
    "       u'LogMean_Producto_ID_Ruta_SAK',\n",
    "       u'Median_Producto_ID_Cliente_ID_Agencia_ID',\n",
    "       u'LogMean_Producto_ID_Cliente_ID_Agencia_ID'], axis=1).set_index(u'Semana', append=True)\n",
    "data = data.swaplevel(i=0, j=-1, axis=0)\n",
    "data.head()"
   ]
  },
  {
   "cell_type": "code",
   "execution_count": 33,
   "metadata": {
    "ExecuteTime": {
     "end_time": "2016-07-17T17:26:21.390028",
     "start_time": "2016-07-17T17:26:20.395482"
    },
    "collapsed": true
   },
   "outputs": [],
   "source": [
    "X_train = data.loc[~data.Log_Demanda.isnull(),:].drop('Log_Demanda', axis=1)\n",
    "y_train = data.loc[~data.Log_Demanda.isnull(),'Log_Demanda']\n",
    "X_eval = data.loc[data.Log_Demanda.isnull(),:].drop('Log_Demanda', axis=1)"
   ]
  },
  {
   "cell_type": "code",
   "execution_count": 34,
   "metadata": {
    "ExecuteTime": {
     "end_time": "2016-07-17T17:27:46.147557",
     "start_time": "2016-07-17T17:26:21.391921"
    },
    "collapsed": false
   },
   "outputs": [
    {
     "name": "stderr",
     "output_type": "stream",
     "text": [
      "//anaconda/lib/python2.7/site-packages/sklearn/cross_validation.py:516: Warning: The least populated class in y has only 4 members, which is too few. The minimum number of labels for any class cannot be less than n_folds=5.\n",
      "  % (min_labels, self.n_folds)), Warning)\n"
     ]
    },
    {
     "data": {
      "text/plain": [
       "1     761186\n",
       "4      27504\n",
       "11     16058\n",
       "2       4646\n",
       "5        286\n",
       "6          4\n",
       "dtype: int64"
      ]
     },
     "execution_count": 34,
     "metadata": {},
     "output_type": "execute_result"
    }
   ],
   "source": [
    "import crossval\n",
    "\n",
    "cv5fold, strats = crossval.crossvalidation(X_train[['Canal_ID']])\n",
    "strats.value_counts()"
   ]
  },
  {
   "cell_type": "markdown",
   "metadata": {},
   "source": [
    "# Random Forest"
   ]
  },
  {
   "cell_type": "code",
   "execution_count": 35,
   "metadata": {
    "ExecuteTime": {
     "end_time": "2016-07-17T17:27:46.163276",
     "start_time": "2016-07-17T17:27:46.149819"
    },
    "collapsed": true
   },
   "outputs": [],
   "source": [
    "def plot_feature_importances(rf, feat_labels): \n",
    "    importances = rf.feature_importances_\n",
    "    indices = np.argsort(importances)[::-1]\n",
    "\n",
    "    plt.figure(figsize=(15, 9))\n",
    "    plt.title('RF Feature Importances')\n",
    "    plt.bar(range(len(feat_labels)), \n",
    "            importances[indices],\n",
    "            color='lightblue', \n",
    "            align='center')\n",
    "\n",
    "\n",
    "    plt.xticks(range(len(feat_labels)), feat_labels[indices], rotation=90)\n",
    "    plt.xlim([-1, len(feat_labels)])\n",
    "    plt.tight_layout()\n",
    "#     plt.savefig('./rf_feature_importance.png', dpi=300)\n",
    "    plt.show()"
   ]
  },
  {
   "cell_type": "code",
   "execution_count": 36,
   "metadata": {
    "ExecuteTime": {
     "end_time": "2016-07-17T17:30:54.692611",
     "start_time": "2016-07-17T17:27:46.165888"
    },
    "collapsed": false,
    "scrolled": true
   },
   "outputs": [
    {
     "name": "stdout",
     "output_type": "stream",
     "text": [
      "building tree 1 of 3\n",
      "building tree 1 of 3\n",
      " building tree 2 of 3\n",
      " building tree 3 of 3\n",
      " building tree 2 of 3\n",
      "building tree 3 of 3\n",
      " building tree 3 of 3\n",
      "building tree 1 of 3\n",
      " building tree 2 of 3\n",
      "building tree 1 of 3\n",
      " building tree 2 of 3\n",
      " building tree 3 of 3\n"
     ]
    },
    {
     "name": "stderr",
     "output_type": "stream",
     "text": [
      "[Parallel(n_jobs=-1)]: Done   4 out of   3 | elapsed:  1.7min remaining:  -25.9s\n",
      "[Parallel(n_jobs=-1)]: Done   4 out of   3 | elapsed:  1.7min remaining:  -25.4s\n",
      "[Parallel(n_jobs=-1)]: Done   4 out of   3 | elapsed:  1.7min remaining:  -25.5s\n",
      "[Parallel(n_jobs=-1)]: Done   3 out of   3 | elapsed:  1.7min finished\n",
      "[Parallel(n_jobs=-1)]: Done   4 out of   3 | elapsed:  1.7min remaining:  -26.1s\n",
      "[Parallel(n_jobs=-1)]: Done   3 out of   3 | elapsed:  1.7min finished\n",
      "[Parallel(n_jobs=3)]: Done   4 out of   3 | elapsed:    0.2s remaining:   -0.1s\n",
      "[Parallel(n_jobs=3)]: Done   4 out of   3 | elapsed:    0.3s remaining:   -0.1s\n",
      "[Parallel(n_jobs=3)]: Done   3 out of   3 | elapsed:    0.3s finished\n",
      "[Parallel(n_jobs=3)]: Done   4 out of   3 | elapsed:    0.2s remaining:   -0.1s\n",
      "[Parallel(n_jobs=-1)]: Done   4 out of   3 | elapsed:  1.8min remaining:  -26.4s\n",
      "[Parallel(n_jobs=3)]: Done   4 out of   3 | elapsed:    0.3s remaining:   -0.1s\n",
      "[Parallel(n_jobs=3)]: Done   3 out of   3 | elapsed:    0.3s finished\n",
      "[Parallel(n_jobs=-1)]: Done   4 out of   3 | elapsed:  1.8min remaining:  -26.5s\n",
      "[Parallel(n_jobs=-1)]: Done   3 out of   3 | elapsed:  1.8min finished\n",
      "[Parallel(n_jobs=3)]: Done   4 out of   3 | elapsed:    0.1s remaining:   -0.0s\n",
      "[Parallel(n_jobs=3)]: Done   4 out of   3 | elapsed:    0.2s remaining:   -0.0s\n",
      "[Parallel(n_jobs=3)]: Done   3 out of   3 | elapsed:    0.2s finished\n"
     ]
    },
    {
     "name": "stdout",
     "output_type": "stream",
     "text": [
      "building tree 1 of 3\n",
      " building tree 2 of 3\n",
      " building tree 3 of 3\n"
     ]
    },
    {
     "name": "stderr",
     "output_type": "stream",
     "text": [
      "[Parallel(n_jobs=-1)]: Done   4 out of   3 | elapsed:  1.9min remaining:  -27.8s\n",
      "[Parallel(n_jobs=-1)]: Done   4 out of   3 | elapsed:  1.9min remaining:  -27.8s\n",
      "[Parallel(n_jobs=-1)]: Done   3 out of   3 | elapsed:  1.9min finished\n",
      "[Parallel(n_jobs=3)]: Done   4 out of   3 | elapsed:    0.1s remaining:   -0.0s\n",
      "[Parallel(n_jobs=3)]: Done   4 out of   3 | elapsed:    0.1s remaining:   -0.0s\n",
      "[Parallel(n_jobs=3)]: Done   3 out of   3 | elapsed:    0.1s finished\n",
      "[Parallel(n_jobs=-1)]: Done   4 out of   3 | elapsed:   24.8s remaining:   -6.2s\n",
      "[Parallel(n_jobs=-1)]: Done   4 out of   3 | elapsed:   25.2s remaining:   -6.3s\n",
      "[Parallel(n_jobs=-1)]: Done   3 out of   3 | elapsed:   25.2s finished\n",
      "[Parallel(n_jobs=3)]: Done   4 out of   3 | elapsed:    0.1s remaining:   -0.0s\n",
      "[Parallel(n_jobs=3)]: Done   4 out of   3 | elapsed:    0.1s remaining:   -0.0s\n",
      "[Parallel(n_jobs=3)]: Done   3 out of   3 | elapsed:    0.1s finished\n"
     ]
    },
    {
     "name": "stdout",
     "output_type": "stream",
     "text": [
      "building tree 1 of 3\n",
      " building tree 3 of 3building tree 2 of 3\n",
      "\n"
     ]
    },
    {
     "name": "stderr",
     "output_type": "stream",
     "text": [
      "[Parallel(n_jobs=-1)]: Done   4 out of   3 | elapsed:   33.0s remaining:   -8.3s\n",
      "[Parallel(n_jobs=-1)]: Done   4 out of   3 | elapsed:   33.3s remaining:   -8.3s\n",
      "[Parallel(n_jobs=-1)]: Done   3 out of   3 | elapsed:   33.3s finished\n"
     ]
    },
    {
     "data": {
      "text/plain": [
       "RandomForestRegressor(bootstrap=True, criterion='mse', max_depth=None,\n",
       "           max_features='auto', max_leaf_nodes=None, min_samples_leaf=1,\n",
       "           min_samples_split=2, min_weight_fraction_leaf=0.0,\n",
       "           n_estimators=3, n_jobs=-1, oob_score=False, random_state=None,\n",
       "           verbose=10, warm_start=False)"
      ]
     },
     "execution_count": 36,
     "metadata": {},
     "output_type": "execute_result"
    }
   ],
   "source": [
    "from sklearn.ensemble import RandomForestRegressor\n",
    "from sklearn.metrics import mean_squared_error\n",
    "from sklearn.cross_validation import cross_val_score\n",
    "rf = RandomForestRegressor(n_estimators=3, criterion='mse', n_jobs=-1, verbose=10)\n",
    "\n",
    "scores = cross_val_score(rf, X_train.fillna(-999), \n",
    "                         y_train,\n",
    "                scoring = 'mean_squared_error', cv = cv5fold, n_jobs=-1)\n",
    "rf.fit(X_train.fillna(-999), y_train)"
   ]
  },
  {
   "cell_type": "code",
   "execution_count": 37,
   "metadata": {
    "ExecuteTime": {
     "end_time": "2016-07-17T17:30:58.004873",
     "start_time": "2016-07-17T17:30:54.695805"
    },
    "collapsed": false
   },
   "outputs": [
    {
     "data": {
      "image/png": "[encoded data removed]",
      "text/plain": [
       "<matplotlib.figure.Figure at 0x11dbac390>"
      ]
     },
     "metadata": {},
     "output_type": "display_data"
    },
    {
     "name": "stdout",
     "output_type": "stream",
     "text": [
      "[-0.4255033  -0.22568162 -0.19119118 -0.19332718 -0.25035735] 0.235455740482\n"
     ]
    },
    {
     "name": "stderr",
     "output_type": "stream",
     "text": [
      "[Parallel(n_jobs=3)]: Done   4 out of   3 | elapsed:    0.6s remaining:   -0.1s\n",
      "[Parallel(n_jobs=3)]: Done   4 out of   3 | elapsed:    0.6s remaining:   -0.1s\n",
      "[Parallel(n_jobs=3)]: Done   3 out of   3 | elapsed:    0.6s finished\n"
     ]
    }
   ],
   "source": [
    "plot_feature_importances(rf, X_train.columns)\n",
    "r2 = rf.score(X_train.fillna(-999), \n",
    "        y_train)\n",
    "\n",
    "rmse = np.sqrt((1-r2)*y_train.var())\n",
    "print (scores, rmse)"
   ]
  },
  {
   "cell_type": "markdown",
   "metadata": {},
   "source": [
    "## For 11 week prediction"
   ]
  },
  {
   "cell_type": "code",
   "execution_count": 38,
   "metadata": {
    "ExecuteTime": {
     "end_time": "2016-07-17T17:30:58.360601",
     "start_time": "2016-07-17T17:30:58.007433"
    },
    "collapsed": false
   },
   "outputs": [
    {
     "data": {
      "text/plain": [
       "((809684, 69), (809684, 85))"
      ]
     },
     "execution_count": 38,
     "metadata": {},
     "output_type": "execute_result"
    }
   ],
   "source": [
    "X_train2 = X_train[[col for col in X_train.columns if '_1' != col[-2:]]]\n",
    "X_eval2 = X_eval[[col for col in X_eval.columns if '_1' != col[-2:]]]\n",
    "X_train2.shape, X_train.shape"
   ]
  },
  {
   "cell_type": "code",
   "execution_count": 39,
   "metadata": {
    "ExecuteTime": {
     "end_time": "2016-07-17T17:33:32.127845",
     "start_time": "2016-07-17T17:30:58.363338"
    },
    "collapsed": false
   },
   "outputs": [
    {
     "name": "stdout",
     "output_type": "stream",
     "text": [
      " building tree 2 of 3\n",
      "building tree 1 of 3\n",
      " building tree 3 of 3\n",
      "building tree 1 of 3\n",
      " building tree 3 of 3\n",
      " building tree 2 of 3\n",
      "building tree 1 of 3\n",
      " building tree 2 of 3\n",
      " building tree 3 of 3\n",
      "building tree 1 of 3\n",
      " building tree 2 of 3\n",
      " building tree 3 of 3\n"
     ]
    },
    {
     "name": "stderr",
     "output_type": "stream",
     "text": [
      "[Parallel(n_jobs=-1)]: Done   4 out of   3 | elapsed:  1.2min remaining:  -18.3s\n",
      "[Parallel(n_jobs=-1)]: Done   4 out of   3 | elapsed:  1.2min remaining:  -18.4s\n",
      "[Parallel(n_jobs=-1)]: Done   3 out of   3 | elapsed:  1.2min finished\n",
      "[Parallel(n_jobs=-1)]: Done   4 out of   3 | elapsed:  1.2min remaining:  -17.7s\n",
      "[Parallel(n_jobs=-1)]: Done   4 out of   3 | elapsed:  1.3min remaining:  -19.4s\n",
      "[Parallel(n_jobs=-1)]: Done   4 out of   3 | elapsed:  1.3min remaining:  -19.4s\n",
      "[Parallel(n_jobs=-1)]: Done   3 out of   3 | elapsed:  1.3min finished\n",
      "[Parallel(n_jobs=3)]: Done   4 out of   3 | elapsed:    0.3s remaining:   -0.1s\n",
      "[Parallel(n_jobs=3)]: Done   4 out of   3 | elapsed:    0.3s remaining:   -0.1s\n",
      "[Parallel(n_jobs=3)]: Done   3 out of   3 | elapsed:    0.3s finished\n",
      "[Parallel(n_jobs=3)]: Done   4 out of   3 | elapsed:    0.1s remaining:   -0.0s\n",
      "[Parallel(n_jobs=3)]: Done   4 out of   3 | elapsed:    0.1s remaining:   -0.0s\n",
      "[Parallel(n_jobs=-1)]: Done   4 out of   3 | elapsed:  1.2min remaining:  -18.0s\n",
      "[Parallel(n_jobs=-1)]: Done   3 out of   3 | elapsed:  1.2min finished\n",
      "[Parallel(n_jobs=3)]: Done   3 out of   3 | elapsed:    0.2s finished\n",
      "[Parallel(n_jobs=3)]: Done   4 out of   3 | elapsed:    0.3s remaining:   -0.1s\n",
      "[Parallel(n_jobs=3)]: Done   4 out of   3 | elapsed:    0.3s remaining:   -0.1s\n",
      "[Parallel(n_jobs=3)]: Done   3 out of   3 | elapsed:    0.3s finished\n",
      "[Parallel(n_jobs=-1)]: Done   4 out of   3 | elapsed:  1.3min remaining:  -20.1s\n",
      "[Parallel(n_jobs=-1)]: Done   4 out of   3 | elapsed:  1.3min remaining:  -20.2s\n",
      "[Parallel(n_jobs=-1)]: Done   3 out of   3 | elapsed:  1.3min finished\n",
      "[Parallel(n_jobs=3)]: Done   4 out of   3 | elapsed:    0.2s remaining:   -0.0s\n",
      "[Parallel(n_jobs=3)]: Done   4 out of   3 | elapsed:    0.2s remaining:   -0.0s\n",
      "[Parallel(n_jobs=3)]: Done   3 out of   3 | elapsed:    0.2s finished\n"
     ]
    },
    {
     "name": "stdout",
     "output_type": "stream",
     "text": [
      " building tree 2 of 3\n",
      "building tree 1 of 3\n",
      " building tree 3 of 3\n"
     ]
    },
    {
     "name": "stderr",
     "output_type": "stream",
     "text": [
      "[Parallel(n_jobs=-1)]: Done   4 out of   3 | elapsed:   24.1s remaining:   -6.0s\n",
      "[Parallel(n_jobs=-1)]: Done   4 out of   3 | elapsed:   24.2s remaining:   -6.0s\n",
      "[Parallel(n_jobs=-1)]: Done   3 out of   3 | elapsed:   24.2s finished\n",
      "[Parallel(n_jobs=3)]: Done   4 out of   3 | elapsed:    0.1s remaining:   -0.0s\n",
      "[Parallel(n_jobs=3)]: Done   4 out of   3 | elapsed:    0.1s remaining:   -0.0s\n",
      "[Parallel(n_jobs=3)]: Done   3 out of   3 | elapsed:    0.1s finished\n"
     ]
    },
    {
     "name": "stdout",
     "output_type": "stream",
     "text": [
      "building tree 1 of 3building tree 2 of 3\n",
      "\n",
      "building tree 3 of 3\n"
     ]
    },
    {
     "name": "stderr",
     "output_type": "stream",
     "text": [
      "[Parallel(n_jobs=-1)]: Done   4 out of   3 | elapsed:   36.3s remaining:   -9.1s\n",
      "[Parallel(n_jobs=-1)]: Done   4 out of   3 | elapsed:   37.3s remaining:   -9.3s\n",
      "[Parallel(n_jobs=-1)]: Done   3 out of   3 | elapsed:   37.3s finished\n"
     ]
    },
    {
     "data": {
      "text/plain": [
       "RandomForestRegressor(bootstrap=True, criterion='mse', max_depth=None,\n",
       "           max_features='auto', max_leaf_nodes=None, min_samples_leaf=1,\n",
       "           min_samples_split=2, min_weight_fraction_leaf=0.0,\n",
       "           n_estimators=3, n_jobs=-1, oob_score=False, random_state=None,\n",
       "           verbose=10, warm_start=False)"
      ]
     },
     "execution_count": 39,
     "metadata": {},
     "output_type": "execute_result"
    }
   ],
   "source": [
    "rf2 = RandomForestRegressor(n_estimators=3, criterion='mse', n_jobs=-1, verbose=10)\n",
    "\n",
    "scores = cross_val_score(rf2, X_train2.fillna(-999), \n",
    "                         y_train,\n",
    "                scoring = 'mean_squared_error', cv = cv5fold, n_jobs=-1)\n",
    "rf2.fit(X_train2.fillna(-999), y_train)"
   ]
  },
  {
   "cell_type": "code",
   "execution_count": 40,
   "metadata": {
    "ExecuteTime": {
     "end_time": "2016-07-17T17:33:35.537888",
     "start_time": "2016-07-17T17:33:32.133552"
    },
    "collapsed": false
   },
   "outputs": [
    {
     "data": {
      "image/png": "[encoded data removed]",
      "text/plain": [
       "<matplotlib.figure.Figure at 0x138b4e310>"
      ]
     },
     "metadata": {},
     "output_type": "display_data"
    },
    {
     "name": "stdout",
     "output_type": "stream",
     "text": [
      "[-0.39228947 -0.29017993 -0.22747028 -0.22683749 -0.3233319 ] 0.271559533439\n"
     ]
    },
    {
     "name": "stderr",
     "output_type": "stream",
     "text": [
      "[Parallel(n_jobs=3)]: Done   4 out of   3 | elapsed:    0.5s remaining:   -0.1s\n",
      "[Parallel(n_jobs=3)]: Done   4 out of   3 | elapsed:    0.5s remaining:   -0.1s\n",
      "[Parallel(n_jobs=3)]: Done   3 out of   3 | elapsed:    0.5s finished\n"
     ]
    }
   ],
   "source": [
    "plot_feature_importances(rf2, X_train2.columns)\n",
    "r2 = rf2.score(X_train2.fillna(-999), \n",
    "        y_train)\n",
    "\n",
    "rmse = np.sqrt((1-r2)*y_train.var())\n",
    "print (scores, rmse)"
   ]
  },
  {
   "cell_type": "markdown",
   "metadata": {},
   "source": [
    "# Generating submission file"
   ]
  },
  {
   "cell_type": "code",
   "execution_count": 41,
   "metadata": {
    "ExecuteTime": {
     "end_time": "2016-07-17T17:33:35.628102",
     "start_time": "2016-07-17T17:33:35.540298"
    },
    "collapsed": false
   },
   "outputs": [
    {
     "data": {
      "text/html": [
       "<div>\n",
       "<table border=\"1\" class=\"dataframe\">\n",
       "  <thead>\n",
       "    <tr style=\"text-align: right;\">\n",
       "      <th></th>\n",
       "      <th></th>\n",
       "      <th>Agencia_ID</th>\n",
       "      <th>Canal_ID</th>\n",
       "      <th>Cliente_ID</th>\n",
       "      <th>Producto_ID</th>\n",
       "      <th>Ruta_SAK</th>\n",
       "      <th>Venta_uni_hoy_1</th>\n",
       "      <th>Venta_hoy_1</th>\n",
       "      <th>Dev_uni_proxima_1</th>\n",
       "      <th>Dev_proxima_1</th>\n",
       "      <th>Demanda_uni_equil_1</th>\n",
       "      <th>...</th>\n",
       "      <th>No_remains_5</th>\n",
       "      <th>Venta_hoy_by_uni_5</th>\n",
       "      <th>Ordered_5</th>\n",
       "      <th>Log_Demanda_5</th>\n",
       "      <th>Median_Producto_ID_5</th>\n",
       "      <th>LogMean_Producto_ID_5</th>\n",
       "      <th>Median_Producto_ID_Ruta_SAK_5</th>\n",
       "      <th>LogMean_Producto_ID_Ruta_SAK_5</th>\n",
       "      <th>Median_Producto_ID_Cliente_ID_Agencia_ID_5</th>\n",
       "      <th>LogMean_Producto_ID_Cliente_ID_Agencia_ID_5</th>\n",
       "    </tr>\n",
       "    <tr>\n",
       "      <th>Semana</th>\n",
       "      <th></th>\n",
       "      <th></th>\n",
       "      <th></th>\n",
       "      <th></th>\n",
       "      <th></th>\n",
       "      <th></th>\n",
       "      <th></th>\n",
       "      <th></th>\n",
       "      <th></th>\n",
       "      <th></th>\n",
       "      <th></th>\n",
       "      <th></th>\n",
       "      <th></th>\n",
       "      <th></th>\n",
       "      <th></th>\n",
       "      <th></th>\n",
       "      <th></th>\n",
       "      <th></th>\n",
       "      <th></th>\n",
       "      <th></th>\n",
       "      <th></th>\n",
       "      <th></th>\n",
       "    </tr>\n",
       "  </thead>\n",
       "  <tbody>\n",
       "    <tr>\n",
       "      <th>11</th>\n",
       "      <th>42</th>\n",
       "      <td>1378</td>\n",
       "      <td>1</td>\n",
       "      <td>594640</td>\n",
       "      <td>43285</td>\n",
       "      <td>2005</td>\n",
       "      <td>NaN</td>\n",
       "      <td>NaN</td>\n",
       "      <td>NaN</td>\n",
       "      <td>NaN</td>\n",
       "      <td>NaN</td>\n",
       "      <td>...</td>\n",
       "      <td>0.0</td>\n",
       "      <td>5.28</td>\n",
       "      <td>1.0</td>\n",
       "      <td>3.433987</td>\n",
       "      <td>10.0</td>\n",
       "      <td>2.482432</td>\n",
       "      <td>10.0</td>\n",
       "      <td>2.315569</td>\n",
       "      <td>30.0</td>\n",
       "      <td>3.383733</td>\n",
       "    </tr>\n",
       "    <tr>\n",
       "      <th rowspan=\"2\" valign=\"top\">10</th>\n",
       "      <th>59</th>\n",
       "      <td>1359</td>\n",
       "      <td>11</td>\n",
       "      <td>2068213</td>\n",
       "      <td>6469</td>\n",
       "      <td>3957</td>\n",
       "      <td>3.0</td>\n",
       "      <td>42.78</td>\n",
       "      <td>0.0</td>\n",
       "      <td>0.0</td>\n",
       "      <td>3.0</td>\n",
       "      <td>...</td>\n",
       "      <td>NaN</td>\n",
       "      <td>NaN</td>\n",
       "      <td>NaN</td>\n",
       "      <td>NaN</td>\n",
       "      <td>NaN</td>\n",
       "      <td>NaN</td>\n",
       "      <td>NaN</td>\n",
       "      <td>NaN</td>\n",
       "      <td>NaN</td>\n",
       "      <td>NaN</td>\n",
       "    </tr>\n",
       "    <tr>\n",
       "      <th>129</th>\n",
       "      <td>1378</td>\n",
       "      <td>1</td>\n",
       "      <td>905734</td>\n",
       "      <td>37577</td>\n",
       "      <td>2101</td>\n",
       "      <td>NaN</td>\n",
       "      <td>NaN</td>\n",
       "      <td>NaN</td>\n",
       "      <td>NaN</td>\n",
       "      <td>NaN</td>\n",
       "      <td>...</td>\n",
       "      <td>NaN</td>\n",
       "      <td>NaN</td>\n",
       "      <td>NaN</td>\n",
       "      <td>NaN</td>\n",
       "      <td>NaN</td>\n",
       "      <td>NaN</td>\n",
       "      <td>NaN</td>\n",
       "      <td>NaN</td>\n",
       "      <td>NaN</td>\n",
       "      <td>NaN</td>\n",
       "    </tr>\n",
       "    <tr>\n",
       "      <th rowspan=\"2\" valign=\"top\">11</th>\n",
       "      <th>183</th>\n",
       "      <td>1340</td>\n",
       "      <td>1</td>\n",
       "      <td>325592</td>\n",
       "      <td>43285</td>\n",
       "      <td>2065</td>\n",
       "      <td>NaN</td>\n",
       "      <td>NaN</td>\n",
       "      <td>NaN</td>\n",
       "      <td>NaN</td>\n",
       "      <td>NaN</td>\n",
       "      <td>...</td>\n",
       "      <td>0.0</td>\n",
       "      <td>5.28</td>\n",
       "      <td>1.0</td>\n",
       "      <td>2.772589</td>\n",
       "      <td>10.0</td>\n",
       "      <td>2.482432</td>\n",
       "      <td>12.0</td>\n",
       "      <td>2.563761</td>\n",
       "      <td>12.0</td>\n",
       "      <td>2.541049</td>\n",
       "    </tr>\n",
       "    <tr>\n",
       "      <th>203</th>\n",
       "      <td>1340</td>\n",
       "      <td>1</td>\n",
       "      <td>7729188</td>\n",
       "      <td>43274</td>\n",
       "      <td>2052</td>\n",
       "      <td>NaN</td>\n",
       "      <td>NaN</td>\n",
       "      <td>NaN</td>\n",
       "      <td>NaN</td>\n",
       "      <td>NaN</td>\n",
       "      <td>...</td>\n",
       "      <td>NaN</td>\n",
       "      <td>NaN</td>\n",
       "      <td>NaN</td>\n",
       "      <td>NaN</td>\n",
       "      <td>NaN</td>\n",
       "      <td>NaN</td>\n",
       "      <td>NaN</td>\n",
       "      <td>NaN</td>\n",
       "      <td>NaN</td>\n",
       "      <td>NaN</td>\n",
       "    </tr>\n",
       "  </tbody>\n",
       "</table>\n",
       "<p>5 rows × 85 columns</p>\n",
       "</div>"
      ],
      "text/plain": [
       "            Agencia_ID  Canal_ID  Cliente_ID  Producto_ID  Ruta_SAK  \\\n",
       "Semana                                                                \n",
       "11     42         1378         1      594640        43285      2005   \n",
       "10     59         1359        11     2068213         6469      3957   \n",
       "       129        1378         1      905734        37577      2101   \n",
       "11     183        1340         1      325592        43285      2065   \n",
       "       203        1340         1     7729188        43274      2052   \n",
       "\n",
       "            Venta_uni_hoy_1  Venta_hoy_1  Dev_uni_proxima_1  Dev_proxima_1  \\\n",
       "Semana                                                                       \n",
       "11     42               NaN          NaN                NaN            NaN   \n",
       "10     59               3.0        42.78                0.0            0.0   \n",
       "       129              NaN          NaN                NaN            NaN   \n",
       "11     183              NaN          NaN                NaN            NaN   \n",
       "       203              NaN          NaN                NaN            NaN   \n",
       "\n",
       "            Demanda_uni_equil_1                     ...                       \\\n",
       "Semana                                              ...                        \n",
       "11     42                   NaN                     ...                        \n",
       "10     59                   3.0                     ...                        \n",
       "       129                  NaN                     ...                        \n",
       "11     183                  NaN                     ...                        \n",
       "       203                  NaN                     ...                        \n",
       "\n",
       "            No_remains_5  Venta_hoy_by_uni_5  Ordered_5  Log_Demanda_5  \\\n",
       "Semana                                                                   \n",
       "11     42            0.0                5.28        1.0       3.433987   \n",
       "10     59            NaN                 NaN        NaN            NaN   \n",
       "       129           NaN                 NaN        NaN            NaN   \n",
       "11     183           0.0                5.28        1.0       2.772589   \n",
       "       203           NaN                 NaN        NaN            NaN   \n",
       "\n",
       "            Median_Producto_ID_5  LogMean_Producto_ID_5  \\\n",
       "Semana                                                    \n",
       "11     42                   10.0               2.482432   \n",
       "10     59                    NaN                    NaN   \n",
       "       129                   NaN                    NaN   \n",
       "11     183                  10.0               2.482432   \n",
       "       203                   NaN                    NaN   \n",
       "\n",
       "            Median_Producto_ID_Ruta_SAK_5  LogMean_Producto_ID_Ruta_SAK_5  \\\n",
       "Semana                                                                      \n",
       "11     42                            10.0                        2.315569   \n",
       "10     59                             NaN                             NaN   \n",
       "       129                            NaN                             NaN   \n",
       "11     183                           12.0                        2.563761   \n",
       "       203                            NaN                             NaN   \n",
       "\n",
       "            Median_Producto_ID_Cliente_ID_Agencia_ID_5  \\\n",
       "Semana                                                   \n",
       "11     42                                         30.0   \n",
       "10     59                                          NaN   \n",
       "       129                                         NaN   \n",
       "11     183                                        12.0   \n",
       "       203                                         NaN   \n",
       "\n",
       "            LogMean_Producto_ID_Cliente_ID_Agencia_ID_5  \n",
       "Semana                                                   \n",
       "11     42                                      3.383733  \n",
       "10     59                                           NaN  \n",
       "       129                                          NaN  \n",
       "11     183                                     2.541049  \n",
       "       203                                          NaN  \n",
       "\n",
       "[5 rows x 85 columns]"
      ]
     },
     "execution_count": 41,
     "metadata": {},
     "output_type": "execute_result"
    }
   ],
   "source": [
    "X_eval.head()"
   ]
  },
  {
   "cell_type": "code",
   "execution_count": 42,
   "metadata": {
    "ExecuteTime": {
     "end_time": "2016-07-17T17:33:36.378237",
     "start_time": "2016-07-17T17:33:35.630436"
    },
    "collapsed": false
   },
   "outputs": [
    {
     "name": "stderr",
     "output_type": "stream",
     "text": [
      "[Parallel(n_jobs=3)]: Done   4 out of   3 | elapsed:    0.2s remaining:   -0.0s\n",
      "[Parallel(n_jobs=3)]: Done   4 out of   3 | elapsed:    0.2s remaining:   -0.0s\n",
      "[Parallel(n_jobs=3)]: Done   3 out of   3 | elapsed:    0.2s finished\n",
      "[Parallel(n_jobs=3)]: Done   4 out of   3 | elapsed:    0.0s remaining:   -0.0s\n",
      "[Parallel(n_jobs=3)]: Done   4 out of   3 | elapsed:    0.1s remaining:   -0.0s\n",
      "[Parallel(n_jobs=3)]: Done   3 out of   3 | elapsed:    0.1s finished\n"
     ]
    },
    {
     "data": {
      "text/html": [
       "<div>\n",
       "<table border=\"1\" class=\"dataframe\">\n",
       "  <thead>\n",
       "    <tr style=\"text-align: right;\">\n",
       "      <th></th>\n",
       "      <th>Log_Demanda</th>\n",
       "    </tr>\n",
       "  </thead>\n",
       "  <tbody>\n",
       "    <tr>\n",
       "      <th>count</th>\n",
       "      <td>78819.000000</td>\n",
       "    </tr>\n",
       "    <tr>\n",
       "      <th>mean</th>\n",
       "      <td>1.622351</td>\n",
       "    </tr>\n",
       "    <tr>\n",
       "      <th>std</th>\n",
       "      <td>0.788216</td>\n",
       "    </tr>\n",
       "    <tr>\n",
       "      <th>min</th>\n",
       "      <td>0.000000</td>\n",
       "    </tr>\n",
       "    <tr>\n",
       "      <th>25%</th>\n",
       "      <td>1.098612</td>\n",
       "    </tr>\n",
       "    <tr>\n",
       "      <th>50%</th>\n",
       "      <td>1.460676</td>\n",
       "    </tr>\n",
       "    <tr>\n",
       "      <th>75%</th>\n",
       "      <td>2.029682</td>\n",
       "    </tr>\n",
       "    <tr>\n",
       "      <th>max</th>\n",
       "      <td>6.775471</td>\n",
       "    </tr>\n",
       "  </tbody>\n",
       "</table>\n",
       "</div>"
      ],
      "text/plain": [
       "        Log_Demanda\n",
       "count  78819.000000\n",
       "mean       1.622351\n",
       "std        0.788216\n",
       "min        0.000000\n",
       "25%        1.098612\n",
       "50%        1.460676\n",
       "75%        2.029682\n",
       "max        6.775471"
      ]
     },
     "execution_count": 42,
     "metadata": {},
     "output_type": "execute_result"
    }
   ],
   "source": [
    "y_eval10 = pd.Series(rf.predict(X_eval.loc[10, :].fillna(-999)), index=X_eval.loc[10, :].index)\n",
    "y_eval11 = pd.Series(rf2.predict(X_eval2.loc[11, :].fillna(-999)), index=X_eval2.loc[11, :].index)\n",
    "y_eval = pd.concat([y_eval10, y_eval11], axis=0).to_frame('Log_Demanda')\n",
    "y_eval.describe()"
   ]
  },
  {
   "cell_type": "code",
   "execution_count": 43,
   "metadata": {
    "ExecuteTime": {
     "end_time": "2016-07-17T17:33:36.865210",
     "start_time": "2016-07-17T17:33:36.381874"
    },
    "collapsed": false
   },
   "outputs": [
    {
     "data": {
      "text/plain": [
       "<matplotlib.axes._subplots.AxesSubplot at 0x138b4e410>"
      ]
     },
     "execution_count": 43,
     "metadata": {},
     "output_type": "execute_result"
    },
    {
     "data": {
      "image/png": "[encoded data removed]",
      "text/plain": [
       "<matplotlib.figure.Figure at 0x138ca1710>"
      ]
     },
     "metadata": {},
     "output_type": "display_data"
    }
   ],
   "source": [
    "y_eval.Log_Demanda.hist()"
   ]
  },
  {
   "cell_type": "code",
   "execution_count": 80,
   "metadata": {
    "ExecuteTime": {
     "end_time": "2016-07-17T16:38:42.906924",
     "start_time": "2016-07-17T16:38:42.903247"
    },
    "collapsed": false
   },
   "outputs": [],
   "source": [
    "os.makedirs('Predictions')\n",
    "os.makedirs('Predictions/release_v01')"
   ]
  },
  {
   "cell_type": "code",
   "execution_count": 81,
   "metadata": {
    "ExecuteTime": {
     "end_time": "2016-07-17T16:38:43.728578",
     "start_time": "2016-07-17T16:38:43.396589"
    },
    "collapsed": false
   },
   "outputs": [],
   "source": [
    "y_eval.to_csv('Predictions/release_v01/Prediction_%s_v01.csv' % 'NAYARIT')"
   ]
  }
 ],
 "metadata": {
  "anaconda-cloud": {},
  "kernelspec": {
   "display_name": "Python [Root]",
   "language": "python",
   "name": "Python [Root]"
  },
  "language_info": {
   "codemirror_mode": {
    "name": "ipython",
    "version": 2
   },
   "file_extension": ".py",
   "mimetype": "text/x-python",
   "name": "python",
   "nbconvert_exporter": "python",
   "pygments_lexer": "ipython2",
   "version": "2.7.12"
  }
 },
 "nbformat": 4,
 "nbformat_minor": 0
}
