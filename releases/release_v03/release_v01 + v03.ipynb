{
 "cells": [
  {
   "cell_type": "code",
   "execution_count": 2,
   "metadata": {
    "ExecuteTime": {
     "end_time": "2016-07-23T17:13:36.867283",
     "start_time": "2016-07-23T17:13:36.841402"
    },
    "collapsed": false
   },
   "outputs": [
    {
     "name": "stdout",
     "output_type": "stream",
     "text": [
      "Populating the interactive namespace from numpy and matplotlib\n"
     ]
    },
    {
     "name": "stderr",
     "output_type": "stream",
     "text": [
      "WARNING: pylab import has clobbered these variables: ['pad']\n",
      "`%matplotlib` prevents importing * from pylab and numpy\n"
     ]
    }
   ],
   "source": [
    "import seaborn as sns\n",
    "import numpy as np\n",
    "import scipy\n",
    "import pandas as pd\n",
    "import matplotlib.pyplot as plt\n",
    "from IPython.display import display\n",
    "%pylab inline\n",
    "import os\n",
    "from __future__ import print_function\n",
    "from __future__ import division\n",
    "import os, sys\n",
    "# hook up all scripts\n",
    "sys.path.append(os.path.abspath('../scripts')) # if notebook in folder\n",
    "sys.path.append(os.path.abspath('./scripts')) #if in root\n",
    "sys.path.append(os.path.abspath('.')) #for current preprocessing\n",
    "# %load_ext autoreload\n",
    "# %autoreload 2 # changes in script will be immediately applied\n",
    "\n",
    "import preprocessing_all_data_v03_1 as pad\n",
    "\n",
    "\n",
    "os.chdir(pad.working_dir())"
   ]
  },
  {
   "cell_type": "code",
   "execution_count": 11,
   "metadata": {
    "collapsed": false
   },
   "outputs": [
    {
     "data": {
      "text/html": [
       "<div>\n",
       "<table border=\"1\" class=\"dataframe\">\n",
       "  <thead>\n",
       "    <tr style=\"text-align: right;\">\n",
       "      <th></th>\n",
       "      <th>Semana</th>\n",
       "      <th>Agencia_ID</th>\n",
       "      <th>Canal_ID</th>\n",
       "      <th>Ruta_SAK</th>\n",
       "      <th>Cliente_ID</th>\n",
       "      <th>Producto_ID</th>\n",
       "      <th>Log_Demanda</th>\n",
       "      <th>Demanda_uni_equil</th>\n",
       "    </tr>\n",
       "    <tr>\n",
       "      <th>id</th>\n",
       "      <th></th>\n",
       "      <th></th>\n",
       "      <th></th>\n",
       "      <th></th>\n",
       "      <th></th>\n",
       "      <th></th>\n",
       "      <th></th>\n",
       "      <th></th>\n",
       "    </tr>\n",
       "  </thead>\n",
       "  <tbody>\n",
       "    <tr>\n",
       "      <th>12</th>\n",
       "      <td>11</td>\n",
       "      <td>1239</td>\n",
       "      <td>1</td>\n",
       "      <td>1125</td>\n",
       "      <td>290608</td>\n",
       "      <td>4270</td>\n",
       "      <td>1.101165</td>\n",
       "      <td>2.007669</td>\n",
       "    </tr>\n",
       "    <tr>\n",
       "      <th>45</th>\n",
       "      <td>11</td>\n",
       "      <td>2018</td>\n",
       "      <td>1</td>\n",
       "      <td>1224</td>\n",
       "      <td>4257075</td>\n",
       "      <td>1238</td>\n",
       "      <td>0.733335</td>\n",
       "      <td>1.082012</td>\n",
       "    </tr>\n",
       "    <tr>\n",
       "      <th>68</th>\n",
       "      <td>11</td>\n",
       "      <td>2018</td>\n",
       "      <td>1</td>\n",
       "      <td>2858</td>\n",
       "      <td>4449604</td>\n",
       "      <td>43316</td>\n",
       "      <td>1.079232</td>\n",
       "      <td>1.942420</td>\n",
       "    </tr>\n",
       "    <tr>\n",
       "      <th>76</th>\n",
       "      <td>11</td>\n",
       "      <td>1239</td>\n",
       "      <td>1</td>\n",
       "      <td>1229</td>\n",
       "      <td>221935</td>\n",
       "      <td>31423</td>\n",
       "      <td>0.972214</td>\n",
       "      <td>1.643792</td>\n",
       "    </tr>\n",
       "    <tr>\n",
       "      <th>84</th>\n",
       "      <td>10</td>\n",
       "      <td>1245</td>\n",
       "      <td>1</td>\n",
       "      <td>1011</td>\n",
       "      <td>268238</td>\n",
       "      <td>1129</td>\n",
       "      <td>0.822677</td>\n",
       "      <td>1.276587</td>\n",
       "    </tr>\n",
       "  </tbody>\n",
       "</table>\n",
       "</div>"
      ],
      "text/plain": [
       "    Semana  Agencia_ID  Canal_ID  Ruta_SAK  Cliente_ID  Producto_ID  \\\n",
       "id                                                                    \n",
       "12      11        1239         1      1125      290608         4270   \n",
       "45      11        2018         1      1224     4257075         1238   \n",
       "68      11        2018         1      2858     4449604        43316   \n",
       "76      11        1239         1      1229      221935        31423   \n",
       "84      10        1245         1      1011      268238         1129   \n",
       "\n",
       "    Log_Demanda  Demanda_uni_equil  \n",
       "id                                  \n",
       "12     1.101165           2.007669  \n",
       "45     0.733335           1.082012  \n",
       "68     1.079232           1.942420  \n",
       "76     0.972214           1.643792  \n",
       "84     0.822677           1.276587  "
      ]
     },
     "execution_count": 11,
     "metadata": {},
     "output_type": "execute_result"
    }
   ],
   "source": [
    "indexers = ['Semana', 'Agencia_ID', 'Canal_ID',\n",
    "            'Ruta_SAK', 'Cliente_ID', 'Producto_ID']\n",
    "town = pad.text_encoding(pad.town_preproc())\n",
    "data_test = pd.read_csv(pad.working_dir() + 'test.csv', index_col=0)\n",
    "states = list(town.State.unique()[5:9])\n",
    "\n",
    "state_files = ['Predictions/release_v03/Prediction_%s_v03.csv' % state for state in states]\n",
    "test_states = pd.concat([pd.read_csv(f) for f in state_files])\n",
    "test_data = pd.merge(data_test, test_states.set_index(indexers), 'inner',\n",
    "                     left_on=indexers, right_index=True)\n",
    "\n",
    "test_data['Demanda_uni_equil'] = test_data.Log_Demanda.apply(np.expm1)\n",
    "test_data.index.name = 'id'\n",
    "test_data.head()"
   ]
  },
  {
   "cell_type": "code",
   "execution_count": 12,
   "metadata": {
    "collapsed": false
   },
   "outputs": [
    {
     "data": {
      "text/html": [
       "<div>\n",
       "<table border=\"1\" class=\"dataframe\">\n",
       "  <thead>\n",
       "    <tr style=\"text-align: right;\">\n",
       "      <th></th>\n",
       "      <th>Demanda_uni_equil</th>\n",
       "    </tr>\n",
       "    <tr>\n",
       "      <th>id</th>\n",
       "      <th></th>\n",
       "    </tr>\n",
       "  </thead>\n",
       "  <tbody>\n",
       "    <tr>\n",
       "      <th>0</th>\n",
       "      <td>4.000000</td>\n",
       "    </tr>\n",
       "    <tr>\n",
       "      <th>1</th>\n",
       "      <td>2.000000</td>\n",
       "    </tr>\n",
       "    <tr>\n",
       "      <th>2</th>\n",
       "      <td>2.000000</td>\n",
       "    </tr>\n",
       "    <tr>\n",
       "      <th>3</th>\n",
       "      <td>1.000000</td>\n",
       "    </tr>\n",
       "    <tr>\n",
       "      <th>4</th>\n",
       "      <td>7.987637</td>\n",
       "    </tr>\n",
       "  </tbody>\n",
       "</table>\n",
       "</div>"
      ],
      "text/plain": [
       "    Demanda_uni_equil\n",
       "id                   \n",
       "0            4.000000\n",
       "1            2.000000\n",
       "2            2.000000\n",
       "3            1.000000\n",
       "4            7.987637"
      ]
     },
     "execution_count": 12,
     "metadata": {},
     "output_type": "execute_result"
    }
   ],
   "source": [
    "pred01 = pd.read_csv('Predictions/release_v01/Prediction_v01.csv',index_col=0)\n",
    "pred01.head()"
   ]
  },
  {
   "cell_type": "code",
   "execution_count": 13,
   "metadata": {
    "collapsed": false
   },
   "outputs": [
    {
     "data": {
      "text/plain": [
       "<matplotlib.collections.PathCollection at 0x116ebc610>"
      ]
     },
     "execution_count": 13,
     "metadata": {},
     "output_type": "execute_result"
    },
    {
     "data": {
      "image/png": "[encoded data removed]",
      "text/plain": [
       "<matplotlib.figure.Figure at 0x117ca6510>"
      ]
     },
     "metadata": {},
     "output_type": "display_data"
    }
   ],
   "source": [
    "scatter(pred01.Demanda_uni_equil.loc[test_data.index], test_data.Demanda_uni_equil)"
   ]
  },
  {
   "cell_type": "code",
   "execution_count": 14,
   "metadata": {
    "collapsed": false
   },
   "outputs": [
    {
     "data": {
      "text/html": [
       "<div>\n",
       "<table border=\"1\" class=\"dataframe\">\n",
       "  <thead>\n",
       "    <tr style=\"text-align: right;\">\n",
       "      <th></th>\n",
       "      <th>Demanda_uni_equil</th>\n",
       "    </tr>\n",
       "  </thead>\n",
       "  <tbody>\n",
       "    <tr>\n",
       "      <th>count</th>\n",
       "      <td>6.999251e+06</td>\n",
       "    </tr>\n",
       "    <tr>\n",
       "      <th>mean</th>\n",
       "      <td>7.041021e+00</td>\n",
       "    </tr>\n",
       "    <tr>\n",
       "      <th>std</th>\n",
       "      <td>1.955065e+01</td>\n",
       "    </tr>\n",
       "    <tr>\n",
       "      <th>min</th>\n",
       "      <td>-5.580919e-01</td>\n",
       "    </tr>\n",
       "    <tr>\n",
       "      <th>25%</th>\n",
       "      <td>2.000000e+00</td>\n",
       "    </tr>\n",
       "    <tr>\n",
       "      <th>50%</th>\n",
       "      <td>3.438995e+00</td>\n",
       "    </tr>\n",
       "    <tr>\n",
       "      <th>75%</th>\n",
       "      <td>6.651725e+00</td>\n",
       "    </tr>\n",
       "    <tr>\n",
       "      <th>max</th>\n",
       "      <td>3.860781e+03</td>\n",
       "    </tr>\n",
       "  </tbody>\n",
       "</table>\n",
       "</div>"
      ],
      "text/plain": [
       "       Demanda_uni_equil\n",
       "count       6.999251e+06\n",
       "mean        7.041021e+00\n",
       "std         1.955065e+01\n",
       "min        -5.580919e-01\n",
       "25%         2.000000e+00\n",
       "50%         3.438995e+00\n",
       "75%         6.651725e+00\n",
       "max         3.860781e+03"
      ]
     },
     "execution_count": 14,
     "metadata": {},
     "output_type": "execute_result"
    }
   ],
   "source": [
    "pred03 = pred01.copy()\n",
    "pred03.loc[test_data.index, 'Demanda_uni_equil'] = test_data.Demanda_uni_equil\n",
    "pred03.describe()"
   ]
  },
  {
   "cell_type": "code",
   "execution_count": 15,
   "metadata": {
    "collapsed": true
   },
   "outputs": [],
   "source": [
    "pred03.loc[pred03['Demanda_uni_equil'] < 0, 'Demanda_uni_equil'] = 0"
   ]
  },
  {
   "cell_type": "code",
   "execution_count": 17,
   "metadata": {
    "collapsed": true
   },
   "outputs": [],
   "source": [
    "pred03.to_csv('Predictions/release_v03/Prediction_v01_with_altered_states.csv', float_format='%.5f')"
   ]
  },
  {
   "cell_type": "code",
   "execution_count": 19,
   "metadata": {
    "collapsed": false
   },
   "outputs": [
    {
     "data": {
      "text/plain": [
       "0.05661908267270668"
      ]
     },
     "execution_count": 19,
     "metadata": {},
     "output_type": "execute_result"
    }
   ],
   "source": [
    "0.00390 / (test_data.shape[0] / pred03.shape[0])"
   ]
  },
  {
   "cell_type": "code",
   "execution_count": null,
   "metadata": {
    "collapsed": true
   },
   "outputs": [],
   "source": []
  }
 ],
 "metadata": {
  "anaconda-cloud": {},
  "kernelspec": {
   "display_name": "Python [Root]",
   "language": "python",
   "name": "Python [Root]"
  },
  "language_info": {
   "codemirror_mode": {
    "name": "ipython",
    "version": 2
   },
   "file_extension": ".py",
   "mimetype": "text/x-python",
   "name": "python",
   "nbconvert_exporter": "python",
   "pygments_lexer": "ipython2",
   "version": "2.7.12"
  }
 },
 "nbformat": 4,
 "nbformat_minor": 0
}
