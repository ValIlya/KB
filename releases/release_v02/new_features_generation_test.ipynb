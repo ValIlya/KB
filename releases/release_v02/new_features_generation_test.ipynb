{
 "cells": [
  {
   "cell_type": "code",
   "execution_count": 1,
   "metadata": {},
   "outputs": [
    {
     "name": "stdout",
     "output_type": "stream",
     "text": [
      "Populating the interactive namespace from numpy and matplotlib\n"
     ]
    }
   ],
   "source": [
    "import seaborn as sns\n",
    "import numpy as np\n",
    "import scipy\n",
    "import pandas as pd\n",
    "import matplotlib.pyplot as plt\n",
    "from IPython.display import display\n",
    "%pylab inline\n",
    "import os\n",
    "from __future__ import print_function\n",
    "from __future__ import division\n",
    "import os, sys\n",
    "# hook up all scripts\n",
    "sys.path.append(os.path.abspath('../../scripts')) # if notebook in folder\n",
    "\n",
    "import preprocessing_time_series as pts\n",
    "\n",
    "os.chdir(pts.working_dir() + 'Feature_releases/release_v02/')"
   ]
  },
  {
   "cell_type": "code",
   "execution_count": 2,
   "metadata": {},
   "outputs": [
    {
     "name": "stderr",
     "output_type": "stream",
     "text": [
      "//anaconda/lib/python2.7/site-packages/IPython/core/interactiveshell.py:2723: DtypeWarning: Columns (33,34) have mixed types. Specify dtype option on import or set low_memory=False.\n",
      "  interactivity=interactivity, compiler=compiler, result=result)\n"
     ]
    },
    {
     "data": {
      "text/html": [
       "<div>\n",
       "<table border=\"1\" class=\"dataframe\">\n",
       "  <thead>\n",
       "    <tr style=\"text-align: right;\">\n",
       "      <th></th>\n",
       "      <th>Agencia_ID</th>\n",
       "      <th>Canal_ID</th>\n",
       "      <th>Cliente_ID</th>\n",
       "      <th>Demanda_uni_equil</th>\n",
       "      <th>Dev_proxima</th>\n",
       "      <th>Dev_proxima_by_uni</th>\n",
       "      <th>Dev_uni_proxima</th>\n",
       "      <th>Log_Demanda</th>\n",
       "      <th>Log_Demanda_Mean_Producto_ID_Cliente_ID_Agencia_ID</th>\n",
       "      <th>Log_Demanda_Mean_Producto_ID_Cliente_ID_Ruta_SAK</th>\n",
       "      <th>...</th>\n",
       "      <th>No_remains_Mean_Producto_ID_Ruta_SAK_4last</th>\n",
       "      <th>No_remains_Mean_brand_Cliente_ID_Agencia_ID_4last</th>\n",
       "      <th>Ordered_4last</th>\n",
       "      <th>Ordered_Mean_Producto_ID_Cliente_ID_Agencia_ID_4last</th>\n",
       "      <th>Ordered_Mean_Producto_ID_Cliente_ID_Ruta_SAK_4last</th>\n",
       "      <th>Ordered_Mean_Producto_ID_Ruta_SAK_4last</th>\n",
       "      <th>Ordered_Mean_brand_Cliente_ID_Agencia_ID_4last</th>\n",
       "      <th>Venta_hoy_4last</th>\n",
       "      <th>Venta_hoy_by_uni_4last</th>\n",
       "      <th>Venta_uni_hoy_4last</th>\n",
       "    </tr>\n",
       "  </thead>\n",
       "  <tbody>\n",
       "    <tr>\n",
       "      <th>0</th>\n",
       "      <td>1210</td>\n",
       "      <td>5</td>\n",
       "      <td>653039</td>\n",
       "      <td>395.0</td>\n",
       "      <td>0.00</td>\n",
       "      <td>NaN</td>\n",
       "      <td>0.0</td>\n",
       "      <td>5.981414</td>\n",
       "      <td>5.712620</td>\n",
       "      <td>6.255725</td>\n",
       "      <td>...</td>\n",
       "      <td>NaN</td>\n",
       "      <td>NaN</td>\n",
       "      <td>NaN</td>\n",
       "      <td>NaN</td>\n",
       "      <td>NaN</td>\n",
       "      <td>NaN</td>\n",
       "      <td>NaN</td>\n",
       "      <td>NaN</td>\n",
       "      <td>NaN</td>\n",
       "      <td>NaN</td>\n",
       "    </tr>\n",
       "    <tr>\n",
       "      <th>1</th>\n",
       "      <td>1210</td>\n",
       "      <td>5</td>\n",
       "      <td>653039</td>\n",
       "      <td>575.0</td>\n",
       "      <td>64.82</td>\n",
       "      <td>9.26</td>\n",
       "      <td>7.0</td>\n",
       "      <td>6.356108</td>\n",
       "      <td>6.137538</td>\n",
       "      <td>6.605798</td>\n",
       "      <td>...</td>\n",
       "      <td>NaN</td>\n",
       "      <td>NaN</td>\n",
       "      <td>NaN</td>\n",
       "      <td>NaN</td>\n",
       "      <td>NaN</td>\n",
       "      <td>NaN</td>\n",
       "      <td>NaN</td>\n",
       "      <td>NaN</td>\n",
       "      <td>NaN</td>\n",
       "      <td>NaN</td>\n",
       "    </tr>\n",
       "    <tr>\n",
       "      <th>2</th>\n",
       "      <td>1210</td>\n",
       "      <td>5</td>\n",
       "      <td>653039</td>\n",
       "      <td>223.0</td>\n",
       "      <td>0.00</td>\n",
       "      <td>NaN</td>\n",
       "      <td>0.0</td>\n",
       "      <td>5.411646</td>\n",
       "      <td>3.830277</td>\n",
       "      <td>5.193466</td>\n",
       "      <td>...</td>\n",
       "      <td>NaN</td>\n",
       "      <td>NaN</td>\n",
       "      <td>NaN</td>\n",
       "      <td>NaN</td>\n",
       "      <td>NaN</td>\n",
       "      <td>NaN</td>\n",
       "      <td>NaN</td>\n",
       "      <td>NaN</td>\n",
       "      <td>NaN</td>\n",
       "      <td>NaN</td>\n",
       "    </tr>\n",
       "    <tr>\n",
       "      <th>3</th>\n",
       "      <td>1210</td>\n",
       "      <td>5</td>\n",
       "      <td>653039</td>\n",
       "      <td>40.0</td>\n",
       "      <td>0.00</td>\n",
       "      <td>NaN</td>\n",
       "      <td>0.0</td>\n",
       "      <td>3.713572</td>\n",
       "      <td>4.586806</td>\n",
       "      <td>4.949039</td>\n",
       "      <td>...</td>\n",
       "      <td>NaN</td>\n",
       "      <td>NaN</td>\n",
       "      <td>NaN</td>\n",
       "      <td>NaN</td>\n",
       "      <td>NaN</td>\n",
       "      <td>NaN</td>\n",
       "      <td>NaN</td>\n",
       "      <td>NaN</td>\n",
       "      <td>NaN</td>\n",
       "      <td>NaN</td>\n",
       "    </tr>\n",
       "    <tr>\n",
       "      <th>4</th>\n",
       "      <td>1210</td>\n",
       "      <td>5</td>\n",
       "      <td>653039</td>\n",
       "      <td>182.0</td>\n",
       "      <td>0.00</td>\n",
       "      <td>NaN</td>\n",
       "      <td>0.0</td>\n",
       "      <td>5.209486</td>\n",
       "      <td>5.206432</td>\n",
       "      <td>5.203316</td>\n",
       "      <td>...</td>\n",
       "      <td>NaN</td>\n",
       "      <td>NaN</td>\n",
       "      <td>NaN</td>\n",
       "      <td>NaN</td>\n",
       "      <td>NaN</td>\n",
       "      <td>NaN</td>\n",
       "      <td>NaN</td>\n",
       "      <td>NaN</td>\n",
       "      <td>NaN</td>\n",
       "      <td>NaN</td>\n",
       "    </tr>\n",
       "  </tbody>\n",
       "</table>\n",
       "<p>5 rows × 237 columns</p>\n",
       "</div>"
      ]
     },
     "output_type": "execute_result",
     "metadata": {}
    }
   ],
   "source": [
    "df = pd.read_csv('train_Queretaro de Arteaga.csv')\n",
    "df.head()"
   ]
  },
  {
   "cell_type": "code",
   "execution_count": 3,
   "metadata": {},
   "outputs": [
    {
     "data": {
      "text/plain": [
       "<matplotlib.axes._subplots.AxesSubplot at 0x116b80850>"
      ]
     },
     "execution_count": 3,
     "output_type": "execute_result",
     "metadata": {}
    },
    {
     "data": {
      "image/png": "[encoded data removed]"
     },
     "output_type": "display_data",
     "metadata": {}
    }
   ],
   "source": [
    "df.Semana.hist(bins=9)"
   ]
  },
  {
   "cell_type": "markdown",
   "metadata": {},
   "source": [
    "Как-то раньше не обращал внимания на то, что в 10-11 неделях настолько меньше наблюдений"
   ]
  },
  {
   "cell_type": "code",
   "execution_count": 7,
   "metadata": {},
   "outputs": [
    {
     "data": {
      "text/html": [
       "<div>\n",
       "<table border=\"1\" class=\"dataframe\">\n",
       "  <thead>\n",
       "    <tr style=\"text-align: right;\">\n",
       "      <th>Demanda_uni_equil_4last</th>\n",
       "      <th>False</th>\n",
       "      <th>True</th>\n",
       "    </tr>\n",
       "    <tr>\n",
       "      <th>Demanda_uni_equil_1</th>\n",
       "      <th></th>\n",
       "      <th></th>\n",
       "    </tr>\n",
       "  </thead>\n",
       "  <tbody>\n",
       "    <tr>\n",
       "      <th>False</th>\n",
       "      <td>305828</td>\n",
       "      <td>0</td>\n",
       "    </tr>\n",
       "    <tr>\n",
       "      <th>True</th>\n",
       "      <td>48616</td>\n",
       "      <td>175388</td>\n",
       "    </tr>\n",
       "  </tbody>\n",
       "</table>\n",
       "</div>"
      ]
     },
     "output_type": "execute_result",
     "metadata": {}
    },
    {
     "data": {
      "image/png": "[encoded data removed]"
     },
     "output_type": "display_data",
     "metadata": {}
    }
   ],
   "source": [
    "plt.scatter(df.Demanda_uni_equil_1, df.Demanda_uni_equil_4last)\n",
    "pd.crosstab(df.Demanda_uni_equil_1.isnull(), df.Demanda_uni_equil_4last.isnull())"
   ]
  },
  {
   "cell_type": "markdown",
   "metadata": {},
   "source": [
    "то есть примерно то же самое, но меньше пропущенных значений (на 48 тыс записей всего :confused:)"
   ]
  },
  {
   "cell_type": "code",
   "execution_count": 5,
   "metadata": {},
   "outputs": [
    {
     "data": {
      "text/plain": [
       "Dev_proxima_by_uni_4                                            3078\n",
       "Dev_proxima_by_uni_3                                            3935\n",
       "Dev_proxima_by_uni_1                                            4913\n",
       "Dev_proxima_by_uni_2                                            4995\n",
       "Dev_proxima_by_uni_2last                                        8793\n",
       "Dev_proxima_by_uni_3last                                       11431\n",
       "Dev_proxima_by_uni_4last                                       13327\n",
       "Dev_proxima_by_uni                                             15359\n",
       "Venta_hoy_by_uni_4                                            128492\n",
       "Venta_uni_hoy_4                                               128588\n",
       "Dev_proxima_4                                                 128588\n",
       "Log_Demanda_4                                                 128588\n",
       "Log_Demanda_Mean_Producto_ID_Cliente_ID_Agencia_ID_4          128588\n",
       "Log_Demanda_Mean_Producto_ID_Cliente_ID_Ruta_SAK_4            128588\n",
       "Log_Demanda_Mean_Producto_ID_Ruta_SAK_4                       128588\n",
       "Log_Demanda_Mean_brand_Cliente_ID_Agencia_ID_4                128588\n",
       "Log_Dev_proxima_4                                             128588\n",
       "Log_Venta_hoy_4                                               128588\n",
       "Log_Venta_uni_hoy_4                                           128588\n",
       "Log_Venta_uni_hoy_Mean_Producto_ID_Cliente_ID_Agencia_ID_4    128588\n",
       "Demanda_uni_equil_4                                           128588\n",
       "Log_Venta_uni_hoy_Mean_Producto_ID_Ruta_SAK_4                 128588\n",
       "Ordered_Mean_brand_Cliente_ID_Agencia_ID_4                    128588\n",
       "Ordered_Mean_Producto_ID_Ruta_SAK_4                           128588\n",
       "Ordered_Mean_Producto_ID_Cliente_ID_Ruta_SAK_4                128588\n",
       "Venta_hoy_4                                                   128588\n",
       "Ordered_4                                                     128588\n",
       "Ordered_Mean_Producto_ID_Cliente_ID_Agencia_ID_4              128588\n",
       "No_remains_Mean_Producto_ID_Ruta_SAK_4                        128588\n",
       "No_remains_Mean_Producto_ID_Cliente_ID_Ruta_SAK_4             128588\n",
       "                                                               ...  \n",
       "brand                                                         484178\n",
       "Log_Demanda_Mean_Producto_ID_Cliente_ID_Ruta_SAK              484178\n",
       "Log_Demanda_Mean_Producto_ID_Cliente_ID_Agencia_ID            484178\n",
       "Log_Demanda                                                   484178\n",
       "Dev_uni_proxima                                               484178\n",
       "Dev_proxima                                                   484178\n",
       "Demanda_uni_equil                                             484178\n",
       "Log_Venta_uni_hoy_Mean_Producto_ID_Ruta_SAK                   484178\n",
       "Log_Demanda_Mean_Producto_ID_Ruta_SAK                         484178\n",
       "Log_Venta_uni_hoy_Mean_brand_Cliente_ID_Agencia_ID            484178\n",
       "No_remains_Mean_Producto_ID_Cliente_ID_Agencia_ID             484178\n",
       "No_remains_Mean_Producto_ID_Cliente_ID_Ruta_SAK               484178\n",
       "No_remains_Mean_Producto_ID_Ruta_SAK                          484178\n",
       "No_remains_Mean_brand_Cliente_ID_Agencia_ID                   484178\n",
       "Ordered                                                       484178\n",
       "Ordered_Mean_Producto_ID_Cliente_ID_Agencia_ID                484178\n",
       "Ordered_Mean_Producto_ID_Cliente_ID_Ruta_SAK                  484178\n",
       "Ordered_Mean_Producto_ID_Ruta_SAK                             484178\n",
       "Ordered_Mean_brand_Cliente_ID_Agencia_ID                      484178\n",
       "No_remains                                                    484178\n",
       "State                                                         484178\n",
       "Town                                                          484178\n",
       "Venta_hoy                                                     484178\n",
       "Venta_uni_hoy                                                 484178\n",
       "Canal_ID                                                      529832\n",
       "Cliente_ID                                                    529832\n",
       "Producto_ID                                                   529832\n",
       "Ruta_SAK                                                      529832\n",
       "Semana                                                        529832\n",
       "Agencia_ID                                                    529832\n",
       "dtype: int64"
      ]
     },
     "execution_count": 5,
     "output_type": "execute_result",
     "metadata": {}
    }
   ],
   "source": [
    "(~df.isnull()).sum().sort_values()"
   ]
  },
  {
   "cell_type": "code",
   "execution_count": null,
   "metadata": {},
   "outputs": [],
   "source": [
    ""
   ]
  }
 ],
 "metadata": {
  "anaconda-cloud": {},
  "kernelspec": {
   "display_name": "Python [Root]",
   "language": "python",
   "name": "Python [Root]"
  },
  "language_info": {
   "codemirror_mode": {
    "name": "ipython",
    "version": 2.0
   },
   "file_extension": ".py",
   "mimetype": "text/x-python",
   "name": "python",
   "nbconvert_exporter": "python",
   "pygments_lexer": "ipython2",
   "version": "2.7.12"
  }
 },
 "nbformat": 4,
 "nbformat_minor": 0
}