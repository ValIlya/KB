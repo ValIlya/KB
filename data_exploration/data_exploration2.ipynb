{
 "cells": [
  {
   "cell_type": "code",
   "execution_count": 1,
   "metadata": {
    "ExecuteTime": {
     "end_time": "2016-07-16T16:42:36.659247",
     "start_time": "2016-07-16T16:42:34.640832"
    },
    "collapsed": false
   },
   "outputs": [
    {
     "name": "stdout",
     "output_type": "stream",
     "text": [
      "Populating the interactive namespace from numpy and matplotlib\n"
     ]
    }
   ],
   "source": [
    "import seaborn as sns\n",
    "import numpy as np\n",
    "import scipy\n",
    "import pandas as pd\n",
    "import matplotlib.pyplot as plt\n",
    "from IPython.display import display\n",
    "%pylab inline\n",
    "import os\n",
    "from __future__ import print_function\n",
    "from __future__ import division\n",
    "import os, sys\n",
    "sys.path.append(os.path.abspath('../scripts'))\n",
    "import preprocessing_time_series as pts\n",
    "\n",
    "\n",
    "os.chdir(pts.working_dir())"
   ]
  },
  {
   "cell_type": "code",
   "execution_count": 2,
   "metadata": {
    "ExecuteTime": {
     "end_time": "2016-07-16T16:42:50.948865",
     "start_time": "2016-07-16T16:42:50.939115"
    },
    "collapsed": false
   },
   "outputs": [
    {
     "data": {
      "text/plain": [
       "['.DS_Store',\n",
       " 'cliente_tabla.csv',\n",
       " 'cliente_tabla.csv.zip',\n",
       " 'producto_tabla.csv',\n",
       " 'producto_tabla.csv.zip',\n",
       " 'producto_tabla_w_clusters.csv',\n",
       " 'sample_submission.csv',\n",
       " 'sample_submission.csv.zip',\n",
       " 'States',\n",
       " 'test.csv',\n",
       " 'test.csv.zip',\n",
       " 'test_preprocessed.csv',\n",
       " 'town_state.csv',\n",
       " 'town_state.csv.zip',\n",
       " 'train.csv',\n",
       " 'train.csv.zip',\n",
       " 'train_JALISCO_timeseries.csv',\n",
       " 'train_sample.csv',\n",
       " 'train_SONORA_timeseries.csv']"
      ]
     },
     "execution_count": 2,
     "metadata": {},
     "output_type": "execute_result"
    }
   ],
   "source": [
    "os.listdir('.')"
   ]
  },
  {
   "cell_type": "markdown",
   "metadata": {
    "collapsed": true
   },
   "source": [
    "# Как соотносятся категории"
   ]
  },
  {
   "cell_type": "code",
   "execution_count": 3,
   "metadata": {
    "ExecuteTime": {
     "end_time": "2016-07-16T16:44:27.390936",
     "start_time": "2016-07-16T16:44:23.301598"
    },
    "collapsed": true
   },
   "outputs": [
    {
     "data": {
      "text/html": [
       "<div>\n",
       "<table border=\"1\" class=\"dataframe\">\n",
       "  <thead>\n",
       "    <tr style=\"text-align: right;\">\n",
       "      <th></th>\n",
       "      <th>Semana</th>\n",
       "      <th>Agencia_ID</th>\n",
       "      <th>Canal_ID</th>\n",
       "      <th>Ruta_SAK</th>\n",
       "      <th>Cliente_ID</th>\n",
       "      <th>Producto_ID</th>\n",
       "      <th>Venta_uni_hoy</th>\n",
       "      <th>Venta_hoy</th>\n",
       "      <th>Dev_uni_proxima</th>\n",
       "      <th>Dev_proxima</th>\n",
       "      <th>...</th>\n",
       "      <th>brand</th>\n",
       "      <th>weight</th>\n",
       "      <th>pieces</th>\n",
       "      <th>Has_choco</th>\n",
       "      <th>Has_vanilla</th>\n",
       "      <th>Has_multigrano</th>\n",
       "      <th>NombreCliente</th>\n",
       "      <th>Log_Demanda</th>\n",
       "      <th>Dev_proxima_by_uni</th>\n",
       "      <th>No_remains</th>\n",
       "    </tr>\n",
       "  </thead>\n",
       "  <tbody>\n",
       "    <tr>\n",
       "      <th>0</th>\n",
       "      <td>3</td>\n",
       "      <td>1110</td>\n",
       "      <td>7</td>\n",
       "      <td>3301</td>\n",
       "      <td>15766</td>\n",
       "      <td>1238</td>\n",
       "      <td>4</td>\n",
       "      <td>39.32</td>\n",
       "      <td>0</td>\n",
       "      <td>0.0</td>\n",
       "      <td>...</td>\n",
       "      <td>BIM</td>\n",
       "      <td>140.0</td>\n",
       "      <td>2.0</td>\n",
       "      <td>0</td>\n",
       "      <td>0</td>\n",
       "      <td>0</td>\n",
       "      <td>PUESTO DE PERIODICOS LAZARO</td>\n",
       "      <td>1.609438</td>\n",
       "      <td>NaN</td>\n",
       "      <td>0</td>\n",
       "    </tr>\n",
       "    <tr>\n",
       "      <th>1</th>\n",
       "      <td>3</td>\n",
       "      <td>1110</td>\n",
       "      <td>7</td>\n",
       "      <td>3301</td>\n",
       "      <td>319641</td>\n",
       "      <td>1125</td>\n",
       "      <td>50</td>\n",
       "      <td>480.00</td>\n",
       "      <td>0</td>\n",
       "      <td>0.0</td>\n",
       "      <td>...</td>\n",
       "      <td>TR</td>\n",
       "      <td>255.0</td>\n",
       "      <td>10.0</td>\n",
       "      <td>0</td>\n",
       "      <td>0</td>\n",
       "      <td>0</td>\n",
       "      <td>GUADALAJARA</td>\n",
       "      <td>3.931826</td>\n",
       "      <td>NaN</td>\n",
       "      <td>0</td>\n",
       "    </tr>\n",
       "    <tr>\n",
       "      <th>2</th>\n",
       "      <td>3</td>\n",
       "      <td>1110</td>\n",
       "      <td>7</td>\n",
       "      <td>3301</td>\n",
       "      <td>319641</td>\n",
       "      <td>2233</td>\n",
       "      <td>23</td>\n",
       "      <td>458.62</td>\n",
       "      <td>0</td>\n",
       "      <td>0.0</td>\n",
       "      <td>...</td>\n",
       "      <td>BIM</td>\n",
       "      <td>640.0</td>\n",
       "      <td>NaN</td>\n",
       "      <td>0</td>\n",
       "      <td>0</td>\n",
       "      <td>0</td>\n",
       "      <td>GUADALAJARA</td>\n",
       "      <td>3.178054</td>\n",
       "      <td>NaN</td>\n",
       "      <td>0</td>\n",
       "    </tr>\n",
       "    <tr>\n",
       "      <th>3</th>\n",
       "      <td>3</td>\n",
       "      <td>1110</td>\n",
       "      <td>7</td>\n",
       "      <td>3301</td>\n",
       "      <td>819816</td>\n",
       "      <td>2233</td>\n",
       "      <td>14</td>\n",
       "      <td>279.16</td>\n",
       "      <td>0</td>\n",
       "      <td>0.0</td>\n",
       "      <td>...</td>\n",
       "      <td>BIM</td>\n",
       "      <td>640.0</td>\n",
       "      <td>NaN</td>\n",
       "      <td>0</td>\n",
       "      <td>0</td>\n",
       "      <td>0</td>\n",
       "      <td>SANATORIO ESPANOL SA</td>\n",
       "      <td>2.708050</td>\n",
       "      <td>NaN</td>\n",
       "      <td>0</td>\n",
       "    </tr>\n",
       "    <tr>\n",
       "      <th>4</th>\n",
       "      <td>3</td>\n",
       "      <td>1110</td>\n",
       "      <td>7</td>\n",
       "      <td>3301</td>\n",
       "      <td>1163700</td>\n",
       "      <td>31506</td>\n",
       "      <td>6</td>\n",
       "      <td>37.50</td>\n",
       "      <td>0</td>\n",
       "      <td>0.0</td>\n",
       "      <td>...</td>\n",
       "      <td>MLA</td>\n",
       "      <td>113.0</td>\n",
       "      <td>6.0</td>\n",
       "      <td>0</td>\n",
       "      <td>0</td>\n",
       "      <td>0</td>\n",
       "      <td>PUESTO DEGALLETAS</td>\n",
       "      <td>1.945910</td>\n",
       "      <td>NaN</td>\n",
       "      <td>0</td>\n",
       "    </tr>\n",
       "  </tbody>\n",
       "</table>\n",
       "<p>5 rows × 24 columns</p>\n",
       "</div>"
      ],
      "text/plain": [
       "   Semana  Agencia_ID  Canal_ID  Ruta_SAK  Cliente_ID  Producto_ID  \\\n",
       "0       3        1110         7      3301       15766         1238   \n",
       "1       3        1110         7      3301      319641         1125   \n",
       "2       3        1110         7      3301      319641         2233   \n",
       "3       3        1110         7      3301      819816         2233   \n",
       "4       3        1110         7      3301     1163700        31506   \n",
       "\n",
       "   Venta_uni_hoy  Venta_hoy  Dev_uni_proxima  Dev_proxima     ...      brand  \\\n",
       "0              4      39.32                0          0.0     ...        BIM   \n",
       "1             50     480.00                0          0.0     ...         TR   \n",
       "2             23     458.62                0          0.0     ...        BIM   \n",
       "3             14     279.16                0          0.0     ...        BIM   \n",
       "4              6      37.50                0          0.0     ...        MLA   \n",
       "\n",
       "  weight pieces Has_choco Has_vanilla  Has_multigrano  \\\n",
       "0  140.0    2.0         0           0               0   \n",
       "1  255.0   10.0         0           0               0   \n",
       "2  640.0    NaN         0           0               0   \n",
       "3  640.0    NaN         0           0               0   \n",
       "4  113.0    6.0         0           0               0   \n",
       "\n",
       "                 NombreCliente  Log_Demanda  Dev_proxima_by_uni  No_remains  \n",
       "0  PUESTO DE PERIODICOS LAZARO     1.609438                 NaN           0  \n",
       "1                  GUADALAJARA     3.931826                 NaN           0  \n",
       "2                  GUADALAJARA     3.178054                 NaN           0  \n",
       "3         SANATORIO ESPANOL SA     2.708050                 NaN           0  \n",
       "4            PUESTO DEGALLETAS     1.945910                 NaN           0  \n",
       "\n",
       "[5 rows x 24 columns]"
      ]
     },
     "execution_count": 3,
     "metadata": {},
     "output_type": "execute_result"
    }
   ],
   "source": [
    "df = pd.read_csv('train_sample.csv')\n",
    "df.head()"
   ]
  },
  {
   "cell_type": "code",
   "execution_count": 4,
   "metadata": {
    "ExecuteTime": {
     "end_time": "2016-07-16T16:44:58.366845",
     "start_time": "2016-07-16T16:44:58.360900"
    },
    "collapsed": false
   },
   "outputs": [
    {
     "data": {
      "text/plain": [
       "Index([u'Semana', u'Agencia_ID', u'Canal_ID', u'Ruta_SAK', u'Cliente_ID',\n",
       "       u'Producto_ID', u'Venta_uni_hoy', u'Venta_hoy', u'Dev_uni_proxima',\n",
       "       u'Dev_proxima', u'Demanda_uni_equil', u'Town', u'State',\n",
       "       u'NombreProducto', u'brand', u'weight', u'pieces', u'Has_choco',\n",
       "       u'Has_vanilla', u'Has_multigrano', u'NombreCliente', u'Log_Demanda',\n",
       "       u'Dev_proxima_by_uni', u'No_remains'],\n",
       "      dtype='object')"
      ]
     },
     "execution_count": 4,
     "metadata": {},
     "output_type": "execute_result"
    }
   ],
   "source": [
    "df.columns"
   ]
  },
  {
   "cell_type": "code",
   "execution_count": 13,
   "metadata": {
    "ExecuteTime": {
     "end_time": "2016-07-16T17:50:50.668126",
     "start_time": "2016-07-16T17:49:49.585658"
    },
    "collapsed": false
   },
   "outputs": [
    {
     "name": "stdout",
     "output_type": "stream",
     "text": [
      "Agencia_ID\t<\tTown\n",
      "Agencia_ID\t<\tState\n",
      "Producto_ID\t=\tNombreProducto\n",
      "Producto_ID\t<\tbrand\n",
      "Town\t<\tState\n",
      "NombreProducto\t<\tbrand\n"
     ]
    }
   ],
   "source": [
    "from itertools import combinations\n",
    "import codecs\n",
    "\n",
    "categories = [u'Semana', u'Agencia_ID', u'Canal_ID', u'Ruta_SAK', u'Cliente_ID',\n",
    "       u'Producto_ID', u'Town', u'State',\n",
    "       u'NombreProducto', u'brand', u'NombreCliente']\n",
    "\n",
    "def check(cat_pair):\n",
    "    uniques = df.groupby(cat_pair[0])[cat_pair[1]].nunique()\n",
    "    return uniques.max()==1\n",
    "\n",
    "with codecs.open('categories_hierarhy.tsv', 'w', 'utf-8') as f:\n",
    "    for pair_id in combinations(range(len(categories)), 2):\n",
    "        pair = [categories[i] for i in pair_id]\n",
    "        less = check(pair)\n",
    "        greater = check(pair[::-1])\n",
    "        if less & greater:\n",
    "            symb = '='\n",
    "        elif less:\n",
    "            symb = '<'\n",
    "        elif greater:\n",
    "            symb = '>'\n",
    "        else:\n",
    "            symb = '?'\n",
    "        if symb != '?':\n",
    "            print (pair[0] + '\\t' + symb + '\\t' + pair[1])\n",
    "        f.write(pair[0] + '\\t' + symb + '\\t' + pair[1] + '\\n')\n"
   ]
  },
  {
   "cell_type": "markdown",
   "metadata": {},
   "source": [
    "# Какие новые категории есть в тестовых данных"
   ]
  },
  {
   "cell_type": "code",
   "execution_count": 15,
   "metadata": {
    "ExecuteTime": {
     "end_time": "2016-07-16T17:55:54.799859",
     "start_time": "2016-07-16T17:55:30.263962"
    },
    "collapsed": false
   },
   "outputs": [
    {
     "name": "stdout",
     "output_type": "stream",
     "text": [
      "(7055802, 16)\n"
     ]
    },
    {
     "data": {
      "text/html": [
       "<div>\n",
       "<table border=\"1\" class=\"dataframe\">\n",
       "  <thead>\n",
       "    <tr style=\"text-align: right;\">\n",
       "      <th></th>\n",
       "      <th>Semana</th>\n",
       "      <th>Agencia_ID</th>\n",
       "      <th>Canal_ID</th>\n",
       "      <th>Ruta_SAK</th>\n",
       "      <th>Cliente_ID</th>\n",
       "      <th>Producto_ID</th>\n",
       "      <th>Town</th>\n",
       "      <th>State</th>\n",
       "      <th>NombreProducto</th>\n",
       "      <th>brand</th>\n",
       "      <th>weight</th>\n",
       "      <th>pieces</th>\n",
       "      <th>Has_choco</th>\n",
       "      <th>Has_vanilla</th>\n",
       "      <th>Has_multigrano</th>\n",
       "      <th>NombreCliente</th>\n",
       "    </tr>\n",
       "    <tr>\n",
       "      <th>id</th>\n",
       "      <th></th>\n",
       "      <th></th>\n",
       "      <th></th>\n",
       "      <th></th>\n",
       "      <th></th>\n",
       "      <th></th>\n",
       "      <th></th>\n",
       "      <th></th>\n",
       "      <th></th>\n",
       "      <th></th>\n",
       "      <th></th>\n",
       "      <th></th>\n",
       "      <th></th>\n",
       "      <th></th>\n",
       "      <th></th>\n",
       "      <th></th>\n",
       "    </tr>\n",
       "  </thead>\n",
       "  <tbody>\n",
       "    <tr>\n",
       "      <th>0</th>\n",
       "      <td>11</td>\n",
       "      <td>4037</td>\n",
       "      <td>1</td>\n",
       "      <td>2209</td>\n",
       "      <td>4639078</td>\n",
       "      <td>35305</td>\n",
       "      <td>2499 REYNOSA MARINELA</td>\n",
       "      <td>TAMAULIPAS</td>\n",
       "      <td>Barritas Fresa 75g Prom MTB MLA 35305</td>\n",
       "      <td>MTB MLA</td>\n",
       "      <td>75.0</td>\n",
       "      <td>NaN</td>\n",
       "      <td>0</td>\n",
       "      <td>0</td>\n",
       "      <td>0</td>\n",
       "      <td>NaN</td>\n",
       "    </tr>\n",
       "    <tr>\n",
       "      <th>1</th>\n",
       "      <td>11</td>\n",
       "      <td>2237</td>\n",
       "      <td>1</td>\n",
       "      <td>1226</td>\n",
       "      <td>4705135</td>\n",
       "      <td>1238</td>\n",
       "      <td>2402 TUXTLA</td>\n",
       "      <td>CHIAPAS</td>\n",
       "      <td>Panquecito Gota Choc 2p 140g BIM 1238</td>\n",
       "      <td>BIM</td>\n",
       "      <td>140.0</td>\n",
       "      <td>2.0</td>\n",
       "      <td>0</td>\n",
       "      <td>0</td>\n",
       "      <td>0</td>\n",
       "      <td>NaN</td>\n",
       "    </tr>\n",
       "    <tr>\n",
       "      <th>2</th>\n",
       "      <td>10</td>\n",
       "      <td>2045</td>\n",
       "      <td>1</td>\n",
       "      <td>2831</td>\n",
       "      <td>4549769</td>\n",
       "      <td>32940</td>\n",
       "      <td>2163 LA PIEDAD</td>\n",
       "      <td>MICHOACAN</td>\n",
       "      <td>Principe Choc Bco 10p 110g Prom MTB MLA 32940</td>\n",
       "      <td>MTB MLA</td>\n",
       "      <td>110.0</td>\n",
       "      <td>10.0</td>\n",
       "      <td>0</td>\n",
       "      <td>0</td>\n",
       "      <td>0</td>\n",
       "      <td>NaN</td>\n",
       "    </tr>\n",
       "    <tr>\n",
       "      <th>3</th>\n",
       "      <td>11</td>\n",
       "      <td>1227</td>\n",
       "      <td>1</td>\n",
       "      <td>4448</td>\n",
       "      <td>4717855</td>\n",
       "      <td>43066</td>\n",
       "      <td>2066 TOLUCA PONIENTE</td>\n",
       "      <td>ESTADO DE MEXICO</td>\n",
       "      <td>Pay Pina 1p 85g MTB MLA 43066</td>\n",
       "      <td>MTB MLA</td>\n",
       "      <td>85.0</td>\n",
       "      <td>1.0</td>\n",
       "      <td>0</td>\n",
       "      <td>0</td>\n",
       "      <td>0</td>\n",
       "      <td>NaN</td>\n",
       "    </tr>\n",
       "    <tr>\n",
       "      <th>4</th>\n",
       "      <td>11</td>\n",
       "      <td>1219</td>\n",
       "      <td>1</td>\n",
       "      <td>1130</td>\n",
       "      <td>966351</td>\n",
       "      <td>1277</td>\n",
       "      <td>2042 AG. TEPOZOTLAN</td>\n",
       "      <td>ESTADO DE MEXICO</td>\n",
       "      <td>Nito Edicion Especial 62g BIM 1277</td>\n",
       "      <td>BIM</td>\n",
       "      <td>62.0</td>\n",
       "      <td>NaN</td>\n",
       "      <td>0</td>\n",
       "      <td>0</td>\n",
       "      <td>0</td>\n",
       "      <td>LOS PINITOS</td>\n",
       "    </tr>\n",
       "  </tbody>\n",
       "</table>\n",
       "</div>"
      ],
      "text/plain": [
       "    Semana  Agencia_ID  Canal_ID  Ruta_SAK  Cliente_ID  Producto_ID  \\\n",
       "id                                                                    \n",
       "0       11        4037         1      2209     4639078        35305   \n",
       "1       11        2237         1      1226     4705135         1238   \n",
       "2       10        2045         1      2831     4549769        32940   \n",
       "3       11        1227         1      4448     4717855        43066   \n",
       "4       11        1219         1      1130      966351         1277   \n",
       "\n",
       "                     Town             State  \\\n",
       "id                                            \n",
       "0   2499 REYNOSA MARINELA        TAMAULIPAS   \n",
       "1             2402 TUXTLA           CHIAPAS   \n",
       "2          2163 LA PIEDAD         MICHOACAN   \n",
       "3    2066 TOLUCA PONIENTE  ESTADO DE MEXICO   \n",
       "4     2042 AG. TEPOZOTLAN  ESTADO DE MEXICO   \n",
       "\n",
       "                                   NombreProducto    brand  weight  pieces  \\\n",
       "id                                                                           \n",
       "0           Barritas Fresa 75g Prom MTB MLA 35305  MTB MLA    75.0     NaN   \n",
       "1           Panquecito Gota Choc 2p 140g BIM 1238      BIM   140.0     2.0   \n",
       "2   Principe Choc Bco 10p 110g Prom MTB MLA 32940  MTB MLA   110.0    10.0   \n",
       "3                   Pay Pina 1p 85g MTB MLA 43066  MTB MLA    85.0     1.0   \n",
       "4              Nito Edicion Especial 62g BIM 1277      BIM    62.0     NaN   \n",
       "\n",
       "    Has_choco  Has_vanilla  Has_multigrano NombreCliente  \n",
       "id                                                        \n",
       "0           0            0               0           NaN  \n",
       "1           0            0               0           NaN  \n",
       "2           0            0               0           NaN  \n",
       "3           0            0               0           NaN  \n",
       "4           0            0               0   LOS PINITOS  "
      ]
     },
     "execution_count": 15,
     "metadata": {},
     "output_type": "execute_result"
    }
   ],
   "source": [
    "test = pd.read_csv('test_preprocessed.csv',index_col=0)\n",
    "print(test.shape)\n",
    "test.head()"
   ]
  },
  {
   "cell_type": "code",
   "execution_count": 22,
   "metadata": {
    "ExecuteTime": {
     "end_time": "2016-07-16T18:55:48.793629",
     "start_time": "2016-07-16T18:55:47.802758"
    },
    "collapsed": false
   },
   "outputs": [
    {
     "data": {
      "text/plain": [
       "(u'Producto_ID', ['35785', '35783', '43279', '160', '43274'])"
      ]
     },
     "execution_count": 22,
     "metadata": {},
     "output_type": "execute_result"
    }
   ],
   "source": [
    "categories = [u'Semana', u'Agencia_ID', u'Canal_ID', u'Ruta_SAK', u'Cliente_ID',\n",
    "       u'Producto_ID']\n",
    "\n",
    "categories_dict = {}\n",
    "\n",
    "for c in categories:\n",
    "    categories_dict[c] = set([str(int(x)) for x in test[c].unique()])\n",
    "    \n",
    "c, list(categories_dict[c])[:5]"
   ]
  },
  {
   "cell_type": "code",
   "execution_count": 26,
   "metadata": {
    "ExecuteTime": {
     "end_time": "2016-07-16T19:12:12.654901",
     "start_time": "2016-07-16T18:59:23.403258"
    },
    "collapsed": false,
    "scrolled": true
   },
   "outputs": [
    {
     "name": "stdout",
     "output_type": "stream",
     "text": [
      "0 lines read, time: 0:00:00.000577\n",
      "1000000 lines read, time: 0:00:10.143023\n",
      "2000000 lines read, time: 0:00:20.092809\n",
      "3000000 lines read, time: 0:00:30.514029\n",
      "4000000 lines read, time: 0:00:40.444124\n",
      "5000000 lines read, time: 0:00:50.466956\n",
      "6000000 lines read, time: 0:01:00.335480\n",
      "7000000 lines read, time: 0:01:10.205054\n",
      "8000000 lines read, time: 0:01:20.090219\n",
      "9000000 lines read, time: 0:01:29.922530\n",
      "10000000 lines read, time: 0:01:39.808041\n",
      "11000000 lines read, time: 0:01:49.777754\n",
      "12000000 lines read, time: 0:01:59.780130\n",
      "13000000 lines read, time: 0:02:09.579870\n",
      "14000000 lines read, time: 0:02:19.393488\n",
      "15000000 lines read, time: 0:02:29.247434\n",
      "16000000 lines read, time: 0:02:40.333787\n",
      "17000000 lines read, time: 0:02:51.082239\n",
      "18000000 lines read, time: 0:03:01.714025\n",
      "19000000 lines read, time: 0:03:12.433305\n",
      "20000000 lines read, time: 0:03:22.746731\n",
      "21000000 lines read, time: 0:03:35.051113\n",
      "22000000 lines read, time: 0:03:45.804103\n",
      "23000000 lines read, time: 0:03:56.091649\n",
      "24000000 lines read, time: 0:04:06.052505\n",
      "25000000 lines read, time: 0:04:15.925291\n",
      "26000000 lines read, time: 0:04:25.715007\n",
      "27000000 lines read, time: 0:04:36.096189\n",
      "28000000 lines read, time: 0:04:46.799012\n",
      "29000000 lines read, time: 0:04:57.319035\n",
      "30000000 lines read, time: 0:05:07.671739\n",
      "31000000 lines read, time: 0:05:17.823057\n",
      "32000000 lines read, time: 0:05:28.173547\n",
      "33000000 lines read, time: 0:05:38.350639\n",
      "34000000 lines read, time: 0:05:48.725059\n",
      "35000000 lines read, time: 0:05:59.198416\n",
      "36000000 lines read, time: 0:06:09.580081\n",
      "37000000 lines read, time: 0:06:19.966678\n",
      "38000000 lines read, time: 0:06:30.305072\n",
      "39000000 lines read, time: 0:06:40.863353\n",
      "40000000 lines read, time: 0:06:51.079121\n",
      "41000000 lines read, time: 0:07:02.170584\n",
      "42000000 lines read, time: 0:07:12.677471\n",
      "43000000 lines read, time: 0:07:23.478469\n",
      "44000000 lines read, time: 0:07:33.541283\n",
      "45000000 lines read, time: 0:07:43.687541\n",
      "46000000 lines read, time: 0:07:53.546281\n",
      "47000000 lines read, time: 0:08:03.576296\n",
      "48000000 lines read, time: 0:08:13.642245\n",
      "49000000 lines read, time: 0:08:23.504903\n",
      "50000000 lines read, time: 0:08:34.034428\n",
      "51000000 lines read, time: 0:08:44.685555\n",
      "52000000 lines read, time: 0:08:55.908846\n",
      "53000000 lines read, time: 0:09:07.206613\n",
      "54000000 lines read, time: 0:09:18.239424\n",
      "55000000 lines read, time: 0:09:28.771812\n",
      "56000000 lines read, time: 0:09:39.328630\n",
      "57000000 lines read, time: 0:09:49.416042\n",
      "58000000 lines read, time: 0:09:59.656454\n",
      "59000000 lines read, time: 0:10:09.954788\n",
      "60000000 lines read, time: 0:10:19.984986\n",
      "61000000 lines read, time: 0:10:30.203191\n",
      "62000000 lines read, time: 0:10:40.485817\n",
      "63000000 lines read, time: 0:10:50.794129\n",
      "64000000 lines read, time: 0:11:01.803226\n",
      "65000000 lines read, time: 0:11:11.963621\n",
      "66000000 lines read, time: 0:11:23.058199\n",
      "67000000 lines read, time: 0:11:33.330516\n",
      "68000000 lines read, time: 0:11:44.717263\n",
      "69000000 lines read, time: 0:11:55.614025\n",
      "70000000 lines read, time: 0:12:06.244816\n",
      "71000000 lines read, time: 0:12:16.516661\n",
      "72000000 lines read, time: 0:12:26.747304\n",
      "73000000 lines read, time: 0:12:36.982300\n",
      "74000000 lines read, time: 0:12:47.437727\n"
     ]
    }
   ],
   "source": [
    "import codecs\n",
    "import datetime\n",
    "start_time = datetime.datetime.now()\n",
    "with codecs.open(pts.working_dir() + \"train.csv\", 'r', 'utf-8') as f:\n",
    "    column_names = f.readline()[:-1].split(',')\n",
    "    assert column_names[:len(categories)] == categories\n",
    "    for i, line in enumerate(f):\n",
    "        if i % 1000000 == 0:\n",
    "            print (i, 'lines read, time:', datetime.datetime.now() - start_time)\n",
    "\n",
    "        fields = line[:-1].split(',')\n",
    "        # values only in test df will remain\n",
    "        for j, c in enumerate(categories):\n",
    "            categories_dict[c].discard(fields[j])"
   ]
  },
  {
   "cell_type": "code",
   "execution_count": 27,
   "metadata": {
    "ExecuteTime": {
     "end_time": "2016-07-16T19:29:12.411461",
     "start_time": "2016-07-16T19:29:12.402690"
    },
    "collapsed": false
   },
   "outputs": [
    {
     "name": "stdout",
     "output_type": "stream",
     "text": [
      "Semana 2\n",
      "Agencia_ID 0\n",
      "Canal_ID 0\n",
      "Ruta_SAK 17\n",
      "Cliente_ID 9663\n",
      "Producto_ID 34\n"
     ]
    }
   ],
   "source": [
    "for c in categories:\n",
    "    print(c, len(categories_dict[c]))"
   ]
  },
  {
   "cell_type": "code",
   "execution_count": null,
   "metadata": {
    "collapsed": true
   },
   "outputs": [],
   "source": []
  }
 ],
 "metadata": {
  "anaconda-cloud": {},
  "kernelspec": {
   "display_name": "Python [Root]",
   "language": "python",
   "name": "Python [Root]"
  },
  "language_info": {
   "codemirror_mode": {
    "name": "ipython",
    "version": 2
   },
   "file_extension": ".py",
   "mimetype": "text/x-python",
   "name": "python",
   "nbconvert_exporter": "python",
   "pygments_lexer": "ipython2",
   "version": "2.7.12"
  }
 },
 "nbformat": 4,
 "nbformat_minor": 0
}
