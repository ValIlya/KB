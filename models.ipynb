{
 "cells": [
  {
   "cell_type": "code",
   "execution_count": 1,
   "metadata": {
    "ExecuteTime": {
     "end_time": "2016-06-21T09:47:50.930360",
     "start_time": "2016-06-21T09:47:48.685972"
    },
    "collapsed": false
   },
   "outputs": [
    {
     "name": "stdout",
     "output_type": "stream",
     "text": [
      "Populating the interactive namespace from numpy and matplotlib\n"
     ]
    }
   ],
   "source": [
    "import seaborn as sns\n",
    "import numpy as np\n",
    "import scipy\n",
    "import pandas as pd\n",
    "import matplotlib.pyplot as plt\n",
    "from IPython.display import display\n",
    "%pylab inline\n",
    "import os\n",
    "from __future__ import print_function\n",
    "import sys\n",
    "sys.path.append(os.path.abspath(os.path.join(os.path.dirname('__file__'), '.')))\n",
    "if 'ilya' in os.getcwd():\n",
    "    os.chdir('/Users/ilya/Documents/Kaggle_Bimbo/')\n",
    "else:\n",
    "    os.chdir('/Users/margarita/Kaggle/Bimbo/')"
   ]
  },
  {
   "cell_type": "code",
   "execution_count": 2,
   "metadata": {
    "ExecuteTime": {
     "end_time": "2016-06-21T09:47:54.339597",
     "start_time": "2016-06-21T09:47:50.935254"
    },
    "collapsed": false,
    "scrolled": true
   },
   "outputs": [
    {
     "name": "stdout",
     "output_type": "stream",
     "text": [
      "(1008073, 19)\n"
     ]
    },
    {
     "data": {
      "text/html": [
       "<div>\n",
       "<table border=\"1\" class=\"dataframe\">\n",
       "  <thead>\n",
       "    <tr style=\"text-align: right;\">\n",
       "      <th></th>\n",
       "      <th>Semana</th>\n",
       "      <th>Canal_ID</th>\n",
       "      <th>Ruta_SAK</th>\n",
       "      <th>Venta_uni_hoy</th>\n",
       "      <th>Venta_hoy</th>\n",
       "      <th>Dev_uni_proxima</th>\n",
       "      <th>Dev_proxima</th>\n",
       "      <th>Demanda_uni_equil</th>\n",
       "      <th>Town</th>\n",
       "      <th>State</th>\n",
       "      <th>NombreProducto</th>\n",
       "      <th>brand</th>\n",
       "      <th>weight</th>\n",
       "      <th>pieces</th>\n",
       "      <th>Has_choco</th>\n",
       "      <th>Has_vanilla</th>\n",
       "      <th>Has_multigrano</th>\n",
       "      <th>NombreCliente</th>\n",
       "      <th>Log_Demanda</th>\n",
       "    </tr>\n",
       "  </thead>\n",
       "  <tbody>\n",
       "    <tr>\n",
       "      <th>0</th>\n",
       "      <td>3</td>\n",
       "      <td>7</td>\n",
       "      <td>3301</td>\n",
       "      <td>4</td>\n",
       "      <td>39.32</td>\n",
       "      <td>0</td>\n",
       "      <td>0.0</td>\n",
       "      <td>4</td>\n",
       "      <td>2008 AG. LAGO FILT</td>\n",
       "      <td>MEXICO, D.F.</td>\n",
       "      <td>Panquecito Gota Choc 2p 140g BIM 1238</td>\n",
       "      <td>BIM</td>\n",
       "      <td>140.0</td>\n",
       "      <td>2.0</td>\n",
       "      <td>0</td>\n",
       "      <td>0</td>\n",
       "      <td>0</td>\n",
       "      <td>PUESTO DE PERIODICOS LAZARO</td>\n",
       "      <td>1.609438</td>\n",
       "    </tr>\n",
       "    <tr>\n",
       "      <th>1</th>\n",
       "      <td>3</td>\n",
       "      <td>7</td>\n",
       "      <td>3301</td>\n",
       "      <td>50</td>\n",
       "      <td>480.00</td>\n",
       "      <td>0</td>\n",
       "      <td>0.0</td>\n",
       "      <td>50</td>\n",
       "      <td>2008 AG. LAGO FILT</td>\n",
       "      <td>MEXICO, D.F.</td>\n",
       "      <td>Tortillinas 10p 255g TR 1125</td>\n",
       "      <td>TR</td>\n",
       "      <td>255.0</td>\n",
       "      <td>10.0</td>\n",
       "      <td>0</td>\n",
       "      <td>0</td>\n",
       "      <td>0</td>\n",
       "      <td>GUADALAJARA</td>\n",
       "      <td>3.931826</td>\n",
       "    </tr>\n",
       "    <tr>\n",
       "      <th>2</th>\n",
       "      <td>3</td>\n",
       "      <td>7</td>\n",
       "      <td>3301</td>\n",
       "      <td>23</td>\n",
       "      <td>458.62</td>\n",
       "      <td>0</td>\n",
       "      <td>0.0</td>\n",
       "      <td>23</td>\n",
       "      <td>2008 AG. LAGO FILT</td>\n",
       "      <td>MEXICO, D.F.</td>\n",
       "      <td>Pan Blanco 640g BIM 2233</td>\n",
       "      <td>BIM</td>\n",
       "      <td>640.0</td>\n",
       "      <td>NaN</td>\n",
       "      <td>0</td>\n",
       "      <td>0</td>\n",
       "      <td>0</td>\n",
       "      <td>GUADALAJARA</td>\n",
       "      <td>3.178054</td>\n",
       "    </tr>\n",
       "    <tr>\n",
       "      <th>3</th>\n",
       "      <td>3</td>\n",
       "      <td>7</td>\n",
       "      <td>3301</td>\n",
       "      <td>14</td>\n",
       "      <td>279.16</td>\n",
       "      <td>0</td>\n",
       "      <td>0.0</td>\n",
       "      <td>14</td>\n",
       "      <td>2008 AG. LAGO FILT</td>\n",
       "      <td>MEXICO, D.F.</td>\n",
       "      <td>Pan Blanco 640g BIM 2233</td>\n",
       "      <td>BIM</td>\n",
       "      <td>640.0</td>\n",
       "      <td>NaN</td>\n",
       "      <td>0</td>\n",
       "      <td>0</td>\n",
       "      <td>0</td>\n",
       "      <td>SANATORIO ESPANOL SA</td>\n",
       "      <td>2.708050</td>\n",
       "    </tr>\n",
       "    <tr>\n",
       "      <th>4</th>\n",
       "      <td>3</td>\n",
       "      <td>7</td>\n",
       "      <td>3301</td>\n",
       "      <td>6</td>\n",
       "      <td>37.50</td>\n",
       "      <td>0</td>\n",
       "      <td>0.0</td>\n",
       "      <td>6</td>\n",
       "      <td>2008 AG. LAGO FILT</td>\n",
       "      <td>MEXICO, D.F.</td>\n",
       "      <td>Polvoron 6p 113g MLA 31506</td>\n",
       "      <td>MLA</td>\n",
       "      <td>113.0</td>\n",
       "      <td>6.0</td>\n",
       "      <td>0</td>\n",
       "      <td>0</td>\n",
       "      <td>0</td>\n",
       "      <td>PUESTO DEGALLETAS</td>\n",
       "      <td>1.945910</td>\n",
       "    </tr>\n",
       "  </tbody>\n",
       "</table>\n",
       "</div>"
      ],
      "text/plain": [
       "   Semana  Canal_ID  Ruta_SAK  Venta_uni_hoy  Venta_hoy  Dev_uni_proxima  \\\n",
       "0       3         7      3301              4      39.32                0   \n",
       "1       3         7      3301             50     480.00                0   \n",
       "2       3         7      3301             23     458.62                0   \n",
       "3       3         7      3301             14     279.16                0   \n",
       "4       3         7      3301              6      37.50                0   \n",
       "\n",
       "   Dev_proxima  Demanda_uni_equil                Town         State  \\\n",
       "0          0.0                  4  2008 AG. LAGO FILT  MEXICO, D.F.   \n",
       "1          0.0                 50  2008 AG. LAGO FILT  MEXICO, D.F.   \n",
       "2          0.0                 23  2008 AG. LAGO FILT  MEXICO, D.F.   \n",
       "3          0.0                 14  2008 AG. LAGO FILT  MEXICO, D.F.   \n",
       "4          0.0                  6  2008 AG. LAGO FILT  MEXICO, D.F.   \n",
       "\n",
       "                          NombreProducto brand  weight  pieces  Has_choco  \\\n",
       "0  Panquecito Gota Choc 2p 140g BIM 1238   BIM   140.0     2.0          0   \n",
       "1           Tortillinas 10p 255g TR 1125    TR   255.0    10.0          0   \n",
       "2               Pan Blanco 640g BIM 2233   BIM   640.0     NaN          0   \n",
       "3               Pan Blanco 640g BIM 2233   BIM   640.0     NaN          0   \n",
       "4             Polvoron 6p 113g MLA 31506   MLA   113.0     6.0          0   \n",
       "\n",
       "   Has_vanilla  Has_multigrano                NombreCliente  Log_Demanda  \n",
       "0            0               0  PUESTO DE PERIODICOS LAZARO     1.609438  \n",
       "1            0               0                  GUADALAJARA     3.931826  \n",
       "2            0               0                  GUADALAJARA     3.178054  \n",
       "3            0               0         SANATORIO ESPANOL SA     2.708050  \n",
       "4            0               0            PUESTO DEGALLETAS     1.945910  "
      ]
     },
     "execution_count": 2,
     "metadata": {},
     "output_type": "execute_result"
    }
   ],
   "source": [
    "data_train = pd.read_csv('train_sample.csv')\n",
    "print(data_train.shape)\n",
    "data_train.head()"
   ]
  },
  {
   "cell_type": "code",
   "execution_count": 3,
   "metadata": {
    "ExecuteTime": {
     "end_time": "2016-06-21T09:48:46.603557",
     "start_time": "2016-06-21T09:47:54.342281"
    },
    "collapsed": false,
    "scrolled": true
   },
   "outputs": [
    {
     "data": {
      "text/plain": [
       "ESTADO DE MEXICO_3        22574\n",
       "ESTADO DE MEXICO_4        21901\n",
       "ESTADO DE MEXICO_5        21168\n",
       "ESTADO DE MEXICO_8        21040\n",
       "ESTADO DE MEXICO_9        20849\n",
       "ESTADO DE MEXICO_7        20170\n",
       "ESTADO DE MEXICO_6        19979\n",
       "MEXICO, D.F._3            15738\n",
       "MEXICO, D.F._4            15612\n",
       "MEXICO, D.F._9            15527\n",
       "MEXICO, D.F._8            15480\n",
       "MEXICO, D.F._7            14489\n",
       "MEXICO, D.F._6            14176\n",
       "MEXICO, D.F._5            13564\n",
       "JALISCO_3                 13447\n",
       "JALISCO_4                 13148\n",
       "JALISCO_5                 12935\n",
       "JALISCO_7                 12580\n",
       "JALISCO_9                 12286\n",
       "JALISCO_8                 11954\n",
       "JALISCO_6                 11848\n",
       "PUEBLA_7                   8784\n",
       "PUEBLA_8                   8768\n",
       "VERACRUZ_3                 8658\n",
       "PUEBLA_9                   8587\n",
       "PUEBLA_6                   8565\n",
       "VERACRUZ_4                 8527\n",
       "PUEBLA_3                   8403\n",
       "VERACRUZ_7                 8203\n",
       "GUANAJUATO_4               8190\n",
       "                          ...  \n",
       "TLAXCALA_5                 1006\n",
       "TLAXCALA_7                 1003\n",
       "Queretaro de Arteaga_4      997\n",
       "BAJA CALIFORNIA SUR_5       988\n",
       "CAMPECHE_7                  983\n",
       "TLAXCALA_8                  974\n",
       "Queretaro de Arteaga_5      974\n",
       "Queretaro de Arteaga_6      970\n",
       "TLAXCALA_6                  970\n",
       "CAMPECHE_5                  967\n",
       "Queretaro de Arteaga_3      966\n",
       "Queretaro de Arteaga_8      965\n",
       "TLAXCALA_9                  953\n",
       "BAJA CALIFORNIA SUR_4       946\n",
       "Queretaro de Arteaga_7      946\n",
       "BAJA CALIFORNIA SUR_7       941\n",
       "CAMPECHE_6                  937\n",
       "BAJA CALIFORNIA SUR_3       932\n",
       "Queretaro de Arteaga_9      931\n",
       "BAJA CALIFORNIA SUR_6       922\n",
       "BAJA CALIFORNIA SUR_8       922\n",
       "CAMPECHE_9                  917\n",
       "BAJA CALIFORNIA SUR_9       884\n",
       "QUERETARO_8                 771\n",
       "QUERETARO_5                 709\n",
       "QUERETARO_7                 700\n",
       "QUERETARO_6                 681\n",
       "QUERETARO_9                 646\n",
       "QUERETARO_4                 597\n",
       "QUERETARO_3                  84\n",
       "dtype: int64"
      ]
     },
     "execution_count": 3,
     "metadata": {},
     "output_type": "execute_result"
    }
   ],
   "source": [
    "import crossval\n",
    "\n",
    "cv5fold, strats = crossval.crossvalidation(data_train[['State', 'Semana']])\n",
    "strats.value_counts()"
   ]
  },
  {
   "cell_type": "markdown",
   "metadata": {},
   "source": [
    "# Linear Model"
   ]
  },
  {
   "cell_type": "code",
   "execution_count": 4,
   "metadata": {
    "ExecuteTime": {
     "end_time": "2016-06-21T09:48:46.679908",
     "start_time": "2016-06-21T09:48:46.605814"
    },
    "collapsed": false
   },
   "outputs": [
    {
     "data": {
      "text/plain": [
       "(33,)"
      ]
     },
     "execution_count": 4,
     "metadata": {},
     "output_type": "execute_result"
    }
   ],
   "source": [
    "data_train['State'].value_counts().shape"
   ]
  },
  {
   "cell_type": "code",
   "execution_count": 5,
   "metadata": {
    "ExecuteTime": {
     "end_time": "2016-06-21T10:00:58.789657",
     "start_time": "2016-06-21T10:00:54.491318"
    },
    "collapsed": false
   },
   "outputs": [
    {
     "name": "stdout",
     "output_type": "stream",
     "text": [
      "Town: too many values\n",
      "NombreProducto: too many values\n",
      "brand: too many values\n",
      "NombreCliente: too many values\n"
     ]
    }
   ],
   "source": [
    "data_for_model = data_train[['Log_Demanda']].copy()\n",
    "for c in data_train.columns:\n",
    "    if data_train[c].dtype.name == 'object': #string\n",
    "        if data_train[c].value_counts().shape[0] < 34: #states\n",
    "            data_for_model = pd.concat([data_for_model, pd.get_dummies(data_train[c], dummy_na=False).iloc[:,:-1]]) #without last for non-multicollinearity\n",
    "        else:\n",
    "            print(c+': too many values')\n",
    "    elif c != 'Log_Demanda':\n",
    "        data_for_model[c] = data_train[c]\n"
   ]
  },
  {
   "cell_type": "code",
   "execution_count": 6,
   "metadata": {
    "ExecuteTime": {
     "end_time": "2016-06-21T10:01:02.100344",
     "start_time": "2016-06-21T10:00:58.791694"
    },
    "collapsed": false
   },
   "outputs": [],
   "source": [
    "data_for_model = data_for_model.fillna(data_for_model.mean())"
   ]
  },
  {
   "cell_type": "code",
   "execution_count": 7,
   "metadata": {
    "ExecuteTime": {
     "end_time": "2016-06-21T10:01:23.375386",
     "start_time": "2016-06-21T10:01:02.101841"
    },
    "collapsed": false
   },
   "outputs": [
    {
     "data": {
      "text/plain": [
       "[<matplotlib.lines.Line2D at 0x11c3b2550>]"
      ]
     },
     "execution_count": 7,
     "metadata": {},
     "output_type": "execute_result"
    },
    {
     "data": {
      "image/png": "[encoded data removed]",
      "text/plain": [
       "<matplotlib.figure.Figure at 0x1174fd450>"
      ]
     },
     "metadata": {},
     "output_type": "display_data"
    }
   ],
   "source": [
    "from sklearn.linear_model import LinearRegression\n",
    "from sklearn.cross_validation import cross_val_score\n",
    "\n",
    "linear = LinearRegression(normalize=True)\n",
    "\n",
    "scores = cross_val_score(linear, data_for_model.drop('Log_Demanda', axis = 1), \n",
    "                         y= data_for_model['Log_Demanda'], \n",
    "                         scoring = 'mean_squared_error', cv=cv5fold, n_jobs=-1)\n",
    "\n",
    "plt.plot(-1*scores)"
   ]
  },
  {
   "cell_type": "markdown",
   "metadata": {},
   "source": [
    "Переобучился?"
   ]
  },
  {
   "cell_type": "code",
   "execution_count": 8,
   "metadata": {
    "ExecuteTime": {
     "end_time": "2016-06-21T10:01:40.420566",
     "start_time": "2016-06-21T10:01:23.378847"
    },
    "collapsed": false
   },
   "outputs": [
    {
     "data": {
      "text/plain": [
       "[<matplotlib.lines.Line2D at 0x119db2250>]"
      ]
     },
     "execution_count": 8,
     "metadata": {},
     "output_type": "execute_result"
    },
    {
     "data": {
      "image/png": "[encoded data removed]",
      "text/plain": [
       "<matplotlib.figure.Figure at 0x104119b50>"
      ]
     },
     "metadata": {},
     "output_type": "display_data"
    }
   ],
   "source": [
    "from sklearn.linear_model import ElasticNet\n",
    "\n",
    "elasticNet = ElasticNet() # L1 + L2 regularization\n",
    "\n",
    "scores = cross_val_score(elasticNet, data_for_model.drop('Log_Demanda', axis = 1), \n",
    "                         y= data_for_model['Log_Demanda'], \n",
    "                         scoring = 'mean_squared_error', cv=cv5fold, n_jobs=-1)\n",
    "\n",
    "plt.plot(-1*scores)"
   ]
  },
  {
   "cell_type": "markdown",
   "metadata": {},
   "source": [
    "ТОП-20 на лидерборде:)"
   ]
  },
  {
   "cell_type": "code",
   "execution_count": 9,
   "metadata": {
    "ExecuteTime": {
     "end_time": "2016-06-21T10:01:45.887619",
     "start_time": "2016-06-21T10:01:40.423832"
    },
    "collapsed": false
   },
   "outputs": [
    {
     "data": {
      "text/plain": [
       "AGUASCALIENTES           0.001052\n",
       "BAJA CALIFORNIA NORTE    0.007070\n",
       "BAJA CALIFORNIA SUR      0.001486\n",
       "CAMPECHE                 0.008782\n",
       "CHIAPAS                  0.008769\n",
       "CHIHUAHUA                0.007020\n",
       "COAHUILA                 0.002174\n",
       "COLIMA                   0.010651\n",
       "Canal_ID                 0.054900\n",
       "DURANGO                  0.003138\n",
       "Demanda_uni_equil        0.014822\n",
       "Dev_proxima             -0.000205\n",
       "Dev_uni_proxima         -0.023882\n",
       "ESTADO DE MEXICO         0.009868\n",
       "GUANAJUATO               0.003017\n",
       "GUERRERO                -0.000043\n",
       "HIDALGO                  0.002875\n",
       "JALISCO                  0.006961\n",
       "MEXICO, D.F.             0.012887\n",
       "MICHOACAN                0.002555\n",
       "MORELOS                  0.006053\n",
       "NAYARIT                  0.006748\n",
       "NUEVO LEON               0.006157\n",
       "OAXACA                  -0.002527\n",
       "PUEBLA                  -0.001416\n",
       "QUERETARO                0.007930\n",
       "QUINTANA ROO             0.011190\n",
       "Queretaro de Arteaga     0.001377\n",
       "Ruta_SAK                 0.000028\n",
       "SAN LUIS POTOSI          0.002735\n",
       "SINALOA                  0.001499\n",
       "SONORA                   0.001852\n",
       "Semana                  -0.001437\n",
       "TABASCO                  0.005333\n",
       "TAMAULIPAS               0.005751\n",
       "TLAXCALA                -0.004935\n",
       "VERACRUZ                 0.006658\n",
       "Venta_hoy               -0.000177\n",
       "Venta_uni_hoy            0.005374\n",
       "YUCATAN                  0.012637\n",
       "weight                  -0.000320\n",
       "pieces                   0.003585\n",
       "Has_choco               -0.093131\n",
       "Has_vanilla             -0.096551\n",
       "Has_multigrano           0.007940\n",
       "dtype: float64"
      ]
     },
     "execution_count": 9,
     "metadata": {},
     "output_type": "execute_result"
    }
   ],
   "source": [
    "linear.fit(data_for_model.drop('Log_Demanda', axis = 1), \n",
    "                         y= data_for_model['Log_Demanda'])\n",
    "\n",
    "pd.Series(linear.coef_, index = data_for_model.drop('Log_Demanda', axis = 1).columns)"
   ]
  },
  {
   "cell_type": "code",
   "execution_count": null,
   "metadata": {
    "collapsed": true
   },
   "outputs": [],
   "source": []
  }
 ],
 "metadata": {
  "kernelspec": {
   "display_name": "Python 2",
   "language": "python",
   "name": "python2"
  },
  "language_info": {
   "codemirror_mode": {
    "name": "ipython",
    "version": 2
   },
   "file_extension": ".py",
   "mimetype": "text/x-python",
   "name": "python",
   "nbconvert_exporter": "python",
   "pygments_lexer": "ipython2",
   "version": "2.7.11"
  }
 },
 "nbformat": 4,
 "nbformat_minor": 0
}
