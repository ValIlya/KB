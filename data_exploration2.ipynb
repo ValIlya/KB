{
 "cells": [
  {
   "cell_type": "code",
   "execution_count": 1,
   "metadata": {
    "ExecuteTime": {
     "end_time": "2016-07-16T16:42:36.659247",
     "start_time": "2016-07-16T16:42:34.640832"
    },
    "collapsed": false
   },
   "outputs": [
    {
     "name": "stdout",
     "output_type": "stream",
     "text": [
      "Populating the interactive namespace from numpy and matplotlib\n"
     ]
    }
   ],
   "source": [
    "import seaborn as sns\n",
    "import numpy as np\n",
    "import scipy\n",
    "import pandas as pd\n",
    "import matplotlib.pyplot as plt\n",
    "from IPython.display import display\n",
    "%pylab inline\n",
    "import os\n",
    "from __future__ import print_function\n",
    "from __future__ import division\n",
    "import os, sys\n",
    "sys.path.append(os.path.abspath('.'))\n",
    "import preprocessing_time_series as pts\n",
    "\n",
    "\n",
    "os.chdir(pts.working_dir())"
   ]
  },
  {
   "cell_type": "code",
   "execution_count": 2,
   "metadata": {
    "ExecuteTime": {
     "end_time": "2016-07-16T16:42:50.948865",
     "start_time": "2016-07-16T16:42:50.939115"
    },
    "collapsed": false
   },
   "outputs": [
    {
     "data": {
      "text/plain": [
       "['.DS_Store',\n",
       " 'cliente_tabla.csv',\n",
       " 'cliente_tabla.csv.zip',\n",
       " 'producto_tabla.csv',\n",
       " 'producto_tabla.csv.zip',\n",
       " 'producto_tabla_w_clusters.csv',\n",
       " 'sample_submission.csv',\n",
       " 'sample_submission.csv.zip',\n",
       " 'States',\n",
       " 'test.csv',\n",
       " 'test.csv.zip',\n",
       " 'test_preprocessed.csv',\n",
       " 'town_state.csv',\n",
       " 'town_state.csv.zip',\n",
       " 'train.csv',\n",
       " 'train.csv.zip',\n",
       " 'train_JALISCO_timeseries.csv',\n",
       " 'train_sample.csv',\n",
       " 'train_SONORA_timeseries.csv']"
      ]
     },
     "execution_count": 2,
     "metadata": {},
     "output_type": "execute_result"
    }
   ],
   "source": [
    "os.listdir('.')"
   ]
  },
  {
   "cell_type": "markdown",
   "metadata": {
    "collapsed": true
   },
   "source": [
    "# Как соотносятся категории"
   ]
  },
  {
   "cell_type": "code",
   "execution_count": 3,
   "metadata": {
    "ExecuteTime": {
     "end_time": "2016-07-16T16:44:27.390936",
     "start_time": "2016-07-16T16:44:23.301598"
    },
    "collapsed": true
   },
   "outputs": [
    {
     "data": {
      "text/html": [
       "<div>\n",
       "<table border=\"1\" class=\"dataframe\">\n",
       "  <thead>\n",
       "    <tr style=\"text-align: right;\">\n",
       "      <th></th>\n",
       "      <th>Semana</th>\n",
       "      <th>Agencia_ID</th>\n",
       "      <th>Canal_ID</th>\n",
       "      <th>Ruta_SAK</th>\n",
       "      <th>Cliente_ID</th>\n",
       "      <th>Producto_ID</th>\n",
       "      <th>Venta_uni_hoy</th>\n",
       "      <th>Venta_hoy</th>\n",
       "      <th>Dev_uni_proxima</th>\n",
       "      <th>Dev_proxima</th>\n",
       "      <th>...</th>\n",
       "      <th>brand</th>\n",
       "      <th>weight</th>\n",
       "      <th>pieces</th>\n",
       "      <th>Has_choco</th>\n",
       "      <th>Has_vanilla</th>\n",
       "      <th>Has_multigrano</th>\n",
       "      <th>NombreCliente</th>\n",
       "      <th>Log_Demanda</th>\n",
       "      <th>Dev_proxima_by_uni</th>\n",
       "      <th>No_remains</th>\n",
       "    </tr>\n",
       "  </thead>\n",
       "  <tbody>\n",
       "    <tr>\n",
       "      <th>0</th>\n",
       "      <td>3</td>\n",
       "      <td>1110</td>\n",
       "      <td>7</td>\n",
       "      <td>3301</td>\n",
       "      <td>15766</td>\n",
       "      <td>1238</td>\n",
       "      <td>4</td>\n",
       "      <td>39.32</td>\n",
       "      <td>0</td>\n",
       "      <td>0.0</td>\n",
       "      <td>...</td>\n",
       "      <td>BIM</td>\n",
       "      <td>140.0</td>\n",
       "      <td>2.0</td>\n",
       "      <td>0</td>\n",
       "      <td>0</td>\n",
       "      <td>0</td>\n",
       "      <td>PUESTO DE PERIODICOS LAZARO</td>\n",
       "      <td>1.609438</td>\n",
       "      <td>NaN</td>\n",
       "      <td>0</td>\n",
       "    </tr>\n",
       "    <tr>\n",
       "      <th>1</th>\n",
       "      <td>3</td>\n",
       "      <td>1110</td>\n",
       "      <td>7</td>\n",
       "      <td>3301</td>\n",
       "      <td>319641</td>\n",
       "      <td>1125</td>\n",
       "      <td>50</td>\n",
       "      <td>480.00</td>\n",
       "      <td>0</td>\n",
       "      <td>0.0</td>\n",
       "      <td>...</td>\n",
       "      <td>TR</td>\n",
       "      <td>255.0</td>\n",
       "      <td>10.0</td>\n",
       "      <td>0</td>\n",
       "      <td>0</td>\n",
       "      <td>0</td>\n",
       "      <td>GUADALAJARA</td>\n",
       "      <td>3.931826</td>\n",
       "      <td>NaN</td>\n",
       "      <td>0</td>\n",
       "    </tr>\n",
       "    <tr>\n",
       "      <th>2</th>\n",
       "      <td>3</td>\n",
       "      <td>1110</td>\n",
       "      <td>7</td>\n",
       "      <td>3301</td>\n",
       "      <td>319641</td>\n",
       "      <td>2233</td>\n",
       "      <td>23</td>\n",
       "      <td>458.62</td>\n",
       "      <td>0</td>\n",
       "      <td>0.0</td>\n",
       "      <td>...</td>\n",
       "      <td>BIM</td>\n",
       "      <td>640.0</td>\n",
       "      <td>NaN</td>\n",
       "      <td>0</td>\n",
       "      <td>0</td>\n",
       "      <td>0</td>\n",
       "      <td>GUADALAJARA</td>\n",
       "      <td>3.178054</td>\n",
       "      <td>NaN</td>\n",
       "      <td>0</td>\n",
       "    </tr>\n",
       "    <tr>\n",
       "      <th>3</th>\n",
       "      <td>3</td>\n",
       "      <td>1110</td>\n",
       "      <td>7</td>\n",
       "      <td>3301</td>\n",
       "      <td>819816</td>\n",
       "      <td>2233</td>\n",
       "      <td>14</td>\n",
       "      <td>279.16</td>\n",
       "      <td>0</td>\n",
       "      <td>0.0</td>\n",
       "      <td>...</td>\n",
       "      <td>BIM</td>\n",
       "      <td>640.0</td>\n",
       "      <td>NaN</td>\n",
       "      <td>0</td>\n",
       "      <td>0</td>\n",
       "      <td>0</td>\n",
       "      <td>SANATORIO ESPANOL SA</td>\n",
       "      <td>2.708050</td>\n",
       "      <td>NaN</td>\n",
       "      <td>0</td>\n",
       "    </tr>\n",
       "    <tr>\n",
       "      <th>4</th>\n",
       "      <td>3</td>\n",
       "      <td>1110</td>\n",
       "      <td>7</td>\n",
       "      <td>3301</td>\n",
       "      <td>1163700</td>\n",
       "      <td>31506</td>\n",
       "      <td>6</td>\n",
       "      <td>37.50</td>\n",
       "      <td>0</td>\n",
       "      <td>0.0</td>\n",
       "      <td>...</td>\n",
       "      <td>MLA</td>\n",
       "      <td>113.0</td>\n",
       "      <td>6.0</td>\n",
       "      <td>0</td>\n",
       "      <td>0</td>\n",
       "      <td>0</td>\n",
       "      <td>PUESTO DEGALLETAS</td>\n",
       "      <td>1.945910</td>\n",
       "      <td>NaN</td>\n",
       "      <td>0</td>\n",
       "    </tr>\n",
       "  </tbody>\n",
       "</table>\n",
       "<p>5 rows × 24 columns</p>\n",
       "</div>"
      ],
      "text/plain": [
       "   Semana  Agencia_ID  Canal_ID  Ruta_SAK  Cliente_ID  Producto_ID  \\\n",
       "0       3        1110         7      3301       15766         1238   \n",
       "1       3        1110         7      3301      319641         1125   \n",
       "2       3        1110         7      3301      319641         2233   \n",
       "3       3        1110         7      3301      819816         2233   \n",
       "4       3        1110         7      3301     1163700        31506   \n",
       "\n",
       "   Venta_uni_hoy  Venta_hoy  Dev_uni_proxima  Dev_proxima     ...      brand  \\\n",
       "0              4      39.32                0          0.0     ...        BIM   \n",
       "1             50     480.00                0          0.0     ...         TR   \n",
       "2             23     458.62                0          0.0     ...        BIM   \n",
       "3             14     279.16                0          0.0     ...        BIM   \n",
       "4              6      37.50                0          0.0     ...        MLA   \n",
       "\n",
       "  weight pieces Has_choco Has_vanilla  Has_multigrano  \\\n",
       "0  140.0    2.0         0           0               0   \n",
       "1  255.0   10.0         0           0               0   \n",
       "2  640.0    NaN         0           0               0   \n",
       "3  640.0    NaN         0           0               0   \n",
       "4  113.0    6.0         0           0               0   \n",
       "\n",
       "                 NombreCliente  Log_Demanda  Dev_proxima_by_uni  No_remains  \n",
       "0  PUESTO DE PERIODICOS LAZARO     1.609438                 NaN           0  \n",
       "1                  GUADALAJARA     3.931826                 NaN           0  \n",
       "2                  GUADALAJARA     3.178054                 NaN           0  \n",
       "3         SANATORIO ESPANOL SA     2.708050                 NaN           0  \n",
       "4            PUESTO DEGALLETAS     1.945910                 NaN           0  \n",
       "\n",
       "[5 rows x 24 columns]"
      ]
     },
     "execution_count": 3,
     "metadata": {},
     "output_type": "execute_result"
    }
   ],
   "source": [
    "df = pd.read_csv('train_sample.csv')\n",
    "df.head()"
   ]
  },
  {
   "cell_type": "code",
   "execution_count": 4,
   "metadata": {
    "ExecuteTime": {
     "end_time": "2016-07-16T16:44:58.366845",
     "start_time": "2016-07-16T16:44:58.360900"
    },
    "collapsed": false
   },
   "outputs": [
    {
     "data": {
      "text/plain": [
       "Index([u'Semana', u'Agencia_ID', u'Canal_ID', u'Ruta_SAK', u'Cliente_ID',\n",
       "       u'Producto_ID', u'Venta_uni_hoy', u'Venta_hoy', u'Dev_uni_proxima',\n",
       "       u'Dev_proxima', u'Demanda_uni_equil', u'Town', u'State',\n",
       "       u'NombreProducto', u'brand', u'weight', u'pieces', u'Has_choco',\n",
       "       u'Has_vanilla', u'Has_multigrano', u'NombreCliente', u'Log_Demanda',\n",
       "       u'Dev_proxima_by_uni', u'No_remains'],\n",
       "      dtype='object')"
      ]
     },
     "execution_count": 4,
     "metadata": {},
     "output_type": "execute_result"
    }
   ],
   "source": [
    "df.columns"
   ]
  },
  {
   "cell_type": "code",
   "execution_count": 13,
   "metadata": {
    "ExecuteTime": {
     "end_time": "2016-07-16T17:50:50.668126",
     "start_time": "2016-07-16T17:49:49.585658"
    },
    "collapsed": false
   },
   "outputs": [
    {
     "name": "stdout",
     "output_type": "stream",
     "text": [
      "Agencia_ID\t<\tTown\n",
      "Agencia_ID\t<\tState\n",
      "Producto_ID\t=\tNombreProducto\n",
      "Producto_ID\t<\tbrand\n",
      "Town\t<\tState\n",
      "NombreProducto\t<\tbrand\n"
     ]
    }
   ],
   "source": [
    "from itertools import combinations\n",
    "import codecs\n",
    "\n",
    "categories = [u'Semana', u'Agencia_ID', u'Canal_ID', u'Ruta_SAK', u'Cliente_ID',\n",
    "       u'Producto_ID', u'Town', u'State',\n",
    "       u'NombreProducto', u'brand', u'NombreCliente']\n",
    "\n",
    "def check(cat_pair):\n",
    "    uniques = df.groupby(cat_pair[0])[cat_pair[1]].nunique()\n",
    "    return uniques.max()==1\n",
    "\n",
    "with codecs.open('categories_hierarhy.tsv', 'w', 'utf-8') as f:\n",
    "    for pair_id in combinations(range(len(categories)), 2):\n",
    "        pair = [categories[i] for i in pair_id]\n",
    "        less = check(pair)\n",
    "        greater = check(pair[::-1])\n",
    "        if less & greater:\n",
    "            symb = '='\n",
    "        elif less:\n",
    "            symb = '<'\n",
    "        elif greater:\n",
    "            symb = '>'\n",
    "        else:\n",
    "            symb = '?'\n",
    "        if symb != '?':\n",
    "            print (pair[0] + '\\t' + symb + '\\t' + pair[1])\n",
    "        f.write(pair[0] + '\\t' + symb + '\\t' + pair[1] + '\\n')\n"
   ]
  },
  {
   "cell_type": "markdown",
   "metadata": {},
   "source": [
    "# Какие новые категории есть в тестовых данных"
   ]
  },
  {
   "cell_type": "code",
   "execution_count": 15,
   "metadata": {
    "ExecuteTime": {
     "end_time": "2016-07-16T17:55:54.799859",
     "start_time": "2016-07-16T17:55:30.263962"
    },
    "collapsed": false
   },
   "outputs": [
    {
     "name": "stdout",
     "output_type": "stream",
     "text": [
      "(7055802, 16)\n"
     ]
    },
    {
     "data": {
      "text/html": [
       "<div>\n",
       "<table border=\"1\" class=\"dataframe\">\n",
       "  <thead>\n",
       "    <tr style=\"text-align: right;\">\n",
       "      <th></th>\n",
       "      <th>Semana</th>\n",
       "      <th>Agencia_ID</th>\n",
       "      <th>Canal_ID</th>\n",
       "      <th>Ruta_SAK</th>\n",
       "      <th>Cliente_ID</th>\n",
       "      <th>Producto_ID</th>\n",
       "      <th>Town</th>\n",
       "      <th>State</th>\n",
       "      <th>NombreProducto</th>\n",
       "      <th>brand</th>\n",
       "      <th>weight</th>\n",
       "      <th>pieces</th>\n",
       "      <th>Has_choco</th>\n",
       "      <th>Has_vanilla</th>\n",
       "      <th>Has_multigrano</th>\n",
       "      <th>NombreCliente</th>\n",
       "    </tr>\n",
       "    <tr>\n",
       "      <th>id</th>\n",
       "      <th></th>\n",
       "      <th></th>\n",
       "      <th></th>\n",
       "      <th></th>\n",
       "      <th></th>\n",
       "      <th></th>\n",
       "      <th></th>\n",
       "      <th></th>\n",
       "      <th></th>\n",
       "      <th></th>\n",
       "      <th></th>\n",
       "      <th></th>\n",
       "      <th></th>\n",
       "      <th></th>\n",
       "      <th></th>\n",
       "      <th></th>\n",
       "    </tr>\n",
       "  </thead>\n",
       "  <tbody>\n",
       "    <tr>\n",
       "      <th>0</th>\n",
       "      <td>11</td>\n",
       "      <td>4037</td>\n",
       "      <td>1</td>\n",
       "      <td>2209</td>\n",
       "      <td>4639078</td>\n",
       "      <td>35305</td>\n",
       "      <td>2499 REYNOSA MARINELA</td>\n",
       "      <td>TAMAULIPAS</td>\n",
       "      <td>Barritas Fresa 75g Prom MTB MLA 35305</td>\n",
       "      <td>MTB MLA</td>\n",
       "      <td>75.0</td>\n",
       "      <td>NaN</td>\n",
       "      <td>0</td>\n",
       "      <td>0</td>\n",
       "      <td>0</td>\n",
       "      <td>NaN</td>\n",
       "    </tr>\n",
       "    <tr>\n",
       "      <th>1</th>\n",
       "      <td>11</td>\n",
       "      <td>2237</td>\n",
       "      <td>1</td>\n",
       "      <td>1226</td>\n",
       "      <td>4705135</td>\n",
       "      <td>1238</td>\n",
       "      <td>2402 TUXTLA</td>\n",
       "      <td>CHIAPAS</td>\n",
       "      <td>Panquecito Gota Choc 2p 140g BIM 1238</td>\n",
       "      <td>BIM</td>\n",
       "      <td>140.0</td>\n",
       "      <td>2.0</td>\n",
       "      <td>0</td>\n",
       "      <td>0</td>\n",
       "      <td>0</td>\n",
       "      <td>NaN</td>\n",
       "    </tr>\n",
       "    <tr>\n",
       "      <th>2</th>\n",
       "      <td>10</td>\n",
       "      <td>2045</td>\n",
       "      <td>1</td>\n",
       "      <td>2831</td>\n",
       "      <td>4549769</td>\n",
       "      <td>32940</td>\n",
       "      <td>2163 LA PIEDAD</td>\n",
       "      <td>MICHOACAN</td>\n",
       "      <td>Principe Choc Bco 10p 110g Prom MTB MLA 32940</td>\n",
       "      <td>MTB MLA</td>\n",
       "      <td>110.0</td>\n",
       "      <td>10.0</td>\n",
       "      <td>0</td>\n",
       "      <td>0</td>\n",
       "      <td>0</td>\n",
       "      <td>NaN</td>\n",
       "    </tr>\n",
       "    <tr>\n",
       "      <th>3</th>\n",
       "      <td>11</td>\n",
       "      <td>1227</td>\n",
       "      <td>1</td>\n",
       "      <td>4448</td>\n",
       "      <td>4717855</td>\n",
       "      <td>43066</td>\n",
       "      <td>2066 TOLUCA PONIENTE</td>\n",
       "      <td>ESTADO DE MEXICO</td>\n",
       "      <td>Pay Pina 1p 85g MTB MLA 43066</td>\n",
       "      <td>MTB MLA</td>\n",
       "      <td>85.0</td>\n",
       "      <td>1.0</td>\n",
       "      <td>0</td>\n",
       "      <td>0</td>\n",
       "      <td>0</td>\n",
       "      <td>NaN</td>\n",
       "    </tr>\n",
       "    <tr>\n",
       "      <th>4</th>\n",
       "      <td>11</td>\n",
       "      <td>1219</td>\n",
       "      <td>1</td>\n",
       "      <td>1130</td>\n",
       "      <td>966351</td>\n",
       "      <td>1277</td>\n",
       "      <td>2042 AG. TEPOZOTLAN</td>\n",
       "      <td>ESTADO DE MEXICO</td>\n",
       "      <td>Nito Edicion Especial 62g BIM 1277</td>\n",
       "      <td>BIM</td>\n",
       "      <td>62.0</td>\n",
       "      <td>NaN</td>\n",
       "      <td>0</td>\n",
       "      <td>0</td>\n",
       "      <td>0</td>\n",
       "      <td>LOS PINITOS</td>\n",
       "    </tr>\n",
       "  </tbody>\n",
       "</table>\n",
       "</div>"
      ],
      "text/plain": [
       "    Semana  Agencia_ID  Canal_ID  Ruta_SAK  Cliente_ID  Producto_ID  \\\n",
       "id                                                                    \n",
       "0       11        4037         1      2209     4639078        35305   \n",
       "1       11        2237         1      1226     4705135         1238   \n",
       "2       10        2045         1      2831     4549769        32940   \n",
       "3       11        1227         1      4448     4717855        43066   \n",
       "4       11        1219         1      1130      966351         1277   \n",
       "\n",
       "                     Town             State  \\\n",
       "id                                            \n",
       "0   2499 REYNOSA MARINELA        TAMAULIPAS   \n",
       "1             2402 TUXTLA           CHIAPAS   \n",
       "2          2163 LA PIEDAD         MICHOACAN   \n",
       "3    2066 TOLUCA PONIENTE  ESTADO DE MEXICO   \n",
       "4     2042 AG. TEPOZOTLAN  ESTADO DE MEXICO   \n",
       "\n",
       "                                   NombreProducto    brand  weight  pieces  \\\n",
       "id                                                                           \n",
       "0           Barritas Fresa 75g Prom MTB MLA 35305  MTB MLA    75.0     NaN   \n",
       "1           Panquecito Gota Choc 2p 140g BIM 1238      BIM   140.0     2.0   \n",
       "2   Principe Choc Bco 10p 110g Prom MTB MLA 32940  MTB MLA   110.0    10.0   \n",
       "3                   Pay Pina 1p 85g MTB MLA 43066  MTB MLA    85.0     1.0   \n",
       "4              Nito Edicion Especial 62g BIM 1277      BIM    62.0     NaN   \n",
       "\n",
       "    Has_choco  Has_vanilla  Has_multigrano NombreCliente  \n",
       "id                                                        \n",
       "0           0            0               0           NaN  \n",
       "1           0            0               0           NaN  \n",
       "2           0            0               0           NaN  \n",
       "3           0            0               0           NaN  \n",
       "4           0            0               0   LOS PINITOS  "
      ]
     },
     "execution_count": 15,
     "metadata": {},
     "output_type": "execute_result"
    }
   ],
   "source": [
    "test = pd.read_csv('test_preprocessed.csv',index_col=0)\n",
    "print(test.shape)\n",
    "test.head()"
   ]
  },
  {
   "cell_type": "code",
   "execution_count": null,
   "metadata": {
    "collapsed": true
   },
   "outputs": [],
   "source": []
  }
 ],
 "metadata": {
  "anaconda-cloud": {},
  "kernelspec": {
   "display_name": "Python [Root]",
   "language": "python",
   "name": "Python [Root]"
  },
  "language_info": {
   "codemirror_mode": {
    "name": "ipython",
    "version": 2
   },
   "file_extension": ".py",
   "mimetype": "text/x-python",
   "name": "python",
   "nbconvert_exporter": "python",
   "pygments_lexer": "ipython2",
   "version": "2.7.12"
  }
 },
 "nbformat": 4,
 "nbformat_minor": 0
}
